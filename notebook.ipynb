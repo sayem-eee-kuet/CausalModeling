{
  "nbformat": 4,
  "nbformat_minor": 0,
  "metadata": {
    "accelerator": "GPU",
    "colab": {
      "name": "notebook.ipynb",
      "provenance": [],
      "collapsed_sections": [],
      "machine_shape": "hm",
      "include_colab_link": true
    },
    "interpreter": {
      "hash": "ec84d4245cc65d52d46f5d2982686ed4e9854a85d8d00cc2d5ea06e45078992b"
    },
    "kernelspec": {
      "display_name": "Python 3.8.8 64-bit ('.venv': venv)",
      "name": "python3"
    },
    "language_info": {
      "codemirror_mode": {
        "name": "ipython",
        "version": 3
      },
      "file_extension": ".py",
      "mimetype": "text/x-python",
      "name": "python",
      "nbconvert_exporter": "python",
      "pygments_lexer": "ipython3",
      "version": "3.8.8"
    },
    "orig_nbformat": 4,
    "widgets": {
      "application/vnd.jupyter.widget-state+json": {
        "24c20da1a86642518b56a3a261afa235": {
          "model_module": "@jupyter-widgets/controls",
          "model_name": "VBoxModel",
          "model_module_version": "1.5.0",
          "state": {
            "_view_name": "VBoxView",
            "_dom_classes": [
              "widget-interact"
            ],
            "_model_name": "VBoxModel",
            "_view_module": "@jupyter-widgets/controls",
            "_model_module_version": "1.5.0",
            "_view_count": null,
            "_view_module_version": "1.5.0",
            "box_style": "",
            "layout": "IPY_MODEL_94fdcba4febf413f9de9c4ff26f351c6",
            "_model_module": "@jupyter-widgets/controls",
            "children": [
              "IPY_MODEL_7f6fa3fe733c45f68b331c82ea1c83a1",
              "IPY_MODEL_34c18d193cb742c5bcd239ddb7b572ee"
            ]
          }
        },
        "94fdcba4febf413f9de9c4ff26f351c6": {
          "model_module": "@jupyter-widgets/base",
          "model_name": "LayoutModel",
          "model_module_version": "1.2.0",
          "state": {
            "_view_name": "LayoutView",
            "grid_template_rows": null,
            "right": null,
            "justify_content": null,
            "_view_module": "@jupyter-widgets/base",
            "overflow": null,
            "_model_module_version": "1.2.0",
            "_view_count": null,
            "flex_flow": null,
            "width": null,
            "min_width": null,
            "border": null,
            "align_items": null,
            "bottom": null,
            "_model_module": "@jupyter-widgets/base",
            "top": null,
            "grid_column": null,
            "overflow_y": null,
            "overflow_x": null,
            "grid_auto_flow": null,
            "grid_area": null,
            "grid_template_columns": null,
            "flex": null,
            "_model_name": "LayoutModel",
            "justify_items": null,
            "grid_row": null,
            "max_height": null,
            "align_content": null,
            "visibility": null,
            "align_self": null,
            "height": null,
            "min_height": null,
            "padding": null,
            "grid_auto_rows": null,
            "grid_gap": null,
            "max_width": null,
            "order": null,
            "_view_module_version": "1.2.0",
            "grid_template_areas": null,
            "object_position": null,
            "object_fit": null,
            "grid_auto_columns": null,
            "margin": null,
            "display": null,
            "left": null
          }
        },
        "7f6fa3fe733c45f68b331c82ea1c83a1": {
          "model_module": "@jupyter-widgets/controls",
          "model_name": "IntSliderModel",
          "model_module_version": "1.5.0",
          "state": {
            "_view_name": "IntSliderView",
            "style": "IPY_MODEL_83d96aa34d2e46dbb140c8b6b579dcca",
            "_dom_classes": [],
            "description": "x",
            "step": 1,
            "_model_name": "IntSliderModel",
            "orientation": "horizontal",
            "max": 128,
            "_view_module": "@jupyter-widgets/controls",
            "_model_module_version": "1.5.0",
            "value": 94,
            "_view_count": null,
            "disabled": false,
            "_view_module_version": "1.5.0",
            "min": 0,
            "continuous_update": true,
            "readout_format": "d",
            "description_tooltip": null,
            "readout": true,
            "_model_module": "@jupyter-widgets/controls",
            "layout": "IPY_MODEL_7a80008b5cf14f3d902c5dda8f27dc6f"
          }
        },
        "34c18d193cb742c5bcd239ddb7b572ee": {
          "model_module": "@jupyter-widgets/output",
          "model_name": "OutputModel",
          "model_module_version": "1.0.0",
          "state": {
            "_view_name": "OutputView",
            "msg_id": "",
            "_dom_classes": [],
            "_model_name": "OutputModel",
            "outputs": [
              {
                "output_type": "display_data",
                "data": {
                  "image/png": "iVBORw0KGgoAAAANSUhEUgAAAV0AAACmCAYAAAB5qlzZAAAABHNCSVQICAgIfAhkiAAAAAlwSFlzAAALEgAACxIB0t1+/AAAADh0RVh0U29mdHdhcmUAbWF0cGxvdGxpYiB2ZXJzaW9uMy4yLjIsIGh0dHA6Ly9tYXRwbG90bGliLm9yZy+WH4yJAAAC/UlEQVR4nO3ay27CMBBA0brq//+yu6rEAhClyU0an7OljyxGl7FhzDk/AGh8Hv0AACsRXYCQ6AKERBcgJLoAIdEFCH09e3GM4ftk7GrOOY74v2abvT2abZsuQEh0AUKiCxASXYCQ6AKERBcgJLoAIdEFCIkuQEh0AUKiCxASXYCQ6AKERBcgJLoAIdEFCIkuQEh0AUKiCxASXYCQ6AKERBcgJLoAIdEFCIkuQEh0AUKiCxASXYCQ6AKERBcgJLoAoa+jH+Aoc86Hr40xwieBbZntc7PpAoREFyC03PXCs6PXvZ9xHOO/+O1s/zDjLZsuQGi5Tfddr2wRNgZqr8zlFn/DbG/HpgsQEl2A0BLXC385gv3md30Ax1WZ7e3YdAFCS2y6t+/MW3zwAPAumy5AaIlNF67KKe7/sekChEQXILTc9cLPcWyPo5iv0nBVZns7Nl2A0HKb7h5sAZzBHqc4s709my5ASHQBQsteL2xxFHP04ozenW3z3LDpAoSW3XRf5d2fqzLbx7DpAoRsunfYALgqs308my5ASHQBQq4Xbjh6cSXm+ZxsugCh5Tdd2wBQsukChEQXICS6ACHRBQiJLkBIdAFCogsQEl2AkOgChEQXICS6ACHRBQiJLkBIdAFCogsQEl2AkOgChEQXICS6ACHRBQiJLkBIdAFCogsQEl2AkOgChEQXICS6ACHRBQiJLkBIdAFCogsQEl2AkOgChEQXICS6ACHRBQiJLkBIdAFCogsQEl2AkOgChEQXICS6ACHRBQiJLkBIdAFCogsQEl2AkOgChEQXICS6ACHRBQiJLkBIdAFCogsQEl2AkOgChEQXICS6ACHRBQiJLkBIdAFCogsQEl2AkOgChEQXICS6ACHRBQiJLkBIdAFCogsQEl2AkOgChEQXICS6ACHRBQiJLkBIdAFCogsQEl2AkOgChEQXICS6ACHRBQiJLkBIdAFCogsQEl2AkOgChEQXIDTmnEc/A8AybLoAIdEFCIkuQEh0AUKiCxASXYDQNyxTSHmHr5tTAAAAAElFTkSuQmCC\n",
                  "text/plain": "<Figure size 432x288 with 2 Axes>"
                },
                "metadata": {
                  "needs_background": "light"
                }
              }
            ],
            "_view_module": "@jupyter-widgets/output",
            "_model_module_version": "1.0.0",
            "_view_count": null,
            "_view_module_version": "1.0.0",
            "layout": "IPY_MODEL_902afbbaf34140198445b2c5cf96f4dc",
            "_model_module": "@jupyter-widgets/output"
          }
        },
        "83d96aa34d2e46dbb140c8b6b579dcca": {
          "model_module": "@jupyter-widgets/controls",
          "model_name": "SliderStyleModel",
          "model_module_version": "1.5.0",
          "state": {
            "_view_name": "StyleView",
            "handle_color": null,
            "_model_name": "SliderStyleModel",
            "description_width": "",
            "_view_module": "@jupyter-widgets/base",
            "_model_module_version": "1.5.0",
            "_view_count": null,
            "_view_module_version": "1.2.0",
            "_model_module": "@jupyter-widgets/controls"
          }
        },
        "7a80008b5cf14f3d902c5dda8f27dc6f": {
          "model_module": "@jupyter-widgets/base",
          "model_name": "LayoutModel",
          "model_module_version": "1.2.0",
          "state": {
            "_view_name": "LayoutView",
            "grid_template_rows": null,
            "right": null,
            "justify_content": null,
            "_view_module": "@jupyter-widgets/base",
            "overflow": null,
            "_model_module_version": "1.2.0",
            "_view_count": null,
            "flex_flow": null,
            "width": null,
            "min_width": null,
            "border": null,
            "align_items": null,
            "bottom": null,
            "_model_module": "@jupyter-widgets/base",
            "top": null,
            "grid_column": null,
            "overflow_y": null,
            "overflow_x": null,
            "grid_auto_flow": null,
            "grid_area": null,
            "grid_template_columns": null,
            "flex": null,
            "_model_name": "LayoutModel",
            "justify_items": null,
            "grid_row": null,
            "max_height": null,
            "align_content": null,
            "visibility": null,
            "align_self": null,
            "height": null,
            "min_height": null,
            "padding": null,
            "grid_auto_rows": null,
            "grid_gap": null,
            "max_width": null,
            "order": null,
            "_view_module_version": "1.2.0",
            "grid_template_areas": null,
            "object_position": null,
            "object_fit": null,
            "grid_auto_columns": null,
            "margin": null,
            "display": null,
            "left": null
          }
        },
        "902afbbaf34140198445b2c5cf96f4dc": {
          "model_module": "@jupyter-widgets/base",
          "model_name": "LayoutModel",
          "model_module_version": "1.2.0",
          "state": {
            "_view_name": "LayoutView",
            "grid_template_rows": null,
            "right": null,
            "justify_content": null,
            "_view_module": "@jupyter-widgets/base",
            "overflow": null,
            "_model_module_version": "1.2.0",
            "_view_count": null,
            "flex_flow": null,
            "width": null,
            "min_width": null,
            "border": null,
            "align_items": null,
            "bottom": null,
            "_model_module": "@jupyter-widgets/base",
            "top": null,
            "grid_column": null,
            "overflow_y": null,
            "overflow_x": null,
            "grid_auto_flow": null,
            "grid_area": null,
            "grid_template_columns": null,
            "flex": null,
            "_model_name": "LayoutModel",
            "justify_items": null,
            "grid_row": null,
            "max_height": null,
            "align_content": null,
            "visibility": null,
            "align_self": null,
            "height": null,
            "min_height": null,
            "padding": null,
            "grid_auto_rows": null,
            "grid_gap": null,
            "max_width": null,
            "order": null,
            "_view_module_version": "1.2.0",
            "grid_template_areas": null,
            "object_position": null,
            "object_fit": null,
            "grid_auto_columns": null,
            "margin": null,
            "display": null,
            "left": null
          }
        },
        "3d6d1fa26bc9455ab30749005a8a29c8": {
          "model_module": "@jupyter-widgets/controls",
          "model_name": "VBoxModel",
          "model_module_version": "1.5.0",
          "state": {
            "_view_name": "VBoxView",
            "_dom_classes": [
              "widget-interact"
            ],
            "_model_name": "VBoxModel",
            "_view_module": "@jupyter-widgets/controls",
            "_model_module_version": "1.5.0",
            "_view_count": null,
            "_view_module_version": "1.5.0",
            "box_style": "",
            "layout": "IPY_MODEL_740102f1d86f46389a298e3e29b96993",
            "_model_module": "@jupyter-widgets/controls",
            "children": [
              "IPY_MODEL_593fd8a394604ab999942783195779bc",
              "IPY_MODEL_53a284ad42514c5f942ab6c5441640c9",
              "IPY_MODEL_2a11def521f742d6b0b16e7d12683a70",
              "IPY_MODEL_9e0a1b900d5f4462bae2e51d309fd2a7",
              "IPY_MODEL_32f8326ce9104958b53995912dfee006",
              "IPY_MODEL_2b43ca51f55f4e0f9f84bf3d2d9a5f3f"
            ]
          }
        },
        "740102f1d86f46389a298e3e29b96993": {
          "model_module": "@jupyter-widgets/base",
          "model_name": "LayoutModel",
          "model_module_version": "1.2.0",
          "state": {
            "_view_name": "LayoutView",
            "grid_template_rows": null,
            "right": null,
            "justify_content": null,
            "_view_module": "@jupyter-widgets/base",
            "overflow": null,
            "_model_module_version": "1.2.0",
            "_view_count": null,
            "flex_flow": null,
            "width": null,
            "min_width": null,
            "border": null,
            "align_items": null,
            "bottom": null,
            "_model_module": "@jupyter-widgets/base",
            "top": null,
            "grid_column": null,
            "overflow_y": null,
            "overflow_x": null,
            "grid_auto_flow": null,
            "grid_area": null,
            "grid_template_columns": null,
            "flex": null,
            "_model_name": "LayoutModel",
            "justify_items": null,
            "grid_row": null,
            "max_height": null,
            "align_content": null,
            "visibility": null,
            "align_self": null,
            "height": null,
            "min_height": null,
            "padding": null,
            "grid_auto_rows": null,
            "grid_gap": null,
            "max_width": null,
            "order": null,
            "_view_module_version": "1.2.0",
            "grid_template_areas": null,
            "object_position": null,
            "object_fit": null,
            "grid_auto_columns": null,
            "margin": null,
            "display": null,
            "left": null
          }
        },
        "593fd8a394604ab999942783195779bc": {
          "model_module": "@jupyter-widgets/controls",
          "model_name": "IntSliderModel",
          "model_module_version": "1.5.0",
          "state": {
            "_view_name": "IntSliderView",
            "style": "IPY_MODEL_eaf783ab76344cf98c2ecc514eb5b551",
            "_dom_classes": [],
            "description": "shape",
            "step": 1,
            "_model_name": "IntSliderModel",
            "orientation": "horizontal",
            "max": 2,
            "_view_module": "@jupyter-widgets/controls",
            "_model_module_version": "1.5.0",
            "value": 0,
            "_view_count": null,
            "disabled": false,
            "_view_module_version": "1.5.0",
            "min": 0,
            "continuous_update": true,
            "readout_format": "d",
            "description_tooltip": null,
            "readout": true,
            "_model_module": "@jupyter-widgets/controls",
            "layout": "IPY_MODEL_66e55959ab3147859624d88cd53b2255"
          }
        },
        "53a284ad42514c5f942ab6c5441640c9": {
          "model_module": "@jupyter-widgets/controls",
          "model_name": "IntSliderModel",
          "model_module_version": "1.5.0",
          "state": {
            "_view_name": "IntSliderView",
            "style": "IPY_MODEL_a849a92410d44c6492d4b537f6cc5d5f",
            "_dom_classes": [],
            "description": "scale",
            "step": 1,
            "_model_name": "IntSliderModel",
            "orientation": "horizontal",
            "max": 5,
            "_view_module": "@jupyter-widgets/controls",
            "_model_module_version": "1.5.0",
            "value": 0,
            "_view_count": null,
            "disabled": false,
            "_view_module_version": "1.5.0",
            "min": 0,
            "continuous_update": true,
            "readout_format": "d",
            "description_tooltip": null,
            "readout": true,
            "_model_module": "@jupyter-widgets/controls",
            "layout": "IPY_MODEL_adcd7af59678408a8c69e1f3df9a0f83"
          }
        },
        "2a11def521f742d6b0b16e7d12683a70": {
          "model_module": "@jupyter-widgets/controls",
          "model_name": "IntSliderModel",
          "model_module_version": "1.5.0",
          "state": {
            "_view_name": "IntSliderView",
            "style": "IPY_MODEL_ef989ccdea904823b82c0b5da01709ba",
            "_dom_classes": [],
            "description": "orient",
            "step": 1,
            "_model_name": "IntSliderModel",
            "orientation": "horizontal",
            "max": 39,
            "_view_module": "@jupyter-widgets/controls",
            "_model_module_version": "1.5.0",
            "value": 0,
            "_view_count": null,
            "disabled": false,
            "_view_module_version": "1.5.0",
            "min": 0,
            "continuous_update": true,
            "readout_format": "d",
            "description_tooltip": null,
            "readout": true,
            "_model_module": "@jupyter-widgets/controls",
            "layout": "IPY_MODEL_307a613980314bf7ba738dba81a70a24"
          }
        },
        "9e0a1b900d5f4462bae2e51d309fd2a7": {
          "model_module": "@jupyter-widgets/controls",
          "model_name": "IntSliderModel",
          "model_module_version": "1.5.0",
          "state": {
            "_view_name": "IntSliderView",
            "style": "IPY_MODEL_a696862e157d45e385bcb22c2ef9c9f5",
            "_dom_classes": [],
            "description": "posX",
            "step": 1,
            "_model_name": "IntSliderModel",
            "orientation": "horizontal",
            "max": 31,
            "_view_module": "@jupyter-widgets/controls",
            "_model_module_version": "1.5.0",
            "value": 0,
            "_view_count": null,
            "disabled": false,
            "_view_module_version": "1.5.0",
            "min": 0,
            "continuous_update": true,
            "readout_format": "d",
            "description_tooltip": null,
            "readout": true,
            "_model_module": "@jupyter-widgets/controls",
            "layout": "IPY_MODEL_e325d319293f42dcbc71c05318b364ad"
          }
        },
        "32f8326ce9104958b53995912dfee006": {
          "model_module": "@jupyter-widgets/controls",
          "model_name": "IntSliderModel",
          "model_module_version": "1.5.0",
          "state": {
            "_view_name": "IntSliderView",
            "style": "IPY_MODEL_002c40c43f9e498ca448414c13855e52",
            "_dom_classes": [],
            "description": "posY",
            "step": 1,
            "_model_name": "IntSliderModel",
            "orientation": "horizontal",
            "max": 31,
            "_view_module": "@jupyter-widgets/controls",
            "_model_module_version": "1.5.0",
            "value": 0,
            "_view_count": null,
            "disabled": false,
            "_view_module_version": "1.5.0",
            "min": 0,
            "continuous_update": true,
            "readout_format": "d",
            "description_tooltip": null,
            "readout": true,
            "_model_module": "@jupyter-widgets/controls",
            "layout": "IPY_MODEL_3f0da815704c44928ce0f7a3c7163558"
          }
        },
        "2b43ca51f55f4e0f9f84bf3d2d9a5f3f": {
          "model_module": "@jupyter-widgets/output",
          "model_name": "OutputModel",
          "model_module_version": "1.0.0",
          "state": {
            "_view_name": "OutputView",
            "msg_id": "",
            "_dom_classes": [],
            "_model_name": "OutputModel",
            "outputs": [
              {
                "output_type": "error",
                "ename": "KeyError",
                "evalue": "ignored",
                "traceback": [
                  "\u001b[0;31m---------------------------------------------------------------------------\u001b[0m",
                  "\u001b[0;31mKeyError\u001b[0m                                  Traceback (most recent call last)",
                  "\u001b[0;32m/usr/local/lib/python3.7/dist-packages/ipywidgets/widgets/interaction.py\u001b[0m in \u001b[0;36mupdate\u001b[0;34m(self, *args)\u001b[0m\n\u001b[1;32m    255\u001b[0m                     \u001b[0mvalue\u001b[0m \u001b[0;34m=\u001b[0m \u001b[0mwidget\u001b[0m\u001b[0;34m.\u001b[0m\u001b[0mget_interact_value\u001b[0m\u001b[0;34m(\u001b[0m\u001b[0;34m)\u001b[0m\u001b[0;34m\u001b[0m\u001b[0;34m\u001b[0m\u001b[0m\n\u001b[1;32m    256\u001b[0m                     \u001b[0mself\u001b[0m\u001b[0;34m.\u001b[0m\u001b[0mkwargs\u001b[0m\u001b[0;34m[\u001b[0m\u001b[0mwidget\u001b[0m\u001b[0;34m.\u001b[0m\u001b[0m_kwarg\u001b[0m\u001b[0;34m]\u001b[0m \u001b[0;34m=\u001b[0m \u001b[0mvalue\u001b[0m\u001b[0;34m\u001b[0m\u001b[0;34m\u001b[0m\u001b[0m\n\u001b[0;32m--> 257\u001b[0;31m                 \u001b[0mself\u001b[0m\u001b[0;34m.\u001b[0m\u001b[0mresult\u001b[0m \u001b[0;34m=\u001b[0m \u001b[0mself\u001b[0m\u001b[0;34m.\u001b[0m\u001b[0mf\u001b[0m\u001b[0;34m(\u001b[0m\u001b[0;34m**\u001b[0m\u001b[0mself\u001b[0m\u001b[0;34m.\u001b[0m\u001b[0mkwargs\u001b[0m\u001b[0;34m)\u001b[0m\u001b[0;34m\u001b[0m\u001b[0;34m\u001b[0m\u001b[0m\n\u001b[0m\u001b[1;32m    258\u001b[0m                 \u001b[0mshow_inline_matplotlib_plots\u001b[0m\u001b[0;34m(\u001b[0m\u001b[0;34m)\u001b[0m\u001b[0;34m\u001b[0m\u001b[0;34m\u001b[0m\u001b[0m\n\u001b[1;32m    259\u001b[0m                 \u001b[0;32mif\u001b[0m \u001b[0mself\u001b[0m\u001b[0;34m.\u001b[0m\u001b[0mauto_display\u001b[0m \u001b[0;32mand\u001b[0m \u001b[0mself\u001b[0m\u001b[0;34m.\u001b[0m\u001b[0mresult\u001b[0m \u001b[0;32mis\u001b[0m \u001b[0;32mnot\u001b[0m \u001b[0;32mNone\u001b[0m\u001b[0;34m:\u001b[0m\u001b[0;34m\u001b[0m\u001b[0;34m\u001b[0m\u001b[0m\n",
                  "\u001b[0;32m<ipython-input-34-19894934f3bc>\u001b[0m in \u001b[0;36mfind_in_dataset\u001b[0;34m(shape, scale, orient, posX, posY)\u001b[0m\n\u001b[1;32m     10\u001b[0m \u001b[0;32mdef\u001b[0m \u001b[0mfind_in_dataset\u001b[0m\u001b[0;34m(\u001b[0m\u001b[0mshape\u001b[0m\u001b[0;34m,\u001b[0m \u001b[0mscale\u001b[0m\u001b[0;34m,\u001b[0m \u001b[0morient\u001b[0m\u001b[0;34m,\u001b[0m \u001b[0mposX\u001b[0m\u001b[0;34m,\u001b[0m \u001b[0mposY\u001b[0m\u001b[0;34m)\u001b[0m\u001b[0;34m:\u001b[0m\u001b[0;34m\u001b[0m\u001b[0;34m\u001b[0m\u001b[0m\n\u001b[1;32m     11\u001b[0m     \u001b[0mfig\u001b[0m \u001b[0;34m=\u001b[0m \u001b[0mplt\u001b[0m\u001b[0;34m.\u001b[0m\u001b[0mfigure\u001b[0m\u001b[0;34m(\u001b[0m\u001b[0;34m)\u001b[0m\u001b[0;34m\u001b[0m\u001b[0;34m\u001b[0m\u001b[0m\n\u001b[0;32m---> 12\u001b[0;31m     \u001b[0mimg\u001b[0m \u001b[0;34m=\u001b[0m \u001b[0mimg_dict\u001b[0m\u001b[0;34m[\u001b[0m\u001b[0;34m(\u001b[0m\u001b[0;36m0\u001b[0m\u001b[0;34m,\u001b[0m \u001b[0mshape\u001b[0m\u001b[0;34m,\u001b[0m \u001b[0mscale\u001b[0m\u001b[0;34m,\u001b[0m \u001b[0morient\u001b[0m\u001b[0;34m,\u001b[0m \u001b[0mposX\u001b[0m\u001b[0;34m,\u001b[0m \u001b[0mposY\u001b[0m\u001b[0;34m)\u001b[0m\u001b[0;34m]\u001b[0m\u001b[0;34m\u001b[0m\u001b[0;34m\u001b[0m\u001b[0m\n\u001b[0m\u001b[1;32m     13\u001b[0m     \u001b[0mplt\u001b[0m\u001b[0;34m.\u001b[0m\u001b[0mimshow\u001b[0m\u001b[0;34m(\u001b[0m\u001b[0mimg\u001b[0m\u001b[0;34m.\u001b[0m\u001b[0mreshape\u001b[0m\u001b[0;34m(\u001b[0m\u001b[0;36m64\u001b[0m\u001b[0;34m,\u001b[0m\u001b[0;36m64\u001b[0m\u001b[0;34m)\u001b[0m\u001b[0;34m,\u001b[0m \u001b[0mcmap\u001b[0m\u001b[0;34m=\u001b[0m\u001b[0;34m'Greys_r'\u001b[0m\u001b[0;34m,\u001b[0m \u001b[0minterpolation\u001b[0m\u001b[0;34m=\u001b[0m\u001b[0;34m'nearest'\u001b[0m\u001b[0;34m)\u001b[0m\u001b[0;34m\u001b[0m\u001b[0;34m\u001b[0m\u001b[0m\n\u001b[1;32m     14\u001b[0m     \u001b[0mplt\u001b[0m\u001b[0;34m.\u001b[0m\u001b[0maxis\u001b[0m\u001b[0;34m(\u001b[0m\u001b[0;34m'off'\u001b[0m\u001b[0;34m)\u001b[0m\u001b[0;34m\u001b[0m\u001b[0;34m\u001b[0m\u001b[0m\n",
                  "\u001b[0;31mKeyError\u001b[0m: (0, 0, 0, 0, 0, 0)"
                ]
              }
            ],
            "_view_module": "@jupyter-widgets/output",
            "_model_module_version": "1.0.0",
            "_view_count": null,
            "_view_module_version": "1.0.0",
            "layout": "IPY_MODEL_ae5f97c9c25346ebbcbe382415667ff7",
            "_model_module": "@jupyter-widgets/output"
          }
        },
        "eaf783ab76344cf98c2ecc514eb5b551": {
          "model_module": "@jupyter-widgets/controls",
          "model_name": "SliderStyleModel",
          "model_module_version": "1.5.0",
          "state": {
            "_view_name": "StyleView",
            "handle_color": null,
            "_model_name": "SliderStyleModel",
            "description_width": "",
            "_view_module": "@jupyter-widgets/base",
            "_model_module_version": "1.5.0",
            "_view_count": null,
            "_view_module_version": "1.2.0",
            "_model_module": "@jupyter-widgets/controls"
          }
        },
        "66e55959ab3147859624d88cd53b2255": {
          "model_module": "@jupyter-widgets/base",
          "model_name": "LayoutModel",
          "model_module_version": "1.2.0",
          "state": {
            "_view_name": "LayoutView",
            "grid_template_rows": null,
            "right": null,
            "justify_content": null,
            "_view_module": "@jupyter-widgets/base",
            "overflow": null,
            "_model_module_version": "1.2.0",
            "_view_count": null,
            "flex_flow": null,
            "width": null,
            "min_width": null,
            "border": null,
            "align_items": null,
            "bottom": null,
            "_model_module": "@jupyter-widgets/base",
            "top": null,
            "grid_column": null,
            "overflow_y": null,
            "overflow_x": null,
            "grid_auto_flow": null,
            "grid_area": null,
            "grid_template_columns": null,
            "flex": null,
            "_model_name": "LayoutModel",
            "justify_items": null,
            "grid_row": null,
            "max_height": null,
            "align_content": null,
            "visibility": null,
            "align_self": null,
            "height": null,
            "min_height": null,
            "padding": null,
            "grid_auto_rows": null,
            "grid_gap": null,
            "max_width": null,
            "order": null,
            "_view_module_version": "1.2.0",
            "grid_template_areas": null,
            "object_position": null,
            "object_fit": null,
            "grid_auto_columns": null,
            "margin": null,
            "display": null,
            "left": null
          }
        },
        "a849a92410d44c6492d4b537f6cc5d5f": {
          "model_module": "@jupyter-widgets/controls",
          "model_name": "SliderStyleModel",
          "model_module_version": "1.5.0",
          "state": {
            "_view_name": "StyleView",
            "handle_color": null,
            "_model_name": "SliderStyleModel",
            "description_width": "",
            "_view_module": "@jupyter-widgets/base",
            "_model_module_version": "1.5.0",
            "_view_count": null,
            "_view_module_version": "1.2.0",
            "_model_module": "@jupyter-widgets/controls"
          }
        },
        "adcd7af59678408a8c69e1f3df9a0f83": {
          "model_module": "@jupyter-widgets/base",
          "model_name": "LayoutModel",
          "model_module_version": "1.2.0",
          "state": {
            "_view_name": "LayoutView",
            "grid_template_rows": null,
            "right": null,
            "justify_content": null,
            "_view_module": "@jupyter-widgets/base",
            "overflow": null,
            "_model_module_version": "1.2.0",
            "_view_count": null,
            "flex_flow": null,
            "width": null,
            "min_width": null,
            "border": null,
            "align_items": null,
            "bottom": null,
            "_model_module": "@jupyter-widgets/base",
            "top": null,
            "grid_column": null,
            "overflow_y": null,
            "overflow_x": null,
            "grid_auto_flow": null,
            "grid_area": null,
            "grid_template_columns": null,
            "flex": null,
            "_model_name": "LayoutModel",
            "justify_items": null,
            "grid_row": null,
            "max_height": null,
            "align_content": null,
            "visibility": null,
            "align_self": null,
            "height": null,
            "min_height": null,
            "padding": null,
            "grid_auto_rows": null,
            "grid_gap": null,
            "max_width": null,
            "order": null,
            "_view_module_version": "1.2.0",
            "grid_template_areas": null,
            "object_position": null,
            "object_fit": null,
            "grid_auto_columns": null,
            "margin": null,
            "display": null,
            "left": null
          }
        },
        "ef989ccdea904823b82c0b5da01709ba": {
          "model_module": "@jupyter-widgets/controls",
          "model_name": "SliderStyleModel",
          "model_module_version": "1.5.0",
          "state": {
            "_view_name": "StyleView",
            "handle_color": null,
            "_model_name": "SliderStyleModel",
            "description_width": "",
            "_view_module": "@jupyter-widgets/base",
            "_model_module_version": "1.5.0",
            "_view_count": null,
            "_view_module_version": "1.2.0",
            "_model_module": "@jupyter-widgets/controls"
          }
        },
        "307a613980314bf7ba738dba81a70a24": {
          "model_module": "@jupyter-widgets/base",
          "model_name": "LayoutModel",
          "model_module_version": "1.2.0",
          "state": {
            "_view_name": "LayoutView",
            "grid_template_rows": null,
            "right": null,
            "justify_content": null,
            "_view_module": "@jupyter-widgets/base",
            "overflow": null,
            "_model_module_version": "1.2.0",
            "_view_count": null,
            "flex_flow": null,
            "width": null,
            "min_width": null,
            "border": null,
            "align_items": null,
            "bottom": null,
            "_model_module": "@jupyter-widgets/base",
            "top": null,
            "grid_column": null,
            "overflow_y": null,
            "overflow_x": null,
            "grid_auto_flow": null,
            "grid_area": null,
            "grid_template_columns": null,
            "flex": null,
            "_model_name": "LayoutModel",
            "justify_items": null,
            "grid_row": null,
            "max_height": null,
            "align_content": null,
            "visibility": null,
            "align_self": null,
            "height": null,
            "min_height": null,
            "padding": null,
            "grid_auto_rows": null,
            "grid_gap": null,
            "max_width": null,
            "order": null,
            "_view_module_version": "1.2.0",
            "grid_template_areas": null,
            "object_position": null,
            "object_fit": null,
            "grid_auto_columns": null,
            "margin": null,
            "display": null,
            "left": null
          }
        },
        "a696862e157d45e385bcb22c2ef9c9f5": {
          "model_module": "@jupyter-widgets/controls",
          "model_name": "SliderStyleModel",
          "model_module_version": "1.5.0",
          "state": {
            "_view_name": "StyleView",
            "handle_color": null,
            "_model_name": "SliderStyleModel",
            "description_width": "",
            "_view_module": "@jupyter-widgets/base",
            "_model_module_version": "1.5.0",
            "_view_count": null,
            "_view_module_version": "1.2.0",
            "_model_module": "@jupyter-widgets/controls"
          }
        },
        "e325d319293f42dcbc71c05318b364ad": {
          "model_module": "@jupyter-widgets/base",
          "model_name": "LayoutModel",
          "model_module_version": "1.2.0",
          "state": {
            "_view_name": "LayoutView",
            "grid_template_rows": null,
            "right": null,
            "justify_content": null,
            "_view_module": "@jupyter-widgets/base",
            "overflow": null,
            "_model_module_version": "1.2.0",
            "_view_count": null,
            "flex_flow": null,
            "width": null,
            "min_width": null,
            "border": null,
            "align_items": null,
            "bottom": null,
            "_model_module": "@jupyter-widgets/base",
            "top": null,
            "grid_column": null,
            "overflow_y": null,
            "overflow_x": null,
            "grid_auto_flow": null,
            "grid_area": null,
            "grid_template_columns": null,
            "flex": null,
            "_model_name": "LayoutModel",
            "justify_items": null,
            "grid_row": null,
            "max_height": null,
            "align_content": null,
            "visibility": null,
            "align_self": null,
            "height": null,
            "min_height": null,
            "padding": null,
            "grid_auto_rows": null,
            "grid_gap": null,
            "max_width": null,
            "order": null,
            "_view_module_version": "1.2.0",
            "grid_template_areas": null,
            "object_position": null,
            "object_fit": null,
            "grid_auto_columns": null,
            "margin": null,
            "display": null,
            "left": null
          }
        },
        "002c40c43f9e498ca448414c13855e52": {
          "model_module": "@jupyter-widgets/controls",
          "model_name": "SliderStyleModel",
          "model_module_version": "1.5.0",
          "state": {
            "_view_name": "StyleView",
            "handle_color": null,
            "_model_name": "SliderStyleModel",
            "description_width": "",
            "_view_module": "@jupyter-widgets/base",
            "_model_module_version": "1.5.0",
            "_view_count": null,
            "_view_module_version": "1.2.0",
            "_model_module": "@jupyter-widgets/controls"
          }
        },
        "3f0da815704c44928ce0f7a3c7163558": {
          "model_module": "@jupyter-widgets/base",
          "model_name": "LayoutModel",
          "model_module_version": "1.2.0",
          "state": {
            "_view_name": "LayoutView",
            "grid_template_rows": null,
            "right": null,
            "justify_content": null,
            "_view_module": "@jupyter-widgets/base",
            "overflow": null,
            "_model_module_version": "1.2.0",
            "_view_count": null,
            "flex_flow": null,
            "width": null,
            "min_width": null,
            "border": null,
            "align_items": null,
            "bottom": null,
            "_model_module": "@jupyter-widgets/base",
            "top": null,
            "grid_column": null,
            "overflow_y": null,
            "overflow_x": null,
            "grid_auto_flow": null,
            "grid_area": null,
            "grid_template_columns": null,
            "flex": null,
            "_model_name": "LayoutModel",
            "justify_items": null,
            "grid_row": null,
            "max_height": null,
            "align_content": null,
            "visibility": null,
            "align_self": null,
            "height": null,
            "min_height": null,
            "padding": null,
            "grid_auto_rows": null,
            "grid_gap": null,
            "max_width": null,
            "order": null,
            "_view_module_version": "1.2.0",
            "grid_template_areas": null,
            "object_position": null,
            "object_fit": null,
            "grid_auto_columns": null,
            "margin": null,
            "display": null,
            "left": null
          }
        },
        "ae5f97c9c25346ebbcbe382415667ff7": {
          "model_module": "@jupyter-widgets/base",
          "model_name": "LayoutModel",
          "model_module_version": "1.2.0",
          "state": {
            "_view_name": "LayoutView",
            "grid_template_rows": null,
            "right": null,
            "justify_content": null,
            "_view_module": "@jupyter-widgets/base",
            "overflow": null,
            "_model_module_version": "1.2.0",
            "_view_count": null,
            "flex_flow": null,
            "width": null,
            "min_width": null,
            "border": null,
            "align_items": null,
            "bottom": null,
            "_model_module": "@jupyter-widgets/base",
            "top": null,
            "grid_column": null,
            "overflow_y": null,
            "overflow_x": null,
            "grid_auto_flow": null,
            "grid_area": null,
            "grid_template_columns": null,
            "flex": null,
            "_model_name": "LayoutModel",
            "justify_items": null,
            "grid_row": null,
            "max_height": null,
            "align_content": null,
            "visibility": null,
            "align_self": null,
            "height": null,
            "min_height": null,
            "padding": null,
            "grid_auto_rows": null,
            "grid_gap": null,
            "max_width": null,
            "order": null,
            "_view_module_version": "1.2.0",
            "grid_template_areas": null,
            "object_position": null,
            "object_fit": null,
            "grid_auto_columns": null,
            "margin": null,
            "display": null,
            "left": null
          }
        }
      }
    }
  },
  "cells": [
    {
      "cell_type": "markdown",
      "metadata": {
        "id": "view-in-github",
        "colab_type": "text"
      },
      "source": [
        "<a href=\"https://colab.research.google.com/github/sayem-eee-kuet/CausalModeling/blob/main/notebook.ipynb\" target=\"_parent\"><img src=\"https://colab.research.google.com/assets/colab-badge.svg\" alt=\"Open In Colab\"/></a>"
      ]
    },
    {
      "cell_type": "code",
      "metadata": {
        "colab": {
          "base_uri": "https://localhost:8080/"
        },
        "id": "w74YRZgkdFRs",
        "outputId": "413e41f2-cb48-46e2-a2e6-1c2143611c8b"
      },
      "source": [
        "from google.colab import drive\n",
        "drive.mount('/content/drive')\n"
      ],
      "execution_count": 1,
      "outputs": [
        {
          "output_type": "stream",
          "name": "stdout",
          "text": [
            "Mounted at /content/drive\n"
          ]
        }
      ]
    },
    {
      "cell_type": "code",
      "metadata": {
        "colab": {
          "base_uri": "https://localhost:8080/"
        },
        "id": "xLJReHOHd-je",
        "outputId": "1785cc78-4ec3-4d54-fe0c-fcc786288847"
      },
      "source": [
        "!pip3 install pyro-ppl"
      ],
      "execution_count": 3,
      "outputs": [
        {
          "output_type": "stream",
          "name": "stdout",
          "text": [
            "Collecting pyro-ppl\n",
            "  Downloading pyro_ppl-1.7.0-py3-none-any.whl (678 kB)\n",
            "\u001b[?25l\r\u001b[K     |▌                               | 10 kB 37.4 MB/s eta 0:00:01\r\u001b[K     |█                               | 20 kB 26.0 MB/s eta 0:00:01\r\u001b[K     |█▌                              | 30 kB 17.3 MB/s eta 0:00:01\r\u001b[K     |██                              | 40 kB 15.6 MB/s eta 0:00:01\r\u001b[K     |██▍                             | 51 kB 7.0 MB/s eta 0:00:01\r\u001b[K     |███                             | 61 kB 8.3 MB/s eta 0:00:01\r\u001b[K     |███▍                            | 71 kB 8.0 MB/s eta 0:00:01\r\u001b[K     |███▉                            | 81 kB 8.9 MB/s eta 0:00:01\r\u001b[K     |████▍                           | 92 kB 9.4 MB/s eta 0:00:01\r\u001b[K     |████▉                           | 102 kB 7.1 MB/s eta 0:00:01\r\u001b[K     |█████▎                          | 112 kB 7.1 MB/s eta 0:00:01\r\u001b[K     |█████▉                          | 122 kB 7.1 MB/s eta 0:00:01\r\u001b[K     |██████▎                         | 133 kB 7.1 MB/s eta 0:00:01\r\u001b[K     |██████▊                         | 143 kB 7.1 MB/s eta 0:00:01\r\u001b[K     |███████▎                        | 153 kB 7.1 MB/s eta 0:00:01\r\u001b[K     |███████▊                        | 163 kB 7.1 MB/s eta 0:00:01\r\u001b[K     |████████▏                       | 174 kB 7.1 MB/s eta 0:00:01\r\u001b[K     |████████▊                       | 184 kB 7.1 MB/s eta 0:00:01\r\u001b[K     |█████████▏                      | 194 kB 7.1 MB/s eta 0:00:01\r\u001b[K     |█████████▋                      | 204 kB 7.1 MB/s eta 0:00:01\r\u001b[K     |██████████▏                     | 215 kB 7.1 MB/s eta 0:00:01\r\u001b[K     |██████████▋                     | 225 kB 7.1 MB/s eta 0:00:01\r\u001b[K     |███████████                     | 235 kB 7.1 MB/s eta 0:00:01\r\u001b[K     |███████████▋                    | 245 kB 7.1 MB/s eta 0:00:01\r\u001b[K     |████████████                    | 256 kB 7.1 MB/s eta 0:00:01\r\u001b[K     |████████████▌                   | 266 kB 7.1 MB/s eta 0:00:01\r\u001b[K     |█████████████                   | 276 kB 7.1 MB/s eta 0:00:01\r\u001b[K     |█████████████▌                  | 286 kB 7.1 MB/s eta 0:00:01\r\u001b[K     |██████████████                  | 296 kB 7.1 MB/s eta 0:00:01\r\u001b[K     |██████████████▌                 | 307 kB 7.1 MB/s eta 0:00:01\r\u001b[K     |███████████████                 | 317 kB 7.1 MB/s eta 0:00:01\r\u001b[K     |███████████████▌                | 327 kB 7.1 MB/s eta 0:00:01\r\u001b[K     |████████████████                | 337 kB 7.1 MB/s eta 0:00:01\r\u001b[K     |████████████████▍               | 348 kB 7.1 MB/s eta 0:00:01\r\u001b[K     |█████████████████               | 358 kB 7.1 MB/s eta 0:00:01\r\u001b[K     |█████████████████▍              | 368 kB 7.1 MB/s eta 0:00:01\r\u001b[K     |█████████████████▉              | 378 kB 7.1 MB/s eta 0:00:01\r\u001b[K     |██████████████████▍             | 389 kB 7.1 MB/s eta 0:00:01\r\u001b[K     |██████████████████▉             | 399 kB 7.1 MB/s eta 0:00:01\r\u001b[K     |███████████████████▎            | 409 kB 7.1 MB/s eta 0:00:01\r\u001b[K     |███████████████████▉            | 419 kB 7.1 MB/s eta 0:00:01\r\u001b[K     |████████████████████▎           | 430 kB 7.1 MB/s eta 0:00:01\r\u001b[K     |████████████████████▊           | 440 kB 7.1 MB/s eta 0:00:01\r\u001b[K     |█████████████████████▎          | 450 kB 7.1 MB/s eta 0:00:01\r\u001b[K     |█████████████████████▊          | 460 kB 7.1 MB/s eta 0:00:01\r\u001b[K     |██████████████████████▏         | 471 kB 7.1 MB/s eta 0:00:01\r\u001b[K     |██████████████████████▊         | 481 kB 7.1 MB/s eta 0:00:01\r\u001b[K     |███████████████████████▏        | 491 kB 7.1 MB/s eta 0:00:01\r\u001b[K     |███████████████████████▋        | 501 kB 7.1 MB/s eta 0:00:01\r\u001b[K     |████████████████████████▏       | 512 kB 7.1 MB/s eta 0:00:01\r\u001b[K     |████████████████████████▋       | 522 kB 7.1 MB/s eta 0:00:01\r\u001b[K     |█████████████████████████       | 532 kB 7.1 MB/s eta 0:00:01\r\u001b[K     |█████████████████████████▋      | 542 kB 7.1 MB/s eta 0:00:01\r\u001b[K     |██████████████████████████      | 552 kB 7.1 MB/s eta 0:00:01\r\u001b[K     |██████████████████████████▌     | 563 kB 7.1 MB/s eta 0:00:01\r\u001b[K     |███████████████████████████     | 573 kB 7.1 MB/s eta 0:00:01\r\u001b[K     |███████████████████████████▌    | 583 kB 7.1 MB/s eta 0:00:01\r\u001b[K     |████████████████████████████    | 593 kB 7.1 MB/s eta 0:00:01\r\u001b[K     |████████████████████████████▌   | 604 kB 7.1 MB/s eta 0:00:01\r\u001b[K     |█████████████████████████████   | 614 kB 7.1 MB/s eta 0:00:01\r\u001b[K     |█████████████████████████████▍  | 624 kB 7.1 MB/s eta 0:00:01\r\u001b[K     |██████████████████████████████  | 634 kB 7.1 MB/s eta 0:00:01\r\u001b[K     |██████████████████████████████▍ | 645 kB 7.1 MB/s eta 0:00:01\r\u001b[K     |███████████████████████████████ | 655 kB 7.1 MB/s eta 0:00:01\r\u001b[K     |███████████████████████████████▍| 665 kB 7.1 MB/s eta 0:00:01\r\u001b[K     |███████████████████████████████▉| 675 kB 7.1 MB/s eta 0:00:01\r\u001b[K     |████████████████████████████████| 678 kB 7.1 MB/s \n",
            "\u001b[?25hRequirement already satisfied: tqdm>=4.36 in /usr/local/lib/python3.7/dist-packages (from pyro-ppl) (4.62.3)\n",
            "Requirement already satisfied: torch>=1.9.0 in /usr/local/lib/python3.7/dist-packages (from pyro-ppl) (1.10.0+cu111)\n",
            "Requirement already satisfied: opt-einsum>=2.3.2 in /usr/local/lib/python3.7/dist-packages (from pyro-ppl) (3.3.0)\n",
            "Requirement already satisfied: numpy>=1.7 in /usr/local/lib/python3.7/dist-packages (from pyro-ppl) (1.19.5)\n",
            "Collecting pyro-api>=0.1.1\n",
            "  Downloading pyro_api-0.1.2-py3-none-any.whl (11 kB)\n",
            "Requirement already satisfied: typing-extensions in /usr/local/lib/python3.7/dist-packages (from torch>=1.9.0->pyro-ppl) (3.10.0.2)\n",
            "Installing collected packages: pyro-api, pyro-ppl\n",
            "Successfully installed pyro-api-0.1.2 pyro-ppl-1.7.0\n"
          ]
        }
      ]
    },
    {
      "cell_type": "code",
      "metadata": {
        "colab": {
          "base_uri": "https://localhost:8080/"
        },
        "id": "JOMILfYxcw4e",
        "outputId": "eeff369f-8ea3-430d-e249-344c1557c78f"
      },
      "source": [
        "import torch\n",
        "print(torch.__version__)\n",
        "import torch.nn as nn\n",
        "import torchvision\n",
        "import torchvision.datasets as datasets\n",
        "from torchvision import datasets, transforms\n",
        "import pyro\n",
        "from pyro.nn import pyro_method\n",
        "import pyro.distributions as dist\n",
        "import pyro.distributions.transforms as T\n",
        "import numpy as np\n",
        "import matplotlib.pyplot as plt\n",
        "import seaborn as sns\n",
        "import os\n",
        "from collections import defaultdict\n",
        "smoke_test = ('CI' in os.environ)\n",
        "\n",
        "\n",
        "import pyro.distributions as dist\n",
        "from pyro.infer import SVI, Trace_ELBO, TraceEnum_ELBO, config_enumerate, EmpiricalMarginal\n",
        "from pyro.optim import Adam, SGD\n",
        "import torch.distributions.constraints as constraints"
      ],
      "execution_count": 4,
      "outputs": [
        {
          "output_type": "stream",
          "name": "stdout",
          "text": [
            "1.10.0+cu111\n"
          ]
        }
      ]
    },
    {
      "cell_type": "code",
      "metadata": {
        "id": "vxy4tVB1Ibwn"
      },
      "source": [
        "from pyro.distributions import (\n",
        "    Bernoulli, Beta, Gamma, Independent, MultivariateNormal,\n",
        "    Normal, TorchDistribution, LowRankMultivariateNormal\n",
        ")"
      ],
      "execution_count": 5,
      "outputs": []
    },
    {
      "cell_type": "code",
      "metadata": {
        "id": "eCe835jTcw4i"
      },
      "source": [
        "# import tensorflow as tf\n",
        "# tf.test.gpu_device_name()\n",
        "\n",
        "# !ln -sf /opt/bin/nvidia-smi /usr/bin/nvidia-smi\n",
        "# !pip install gputil\n",
        "# !pip install psutil\n",
        "# !pip install humanize"
      ],
      "execution_count": null,
      "outputs": []
    },
    {
      "cell_type": "code",
      "metadata": {
        "id": "NitS2m0-cw4j"
      },
      "source": [
        "# import psutil\n",
        "# import humanize\n",
        "# import os\n",
        "# import GPUtil as GPU\n",
        "# GPUs = GPU.getGPUs()\n",
        "# print(list(GPUs))\n",
        "# # XXX: only one GPU on Colab and isn’t guaranteed\n",
        "# gpu = GPUs[:]\n",
        "# def printm():\n",
        "#  process = psutil.Process(os.getpid())\n",
        "#  print(\"Gen RAM Free: \" + humanize.naturalsize( psutil.virtual_memory().available ), \" | Proc size: \" + humanize.naturalsize( process.memory_info().rss))\n",
        "#  print(\"GPU RAM Free: {0:.0f}MB | Used: {1:.0f}MB | Util {2:3.0f}% | Total {3:.0f}MB\".format(gpu.memoryFree, gpu.memoryUsed, gpu.memoryUtil*100, gpu.memoryTotal))\n",
        "# printm()"
      ],
      "execution_count": null,
      "outputs": []
    },
    {
      "cell_type": "code",
      "metadata": {
        "id": "fT1DZZa3cw4k"
      },
      "source": [
        "from ipywidgets import interact, interactive, fixed, interact_manual\n",
        "import ipywidgets as widgets\n",
        "from tqdm import tqdm"
      ],
      "execution_count": 6,
      "outputs": []
    },
    {
      "cell_type": "code",
      "metadata": {
        "id": "0rqzJJI2cw4k"
      },
      "source": [
        "USE_CUDA = True"
      ],
      "execution_count": 7,
      "outputs": []
    },
    {
      "cell_type": "markdown",
      "metadata": {
        "id": "ovqtSelycw4l"
      },
      "source": [
        "## Data Loading"
      ]
    },
    {
      "cell_type": "code",
      "metadata": {
        "colab": {
          "base_uri": "https://localhost:8080/"
        },
        "id": "ln4BDuqKcw4m",
        "outputId": "a1890d21-536e-4d9c-c88d-09782317bf0f"
      },
      "source": [
        "datapath = '/content/drive/MyDrive/Colab Notebooks/CausalVAE/datasets/dsprites_ndarray_co1sh3sc6or40x32y32_64x64.npz'\n",
        "# datapath = '/media/sayem/Drive_2/Code/datasets/dsprites_ndarray_co1sh3sc6or40x32y32_64x64.npz'\n",
        "dataset_zip = np.load(datapath,\n",
        "                      encoding = 'bytes', \n",
        "                      allow_pickle=True\n",
        "                      )\n",
        "                      \n",
        "for i, name in enumerate(dataset_zip.keys()):\n",
        "    print(name, type(name))\n",
        "\n",
        "# imgs = dataset_zip['imgs']\n",
        "# print(igms.shape)\n",
        "# labels = dataset_zip['latents_classes']\n",
        "# label_sizes = dataset_zip['metadata'][()][b'latents_sizes']\n",
        "# label_names = dataset_zip['metadata'][()][b'latents_names']"
      ],
      "execution_count": 8,
      "outputs": [
        {
          "output_type": "stream",
          "name": "stdout",
          "text": [
            "metadata <class 'str'>\n",
            "imgs <class 'str'>\n",
            "latents_classes <class 'str'>\n",
            "latents_values <class 'str'>\n"
          ]
        }
      ]
    },
    {
      "cell_type": "code",
      "metadata": {
        "colab": {
          "base_uri": "https://localhost:8080/"
        },
        "id": "E-1_yx1zcw4n",
        "outputId": "20e04818-cce0-4841-b194-e79174cc8c88"
      },
      "source": [
        "imgs = dataset_zip['imgs']\n",
        "print(imgs.shape)\n",
        "labels = dataset_zip['latents_classes']\n",
        "label_sizes = dataset_zip['metadata'][()][b'latents_sizes']\n",
        "label_names = dataset_zip['metadata'][()][b'latents_names']"
      ],
      "execution_count": 9,
      "outputs": [
        {
          "output_type": "stream",
          "name": "stdout",
          "text": [
            "(737280, 64, 64)\n"
          ]
        }
      ]
    },
    {
      "cell_type": "code",
      "metadata": {
        "colab": {
          "base_uri": "https://localhost:8080/"
        },
        "id": "qYb6dyLmcw4o",
        "outputId": "63f89057-6289-4bf6-e108-6a1795431084"
      },
      "source": [
        "indices_sampled = np.arange(imgs.shape[0])\n",
        "print(indices_sampled)\n",
        "np.random.shuffle(indices_sampled)\n",
        "imgs_sampled = imgs[indices_sampled]\n",
        "print(imgs_sampled.shape)\n",
        "labels_sampled = labels[indices_sampled]"
      ],
      "execution_count": 10,
      "outputs": [
        {
          "output_type": "stream",
          "name": "stdout",
          "text": [
            "[     0      1      2 ... 737277 737278 737279]\n",
            "(737280, 64, 64)\n"
          ]
        }
      ]
    },
    {
      "cell_type": "code",
      "metadata": {
        "id": "zz2Q0NcZcw4o"
      },
      "source": [
        "def setup_data_loaders(train_x, test_x, train_y, test_y, batch_size, use_cuda=USE_CUDA):\n",
        "\ttrain_dset = torch.utils.data.TensorDataset(\n",
        "\t  torch.from_numpy(train_x.astype(np.float32)).reshape(-1, 1, 64, 64),\n",
        "\t  torch.from_numpy(train_y.astype(np.float32))\n",
        "\t)\n",
        "\ttest_dset = torch.utils.data.TensorDataset(\n",
        "\t  torch.from_numpy(test_x.astype(np.float32)).reshape(-1, 1, 64, 64),\n",
        "\t  torch.from_numpy(test_y.astype(np.float32))\n",
        "\t)    \n",
        "\tkwargs = {'num_workers': 1, 'pin_memory': use_cuda}\n",
        "\t\n",
        "\ttrain_loader = torch.utils.data.DataLoader(\n",
        "\t  dataset=train_dset, batch_size=batch_size, shuffle=False, **kwargs\n",
        "\t)\n",
        "\n",
        "\ttest_loader = torch.utils.data.DataLoader(\n",
        "\t  dataset=test_dset, batch_size=batch_size, shuffle=False, **kwargs\n",
        "\t)\n",
        "\treturn {\"train\":train_loader, \"test\":test_loader}"
      ],
      "execution_count": 11,
      "outputs": []
    },
    {
      "cell_type": "code",
      "metadata": {
        "id": "JkjG7a_Ocw4p"
      },
      "source": [
        "# indices_sampled = np.arange(imgs.shape[0])\n",
        "# print(indices_sampled)\n",
        "# np.random.shuffle(indices_sampled)\n",
        "# imgs_sampled = imgs[indices_sampled]\n",
        "# print(imgs_sampled.shape)\n",
        "# labels_sampled = labels[indices_sampled]"
      ],
      "execution_count": null,
      "outputs": []
    },
    {
      "cell_type": "code",
      "metadata": {
        "id": "psJAm7zacw4p"
      },
      "source": [
        "data_loaders = setup_data_loaders(\n",
        "    imgs_sampled[1000:],\n",
        "    imgs_sampled[:1000],\n",
        "    labels_sampled[1000:],\n",
        "    labels_sampled[:1000],\n",
        "    batch_size=128,\n",
        "    use_cuda=USE_CUDA\n",
        ")"
      ],
      "execution_count": 12,
      "outputs": []
    },
    {
      "cell_type": "code",
      "metadata": {
        "id": "4UXmKLjrcw4q"
      },
      "source": [
        "# # Traning Image\n",
        "# data_itr = iter(data_loaders['train'])\n",
        "# imgs, lbls = next(data_itr)\n",
        "# print(imgs.shape)\n",
        "# print(lbls.shape)"
      ],
      "execution_count": null,
      "outputs": []
    },
    {
      "cell_type": "code",
      "metadata": {
        "id": "3wmVKifocw4q"
      },
      "source": [
        "# y_names = ['shape', 'scale', 'orientation', 'posX', 'posY']\n",
        "# y_shapes = np.array((3, 6, 40, 32, 32))\n",
        "# img_dict = {}\n",
        "\n",
        "# for i, img in enumerate(imgs_sampled):\n",
        "#      img_dict[tuple(labels_sampled[i])] = img\n",
        "     \n",
        "# zeros = np.array((3, 6, 40, 32, 32))\n",
        "# img_dict[tuple(0, 0, 0, 0, 0, 0)] = np.zeros(64*64).reshape(64, 64)\n",
        "\n",
        "# print(img_dict.keys())\n",
        "\n",
        "# def find_in_dataset(shape, scale, orient, posX, posY):\n",
        "#   fig = plt.figure()\n",
        "#   img = img_dict[(0, shape, scale, orient, posX, posY)]\n",
        "#   plt.imshow(img.reshape(64, 64), cmap='Greys_r', interpolation='nearest')\n",
        "#   plt.axis('off')\n",
        "\n",
        "# interact(find_in_dataset, \n",
        "#          shape=widgets.IntSlider(min=0, max=2, step=1, value=0),\n",
        "#          scale=widgets.IntSlider(min=0, max=5, step=1, value=0),\n",
        "#          orient=widgets.IntSlider(min=0, max=39, step=1, value=0),\n",
        "#          posX=widgets.IntSlider(min=0, max=31, step=1, value=0),\n",
        "#          posY=widgets.IntSlider(min=0, max=31, step=1, value=0))"
      ],
      "execution_count": null,
      "outputs": []
    },
    {
      "cell_type": "code",
      "metadata": {
        "id": "MCEmiOTycw4r"
      },
      "source": [
        "# img = img_dict[(0, 1, 2, 25, 11, 23)]\n",
        "# print(img.shape)\n",
        "# plt.imshow(img, cmap='gray')"
      ],
      "execution_count": null,
      "outputs": []
    },
    {
      "cell_type": "code",
      "metadata": {
        "id": "GXSP7RE2cw4r"
      },
      "source": [
        "# class Encoder(nn.Module):\n",
        "#     def __init__(self, hidden_dim: int):\n",
        "#         super().__init__()\n",
        "#         self.hidden_dim = hidden_dim\n",
        "#         # self.h1_nchan = 64\n",
        "#         # self.conv1 = nn.Sequential(\n",
        "#         #     nn.Conv2d(in_channels=1, out_channels=64, kernel_size=4, stride=2, padding=1),\n",
        "#         #     nn.LeakyReLU(.1, inplace=True)\n",
        "#         # )\n",
        "#         # self.h2_nchan = 128\n",
        "#         # self.conv2 = nn.Sequential(\n",
        "#         #     nn.Conv2d(self.h1_nchan, self.h2_nchan, kernel_size=4, stride=2, padding=1),\n",
        "#         #     nn.BatchNorm2d(self.h2_nchan),\n",
        "#         #     nn.LeakyReLU(.1, inplace=True)\n",
        "#         # )\n",
        "#         # # print(*self.conv2)\n",
        "        \n",
        "#         # self.h3_nchan = 256\n",
        "#         # self.conv3 = nn.Sequential(\n",
        "#         #     nn.Conv2d(self.h2_nchan, self.h3_nchan, kernel_size=4, stride=2, padding=1),\n",
        "#         #     nn.BatchNorm2d(self.h3_nchan),\n",
        "#         #     nn.LeakyReLU(.1, inplace=True)\n",
        "#         # )\n",
        "\n",
        "#         # self.h4_dim = hidden_dim\n",
        "#         self.fc1 = nn.Sequential(\n",
        "#             nn.Linear(self.hidden_dim, 1000),\n",
        "#             nn.BatchNorm1d(1000),\n",
        "#             nn.LeakyReLU(0.1, inplace=True)\n",
        "#         )\n",
        "\n",
        "#         self.fc2 = nn.Sequential(\n",
        "#             nn.Linear(1000, 1000),\n",
        "#             nn.BatchNorm1d(1000),\n",
        "#             nn.LeakyReLU(0.1, inplace=True)\n",
        "#         )\n",
        "#         self.fc_mu = nn.Sequential(\n",
        "#             nn.Linear(1000, self.hidden_dim),\n",
        "#             nn.BatchNorm1d(self.hidden_dim),\n",
        "#             nn.LeakyReLU(0.1, inplace=True)\n",
        "#         )\n",
        "\n",
        "#         self.fc_sigma = nn.Sequential(\n",
        "#             nn.Linear(1000, self.hidden_dim),\n",
        "#             nn.BatchNorm1d(self.hidden_dim),\n",
        "#             nn.LeakyReLU(0.1, inplace=True)\n",
        "#         )\n",
        "\n",
        "#     def forward(self, x):\n",
        "#         # print(\"x shape\", x.shape)\n",
        "#         # x = self.conv1(x)\n",
        "#         # # print(x.shape)\n",
        "#         # x = self.conv2(x)\n",
        "#         # # print(x.shape)\n",
        "#         # x = self.conv3(x)\n",
        "#         # # print(x.shape)\n",
        "#         # x = x.view(-1, 8 * 8 * self.h3_nchan)\n",
        "#         # print(x.shape)\n",
        "#         x = self.fc1(x)\n",
        "#         x = self.fc2(x)\n",
        "#         z_mu = self.fc_mu(x)\n",
        "#         z_sigma = torch.exp(self.fc_sigma(x))\n",
        "#         return z_mu, z_sigma\n",
        "\n",
        "\n",
        "class Encoder(nn.Module):\n",
        "    def __init__(self, hidden_dim: int):\n",
        "        super().__init__()\n",
        "        self.h1_nchan = 64\n",
        "        self.conv1 = nn.Sequential(\n",
        "            nn.Conv2d(in_channels=1, out_channels=64, kernel_size=4, stride=2, padding=1),\n",
        "            nn.LeakyReLU(.1, inplace=True)\n",
        "        )\n",
        "        self.h2_nchan = 128\n",
        "        self.conv2 = nn.Sequential(\n",
        "            nn.Conv2d(self.h1_nchan, self.h2_nchan, kernel_size=4, stride=2, padding=1),\n",
        "            nn.BatchNorm2d(self.h2_nchan),\n",
        "            nn.LeakyReLU(.1, inplace=True)\n",
        "        )\n",
        "        # print(*self.conv2)\n",
        "        \n",
        "        self.h3_nchan = 256\n",
        "        self.conv3 = nn.Sequential(\n",
        "            nn.Conv2d(self.h2_nchan, self.h3_nchan, kernel_size=4, stride=2, padding=1),\n",
        "            nn.BatchNorm2d(self.h3_nchan),\n",
        "            nn.LeakyReLU(.1, inplace=True)\n",
        "        )\n",
        "\n",
        "        self.h4_dim = hidden_dim\n",
        "\n",
        "        self.fc = nn.Sequential(\n",
        "            nn.Linear(8 * 8 * self.h3_nchan, self.h4_dim),\n",
        "            nn.BatchNorm1d(self.h4_dim),\n",
        "            nn.LeakyReLU(.1, inplace=True)\n",
        "        )\n",
        "\n",
        "        # self.fc_sigma = nn.Sequential(\n",
        "        # nn.Linear(8 * 8 * self.h3_nchan, self.h4_dim),\n",
        "        # nn.BatchNorm1d(self.h4_dim),\n",
        "        # nn.LeakyReLU(.1, inplace=True)\n",
        "        # )\n",
        "\n",
        "    def forward(self, x):\n",
        "        # print(\"x shape\", x.shape)\n",
        "        x = self.conv1(x)\n",
        "        # print(x.shape)\n",
        "        x = self.conv2(x)\n",
        "        # print(x.shape)\n",
        "        x = self.conv3(x)\n",
        "        # print(x.shape)\n",
        "        x = x.view(-1, 8 * 8 * self.h3_nchan)\n",
        "        # print(x.shape)\n",
        "        # z_mu = self.fc_mu(x)\n",
        "        # z_sigma = torch.exp(self.fc_sigma(x))\n",
        "        x = self.fc(x)\n",
        "        return x\n",
        "\n",
        "\n",
        "\n",
        "class Decoder(nn.Module):\n",
        "    def __init__(self, latent_dim: int, upconv = False):\n",
        "        super().__init__()\n",
        "        self.laten_dim = latent_dim\n",
        "        self.h1_dim = 256\n",
        "        self.fc1 = nn.Sequential(\n",
        "            nn.Linear(self.laten_dim, self.h1_dim),\n",
        "            nn.BatchNorm1d(self.h1_dim),\n",
        "            nn.ReLU(inplace=True)\n",
        "        )\n",
        "        self.h2_nchan = 128\n",
        "        h2_dim = 8 * 8 * self.h2_nchan\n",
        "        self.fc2 = nn.Sequential(\n",
        "            nn.Linear(self.h1_dim, h2_dim),\n",
        "            nn.BatchNorm1d(h2_dim),\n",
        "            nn.ReLU(inplace=True)\n",
        "        )\n",
        "        self.h3_nchan = 64\n",
        "        self.h4_nchan = 32\n",
        "        if upconv:\n",
        "            conv1_ops = [\n",
        "                nn.Upsample(scale_factor=2, mode='nearest'),\n",
        "                nn.Conv2d(self.h2_nchan, self.h3_nchan, kernel_size=5, stride=1, padding=2)\n",
        "            ]\n",
        "            conv2_ops = [\n",
        "                nn.Upsample(scale_factor=2, mode='nearest'),\n",
        "                nn.Conv2d(self.h3_nchan, 1, kernel_size=5, stride=1, padding=2)\n",
        "            ]\n",
        "        else:\n",
        "            conv1_ops = [nn.ConvTranspose2d(self.h2_nchan, self.h3_nchan,\n",
        "                                            kernel_size=4, stride=2, padding=1)]\n",
        "\n",
        "            conv2_ops = [nn.ConvTranspose2d(self.h3_nchan, self.h4_nchan, kernel_size=4, \n",
        "                                            stride=2, padding=1)]\n",
        "\n",
        "            conv3_ops = [nn.ConvTranspose2d(self.h4_nchan, 1, kernel_size=4, \n",
        "                                            stride=2, padding=1)]\n",
        "\n",
        "        self.conv1 = nn.Sequential(\n",
        "            *conv1_ops,\n",
        "            nn.BatchNorm2d(self.h3_nchan),\n",
        "            nn.ReLU(inplace=True)\n",
        "        )\n",
        "        self.conv2 = nn.Sequential(*conv2_ops)\n",
        "\n",
        "        self.conv3 = nn.Sequential(*conv3_ops)\n",
        "\n",
        "        self.sigmoid = nn.Sigmoid()\n",
        "\n",
        "\n",
        "    def forward(self, x):\n",
        "        x = self.fc1(x)\n",
        "        # print(\"fc1: \", x.shape)\n",
        "        x = self.fc2(x).view(-1, self.h2_nchan, 8, 8)\n",
        "        # print(\"fc2: \", x.shape)\n",
        "        x = self.conv1(x)\n",
        "        # print(\"conv1: \", x.shape)\n",
        "        x = self.conv2(x)\n",
        "        # print(\"conv2: \", x.shape)\n",
        "        x = self.conv3(x)\n",
        "        # print(\"conv3: \", x.shape)\n",
        "        x = self.sigmoid(x.flatten())\n",
        "        # print(\"x shape form decoder\", x.shape)\n",
        "        return x"
      ],
      "execution_count": 13,
      "outputs": []
    },
    {
      "cell_type": "code",
      "metadata": {
        "id": "yKwlf8JuIbwt"
      },
      "source": [
        "class DeepConditional(nn.Module):\n",
        "    def predict(self, x: torch.Tensor) -> TorchDistribution:\n",
        "        raise NotImplementedError\n",
        "\n",
        "\n",
        "class _DeepIndepNormal(DeepConditional):\n",
        "    def __init__(self, backbone: nn.Module, mean_head: nn.Module, logvar_head: nn.Module):\n",
        "        super().__init__()\n",
        "        self.backbone = backbone\n",
        "        self.mean_head = mean_head\n",
        "        self.logvar_head = logvar_head\n",
        "\n",
        "    def forward(self, x):\n",
        "        h = self.backbone(x)\n",
        "        mean = self.mean_head(h)\n",
        "        logvar = self.logvar_head(h)\n",
        "        return mean, logvar\n",
        "\n",
        "    def predict(self, x) -> Independent:\n",
        "        mean, logvar = self(x)\n",
        "        std = (.5 * logvar).exp()\n",
        "        event_ndim = len(mean.shape[1:])  # keep only batch dimension\n",
        "        return mean, std, Normal(mean, std).to_event(event_ndim)\n",
        "\n",
        "\n",
        "class DeepIndepNormal(_DeepIndepNormal):\n",
        "    def __init__(self, backbone: nn.Module, hidden_dim: int, out_dim: int):\n",
        "        super().__init__(\n",
        "            backbone=backbone,\n",
        "            mean_head=nn.Linear(hidden_dim, out_dim),\n",
        "            logvar_head=nn.Linear(hidden_dim, out_dim)\n",
        "        )\n"
      ],
      "execution_count": 14,
      "outputs": []
    },
    {
      "cell_type": "code",
      "metadata": {
        "id": "UbLVdKAIIbwt"
      },
      "source": [
        "class CVAE(nn.Module):\n",
        "    def __init__(self, hidden_dim: int, config_enum=None, use_cuda=False, aux_loss_multiplier=None) -> None:\n",
        "        super(CVAE, self).__init__()\n",
        "        self.hidden_dim = hidden_dim\n",
        "        self.label_shape = np.array((1, 3, 6, 40, 32, 32))\n",
        "        self.label_names = np.array(('color', 'shape', 'scale', 'orientation', 'posX', 'posY'))\n",
        "        self.label_dim = np.sum(self.label_shape)  # one-hot encoded vectors of the labels\n",
        "\n",
        "        # self.register_buffer('z_loc', torch.zeros([hidden_dim, ], requires_grad=False))\n",
        "        # self.register_buffer('z_scale', torch.ones([hidden_dim, ], requires_grad=False))\n",
        "        self.z_dim = 64 * 64 # self.hidden_dim + self.label_dim\n",
        "        self.allow_broadcast = config_enum == 'parallel'\n",
        "        self.use_cuda = use_cuda\n",
        "        self.aux_loss_multiplier = aux_loss_multiplier\n",
        "\n",
        "        self.setup_network()\n",
        "\n",
        "        # if use_cuda:\n",
        "        #   self.cuda()\n",
        "\n",
        "        # self.use_cuda = use_cuda\n",
        "    \n",
        "    def setup_network(self):\n",
        "        self.encoder = Encoder(self.hidden_dim)\n",
        "        # self.encoder_hidden = Encoder_hidden(self.hidden_dim)\n",
        "\n",
        "        latent_layers = torch.nn.Sequential(torch.nn.Linear(self.hidden_dim + self.label_dim, \n",
        "                                            self.z_dim), \n",
        "                                            torch.nn.ReLU())\n",
        "        self.latent_encoder = DeepIndepNormal(latent_layers, self.z_dim, \n",
        "                                             self.z_dim)\n",
        "\n",
        "        self.decoder = Decoder(self.hidden_dim + self.label_dim)\n",
        "\n",
        "        if self.use_cuda:\n",
        "          self.cuda()\n",
        "\n",
        "    def pgm(self, ys):\n",
        "        new_ys = []\n",
        "        options = dict(dtype=ys.dtype, device=ys.device)\n",
        "        for i, label_length in enumerate(self.label_shape):\n",
        "            prior = torch.ones(ys.size(0), label_length, **options) / (1.0 * label_length)\n",
        "            new_ys.append(pyro.sample(\"y_%s\" % self.label_names[i], dist.OneHotCategorical(prior), \n",
        "                                    obs=torch.nn.functional.one_hot(ys[:,i].to(torch.int64), int(label_length))))\n",
        "            # print(new_ys)\n",
        "            # break\n",
        "        new_ys = torch.cat(new_ys, -1)\n",
        "        new_ys = new_ys.to(torch.float32)\n",
        "        # print(new_ys.shape)\n",
        "        return new_ys\n",
        "\n",
        "\n",
        "    def model(self, xs, ys):\n",
        "        pyro.module(\"cvae\", self)\n",
        "        batch_size = xs.size(0)\n",
        "        # print(batch_size)\n",
        "        # print(self.z_dim)\n",
        "        options = dict(dtype=xs.dtype, device=xs.device)\n",
        "        # print(options)\n",
        "        with pyro.plate(\"data\", batch_size):\n",
        "            prior_loc = torch.zeros(batch_size, self.z_dim, **options)\n",
        "            prior_scale = torch.ones(batch_size, self.z_dim, **options)\n",
        "            zs = pyro.sample('z', dist.Normal(prior_loc, prior_scale).to_event(1))\n",
        "            # print(\"zs shape: \", zs.shape)\n",
        "            y_new = self.pgm(ys)\n",
        "            zs = torch.cat([zs, y_new], 1)\n",
        "            loc = self.decoder.forward(zs)\n",
        "            # print(\"loc shape: \", loc.shape)\n",
        "            # print(\"xs from model: \", xs.shape)\n",
        "            x = pyro.sample('x', dist.Bernoulli(loc).to_event(1), obs=xs.flatten())\n",
        "            # print(x.shape)\n",
        "            # print(\"before return---\")\n",
        "            return loc\n",
        "            \n",
        "    def guide(self, xs, ys):\n",
        "        # print(xs.shape)\n",
        "        pyro.module(\"cvae\", self)\n",
        "        batch_size = xs.size(0)\n",
        "        with pyro.plate(\"data\", batch_size):\n",
        "            # print(xs.shape)\n",
        "            # hidden = self.encoder_hidden.forward(xs)\n",
        "            hidden = self.encoder.forward(xs)\n",
        "            # print(\"Hidden before: \", hidden.shape)\n",
        "            y_new = self.pgm(ys)\n",
        "            hidden = torch.cat([hidden, y_new], 1)\n",
        "            # print(\"Hidden after:\", hidden)\n",
        "            # distribution q(z|x) = normal(loc(x),scale(x))\n",
        "            # print(\"After: ys + hidden: \", hidden.shape)\n",
        "            mu, sigma, latent_dist = self.latent_encoder.predict(hidden)\n",
        "            # print(\"from guide: \", mu.shape)\n",
        "            # print(\"from guide: \", sigma.shape)\n",
        "\n",
        "            # loc, scale = self.encoder.forward(hidden)\n",
        "\n",
        "            # print(type(latent_dist))\n",
        "\n",
        "            z = pyro.sample('z', latent_dist)\n",
        "            # z = pyro.sample(\"z\", dist.Normal(loc, scale).to_event(1))\n",
        "            # print(\"z_shape:\", z.shape)\n",
        "        return mu, sigma, z \n",
        "    \n",
        "    def reconst_image(self, xs, ys):\n",
        "            hidden = self.encoder.forward(xs)\n",
        "            print(\"hidden shape\", hidden.shape)\n",
        "            y_new = self.pgm(ys)\n",
        "            hidden = torch.cat([hidden, y_new], -1)\n",
        "            print(hidden.shape)\n",
        "            # distribution q(z|x) = normal(loc(x),scale(x))\n",
        "            # print(hidden.shape)\n",
        "            _, _, latent_dist = self.latent_encoder.predict(hidden)\n",
        "            print(latent_dist)\n",
        "            zs = pyro.sample('z', latent_dist)\n",
        "            zs = torch.cat([zs, y_new], -1)\n",
        "            print(zs.shape)\n",
        "            loc = self.decoder.forward(zs)\n",
        "            return dist.Bernoulli(loc).to_event(1).sample()"
      ],
      "execution_count": 36,
      "outputs": []
    },
    {
      "cell_type": "code",
      "metadata": {
        "id": "5g_YNR7NIbwt"
      },
      "source": [
        "def train(svi, train_loader, use_cuda=False):\n",
        "\t# initialize loss accumulator\n",
        "\tepoch_loss = 0.\n",
        "\t# do a training epoch over each mini-batch x returned\n",
        "\t# by the data loader\n",
        "\tfor xs,ys in train_loader:\n",
        "\t # if on GPU put mini-batch into CUDA memory\n",
        "\t  if use_cuda:\n",
        "\t      xs = xs.cuda()\n",
        "\t      ys = ys.cuda()\n",
        "\t # do ELBO gradient and accumulate loss\n",
        "\t  epoch_loss += svi.step(xs, ys)\n",
        "\t# return epoch loss\n",
        "\tnormalizer_train = len(train_loader.dataset)\n",
        "\ttotal_epoch_loss_train = epoch_loss / normalizer_train\n",
        "\treturn total_epoch_loss_train\n",
        "\n",
        "def evaluate(svi, test_loader, use_cuda=False):\n",
        "\t# initialize loss accumulator\n",
        "\ttest_loss = 0.\n",
        "\t# compute the loss over the entire test set\n",
        "\tfor xs, ys in test_loader:\n",
        "\t  # if on GPU put mini-batch into CUDA memory\n",
        "\t  if use_cuda:\n",
        "\t      xs = xs.cuda()\n",
        "\t      ys = ys.cuda()\n",
        "\t  # compute ELBO estimate and accumulate loss\n",
        "\t  test_loss += svi.evaluate_loss(xs, ys)\n",
        "\tnormalizer_test = len(test_loader.dataset)\n",
        "\ttotal_epoch_loss_test = test_loss / normalizer_test\n",
        "\treturn total_epoch_loss_test"
      ],
      "execution_count": 37,
      "outputs": []
    },
    {
      "cell_type": "code",
      "metadata": {
        "id": "sPthn5BdIbwt"
      },
      "source": [
        "# Run options\n",
        "LEARNING_RATE = 1.0e-3\n",
        "\n",
        "# Run only for a single iteration for testing\n",
        "NUM_EPOCHS = 10\n",
        "TEST_FREQUENCY = 5"
      ],
      "execution_count": 38,
      "outputs": []
    },
    {
      "cell_type": "code",
      "metadata": {
        "id": "j7CzBFzGvdrJ"
      },
      "source": [
        "\n",
        "import warnings\n",
        "warnings.filterwarnings('ignore')\n",
        "\n",
        "# clear param store\n",
        "pyro.clear_param_store()\n",
        "\n",
        "USE_CUDA = True\n",
        "hidden_dim = 64*64\n",
        "# setup the VAE\n",
        "vae = CVAE(hidden_dim, use_cuda=USE_CUDA)"
      ],
      "execution_count": 39,
      "outputs": []
    },
    {
      "cell_type": "code",
      "metadata": {
        "colab": {
          "base_uri": "https://localhost:8080/"
        },
        "id": "QMVjD2lfIbwu",
        "outputId": "1d219331-172a-4e51-fe7d-33179ddaca85"
      },
      "source": [
        "\n",
        "# import warnings\n",
        "# warnings.filterwarnings('ignore')\n",
        "\n",
        "# # clear param store\n",
        "# pyro.clear_param_store()\n",
        "\n",
        "# USE_CUDA = True\n",
        "# hidden_dim = 64*64\n",
        "# # setup the VAE\n",
        "# vae = CVAE(hidden_dim, use_cuda=USE_CUDA)\n",
        "\n",
        "# setup the optimizer\n",
        "adam_args = {\"lr\": LEARNING_RATE}\n",
        "optimizer = Adam(adam_args)\n",
        "\n",
        "# setup the inference algorithm\n",
        "svi = SVI(vae.model, vae.guide, optimizer, loss=Trace_ELBO())\n",
        "\n",
        "train_elbo = []\n",
        "test_elbo = []\n",
        "# training loop\n",
        "\n",
        "VERBOSE = True\n",
        "pbar = tqdm(range(NUM_EPOCHS))\n",
        "for epoch in pbar:\n",
        "    \n",
        "    total_epoch_loss_train = train(svi, data_loaders[\"train\"], use_cuda=USE_CUDA)\n",
        "    train_elbo.append(-total_epoch_loss_train)\n",
        "    if VERBOSE:\n",
        "        print(\"[epoch %03d]  average training loss: %.4f\" % (epoch, total_epoch_loss_train))\n",
        "    if epoch % TEST_FREQUENCY == 0:\n",
        "        # report test diagnostics\n",
        "        total_epoch_loss_test = evaluate(svi, data_loaders[\"test\"], use_cuda=USE_CUDA)\n",
        "        test_elbo.append(-total_epoch_loss_test)\n",
        "        if VERBOSE:\n",
        "            print(\"[epoch %03d] average test loss: %.4f\" % (epoch, total_epoch_loss_test))"
      ],
      "execution_count": null,
      "outputs": [
        {
          "output_type": "stream",
          "name": "stderr",
          "text": [
            "\r  0%|          | 0/10 [00:00<?, ?it/s]"
          ]
        }
      ]
    },
    {
      "cell_type": "code",
      "metadata": {
        "colab": {
          "base_uri": "https://localhost:8080/"
        },
        "id": "CNy-6sPXIbwu",
        "outputId": "d08ece04-040b-41c9-9bf5-6087ee05f746"
      },
      "source": [
        "#################################\n",
        "### FOR SAVING AND LOADING MODEL\n",
        "################################\n",
        "# clear param store\n",
        "\n",
        "pyro.clear_param_store()\n",
        "\n",
        "# network_path = '/media/sayem/Drive_2/Code/trainedModel/trained_model.save'\n",
        "network_path = '/content/drive/MyDrive/Colab Notebooks/CausalVAE/trained_model.save'\n",
        "# network_path = \"/content/gdrive/My Drive/causalvae/trained_model.save\"\n",
        "\"\"\n",
        "#PATH = \"/content/gdrive/My Drive/causalvae/trained_model.save\"\n",
        "\n",
        "# new model\n",
        "# vae = CVAE(use_cuda=USE_CUDA)\n",
        "\n",
        "# save current model\n",
        "\n",
        "\n",
        "# to load params from trained model\n",
        "# vae = CVAE(use_cuda=USE_CUDA)\n",
        "torch.save(vae.state_dict(), network_path)\n",
        "vae.load_state_dict(torch.load(network_path))"
      ],
      "execution_count": null,
      "outputs": [
        {
          "output_type": "execute_result",
          "data": {
            "text/plain": [
              "<All keys matched successfully>"
            ]
          },
          "metadata": {},
          "execution_count": 26
        }
      ]
    },
    {
      "cell_type": "code",
      "metadata": {
        "colab": {
          "base_uri": "https://localhost:8080/"
        },
        "id": "73YmUVoFn9-q",
        "outputId": "2a75438f-4cb8-4dbf-da77-f1f37cd19077"
      },
      "source": [
        "network_path = '/content/drive/MyDrive/Colab Notebooks/CausalVAE/trained_model.save'\n",
        "vae.load_state_dict(torch.load(network_path))"
      ],
      "execution_count": 19,
      "outputs": [
        {
          "output_type": "execute_result",
          "data": {
            "text/plain": [
              "<All keys matched successfully>"
            ]
          },
          "metadata": {},
          "execution_count": 19
        }
      ]
    },
    {
      "cell_type": "code",
      "metadata": {
        "id": "RRBjRWFkcw4u",
        "colab": {
          "base_uri": "https://localhost:8080/"
        },
        "outputId": "d96e6525-92b9-4a97-e03b-8f07852ef0e5"
      },
      "source": [
        "import warnings\n",
        "warnings.filterwarnings(\"ignore\")\n",
        "\n",
        "data_iter = iter(data_loaders[\"test\"])\n",
        "xs, ys = next(data_iter)\n",
        "\n",
        "# vae.load_state_dict(torch.load(network_path))\n",
        "# vae = CVAE(hidden_dim, use_cuda=USE_CUDA)\n",
        "\n",
        "if USE_CUDA:\n",
        "    xs = xs.cuda()\n",
        "    ys = ys.cuda()\n",
        "# vae.eval()\n",
        "    \n",
        "rs = vae.reconst_image(xs, ys)\n",
        "if USE_CUDA:\n",
        "    xs = xs.cpu()\n",
        "    rs = rs.cpu()\n",
        "\n",
        "originals = xs.numpy().reshape(-1, 64, 64)\n",
        "recons = rs.reshape(-1, 64, 64)"
      ],
      "execution_count": 20,
      "outputs": [
        {
          "output_type": "stream",
          "name": "stdout",
          "text": [
            "hidden shape torch.Size([128, 4096])\n",
            "torch.Size([128, 4210])\n",
            "Independent(Normal(loc: torch.Size([128, 4096]), scale: torch.Size([128, 4096])), 1)\n",
            "torch.Size([128, 4210])\n"
          ]
        }
      ]
    },
    {
      "cell_type": "code",
      "metadata": {
        "id": "bgrQFwdu7apA",
        "colab": {
          "base_uri": "https://localhost:8080/"
        },
        "outputId": "3ab5160f-42fe-47aa-bc74-3c3e6fe75983"
      },
      "source": [
        "print(recons.shape)"
      ],
      "execution_count": 21,
      "outputs": [
        {
          "output_type": "stream",
          "name": "stdout",
          "text": [
            "torch.Size([128, 64, 64])\n"
          ]
        }
      ]
    },
    {
      "cell_type": "code",
      "metadata": {
        "colab": {
          "base_uri": "https://localhost:8080/",
          "height": 232,
          "referenced_widgets": [
            "24c20da1a86642518b56a3a261afa235",
            "94fdcba4febf413f9de9c4ff26f351c6",
            "7f6fa3fe733c45f68b331c82ea1c83a1",
            "34c18d193cb742c5bcd239ddb7b572ee",
            "83d96aa34d2e46dbb140c8b6b579dcca",
            "7a80008b5cf14f3d902c5dda8f27dc6f",
            "902afbbaf34140198445b2c5cf96f4dc"
          ]
        },
        "id": "7FIa4js38zjr",
        "outputId": "0994672f-5c89-4433-ba7e-a13ff7e8ae74"
      },
      "source": [
        "\n",
        "# [ 0,  2,  1, 34,  4, 24]\n",
        "def recon_check(original, recon):\n",
        "    fig = plt.figure()\n",
        "    ax0 = fig.add_subplot(121)\n",
        "    plt.imshow(original, cmap='Greys_r',  interpolation='nearest')\n",
        "    plt.axis('off')\n",
        "    ax1 = fig.add_subplot(122)\n",
        "    plt.imshow(recon , cmap='Greys_r', interpolation='nearest')\n",
        "    plt.axis('off')\n",
        "\n",
        "def f(x):\n",
        "    fig = plt.figure()\n",
        "    ax0 = fig.add_subplot(121)\n",
        "    plt.imshow(originals[x], cmap='Greys_r',  interpolation='nearest')\n",
        "    plt.axis('off')\n",
        "    ax1 = fig.add_subplot(122)\n",
        "    plt.imshow(recons[x], cmap='Greys_r',  interpolation='nearest')\n",
        "    plt.axis('off')\n",
        "    \n",
        "interact(f, x=widgets.IntSlider(min=0, max=xs.shape[0], step=1, value=0))"
      ],
      "execution_count": 22,
      "outputs": [
        {
          "output_type": "display_data",
          "data": {
            "application/vnd.jupyter.widget-view+json": {
              "model_id": "24c20da1a86642518b56a3a261afa235",
              "version_minor": 0,
              "version_major": 2
            },
            "text/plain": [
              "interactive(children=(IntSlider(value=0, description='x', max=128), Output()), _dom_classes=('widget-interact'…"
            ]
          },
          "metadata": {}
        },
        {
          "output_type": "execute_result",
          "data": {
            "text/plain": [
              "<function __main__.f>"
            ]
          },
          "metadata": {},
          "execution_count": 22
        }
      ]
    },
    {
      "cell_type": "code",
      "metadata": {
        "id": "45EjDtJKefsu"
      },
      "source": [
        "# print(imgs_sampled[:1000].shape)\n",
        "# print(data_loaders['test'])"
      ],
      "execution_count": 33,
      "outputs": []
    },
    {
      "cell_type": "code",
      "metadata": {
        "id": "IW0gZdYt9CuZ",
        "colab": {
          "base_uri": "https://localhost:8080/",
          "height": 540,
          "referenced_widgets": [
            "3d6d1fa26bc9455ab30749005a8a29c8",
            "740102f1d86f46389a298e3e29b96993",
            "593fd8a394604ab999942783195779bc",
            "53a284ad42514c5f942ab6c5441640c9",
            "2a11def521f742d6b0b16e7d12683a70",
            "9e0a1b900d5f4462bae2e51d309fd2a7",
            "32f8326ce9104958b53995912dfee006",
            "2b43ca51f55f4e0f9f84bf3d2d9a5f3f",
            "eaf783ab76344cf98c2ecc514eb5b551",
            "66e55959ab3147859624d88cd53b2255",
            "a849a92410d44c6492d4b537f6cc5d5f",
            "adcd7af59678408a8c69e1f3df9a0f83",
            "ef989ccdea904823b82c0b5da01709ba",
            "307a613980314bf7ba738dba81a70a24",
            "a696862e157d45e385bcb22c2ef9c9f5",
            "e325d319293f42dcbc71c05318b364ad",
            "002c40c43f9e498ca448414c13855e52",
            "3f0da815704c44928ce0f7a3c7163558",
            "ae5f97c9c25346ebbcbe382415667ff7"
          ]
        },
        "outputId": "cc6f6275-4780-45a6-d62e-2487c20bc6fa"
      },
      "source": [
        "y_names = ['shape', 'scale', 'orientation', 'posX', 'posY']\n",
        "y_shapes = np.array((3, 6, 40, 32, 32))\n",
        "img_dict = {}\n",
        "\n",
        "# data_loaders['train']\n",
        "\n",
        "for i, img in enumerate(imgs_sampled):\n",
        "     img_dict[tuple(labels_sampled[i])] = img\n",
        "\n",
        "def find_in_dataset(shape, scale, orient, posX, posY):\n",
        "    fig = plt.figure()\n",
        "    img = img_dict[(0, shape, scale, orient, posX, posY)]\n",
        "    plt.imshow(img.reshape(64,64), cmap='Greys_r', interpolation='nearest')\n",
        "    plt.axis('off')\n",
        "\n",
        "interact(find_in_dataset, \n",
        "         shape=widgets.IntSlider(min=0, max=2, step=1, value=0),\n",
        "         scale=widgets.IntSlider(min=0, max=5, step=1, value=0),\n",
        "         orient=widgets.IntSlider(min=0, max=39, step=1, value=0),\n",
        "         posX=widgets.IntSlider(min=0, max=31, step=1, value=0),\n",
        "         posY=widgets.IntSlider(min=0, max=31, step=1, value=0))"
      ],
      "execution_count": 34,
      "outputs": [
        {
          "output_type": "display_data",
          "data": {
            "application/vnd.jupyter.widget-view+json": {
              "model_id": "3d6d1fa26bc9455ab30749005a8a29c8",
              "version_minor": 0,
              "version_major": 2
            },
            "text/plain": [
              "interactive(children=(IntSlider(value=0, description='shape', max=2), IntSlider(value=0, description='scale', …"
            ]
          },
          "metadata": {}
        },
        {
          "output_type": "execute_result",
          "data": {
            "text/plain": [
              "<function __main__.find_in_dataset>"
            ]
          },
          "metadata": {},
          "execution_count": 34
        },
        {
          "output_type": "display_data",
          "data": {
            "text/plain": [
              "<Figure size 432x288 with 0 Axes>"
            ]
          },
          "metadata": {}
        }
      ]
    },
    {
      "cell_type": "code",
      "metadata": {
        "id": "L2WTBykxCq3w",
        "colab": {
          "base_uri": "https://localhost:8080/",
          "height": 279
        },
        "outputId": "6ded755b-20fb-4f81-fa1e-93cdae6b7218"
      },
      "source": [
        "\n",
        "def get_specific_data(args=dict(), cuda=False):\n",
        "    '''\n",
        "    use this function to get examples of data with specific class labels\n",
        "    inputs: \n",
        "        args - dictionary whose keys can include {shape, scale, orientation,\n",
        "                posX, posY} and values can include any integers less than the \n",
        "                corresponding size of that label dimension\n",
        "        cuda - bool to indicate whether the output should be placed on GPU\n",
        "    '''\n",
        "    names_dict = {'shape': 1, 'scale': 2, 'orientation': 3, 'posX': 4, 'posY': 5}\n",
        "    selected_ind = np.ones(imgs.shape[0], dtype=bool)\n",
        "    for k,v in args.items():\n",
        "        col_id = names_dict[k]\n",
        "        selected_ind = np.bitwise_and(selected_ind, labels[:, col_id] == v)\n",
        "    ind = np.random.choice(np.arange(imgs.shape[0])[selected_ind])\n",
        "    x = torch.from_numpy(imgs[ind].reshape(1,64**2).astype(np.float32))\n",
        "    y = torch.from_numpy(labels[ind].reshape(1,6).astype(np.float32))\n",
        "    if not cuda:\n",
        "        return x,y\n",
        "    x = x.cuda()\n",
        "    y = y.cuda()\n",
        "    return x,y\n",
        "\n",
        "def plot_image(x):\n",
        "    \"\"\"\n",
        "    helper to plot dSprites images\n",
        "    \"\"\"\n",
        "    x = x.cpu()\n",
        "    plt.figure()\n",
        "    plt.imshow(x.reshape(64,64), interpolation='nearest', cmap='Greys_r')\n",
        "    plt.axis('off')\n",
        "\n",
        "def see_specific_image(args=dict(), verbose=True):\n",
        "    '''\n",
        "    use this function to get examples of data with specific class labels\n",
        "    inputs: \n",
        "        args - dictionary whose keys can include {shape, scale, orientation,\n",
        "                posX, posY} and values can include any integers less than the \n",
        "                corresponding size of that label dimension\n",
        "        verbose - bool to indicate whether the full class label should be written \n",
        "                    as the title of the plot\n",
        "    '''\n",
        "    x,y = get_specific_data(args, cuda=False)\n",
        "    plot_image(x)\n",
        "    if verbose:\n",
        "        string = ''\n",
        "        for i, s in enumerate(['Shape', 'Scale', 'Orientation', 'PosX', 'PosY']):\n",
        "            string += '%s: %d, ' % (s, int(y[0][i+1]))\n",
        "            if i == 2:\n",
        "                string = string[:-2] + '\\n'\n",
        "        plt.title(string[:-2], fontsize=12)\n",
        "        \n",
        "def compare_reconstruction(original, recon):\n",
        "    \"\"\"\n",
        "    compare two images side by side\n",
        "    inputs:\n",
        "        original - array for original image\n",
        "        recon - array for recon image\n",
        "    \"\"\"\n",
        "    fig = plt.figure()\n",
        "    ax0 = fig.add_subplot(121)\n",
        "    plt.imshow(original.cpu().reshape(64,64), cmap='Greys_r',  interpolation='nearest')\n",
        "    plt.axis('off')\n",
        "    plt.title('original')\n",
        "    ax1 = fig.add_subplot(122)\n",
        "    plt.imshow(recon.cpu().reshape(64,64), cmap='Greys_r',  interpolation='nearest')\n",
        "    plt.axis('off')\n",
        "    plt.title('reconstruction')\n",
        "    \n",
        "def compare_to_density(original, recons):\n",
        "    \"\"\"\n",
        "    compare two images side by side\n",
        "    inputs:\n",
        "        original - array for original image\n",
        "        recon - array of multiple recon images\n",
        "    \"\"\"\n",
        "    fig = plt.figure()\n",
        "    ax0 = fig.add_subplot(121)\n",
        "    plt.imshow(original.cpu().reshape(64,64), cmap='Greys_r',  interpolation='nearest')\n",
        "    plt.axis('off')\n",
        "    plt.title('original')\n",
        "    ax1 = fig.add_subplot(122)\n",
        "    plt.imshow(torch.mean(recons.cpu(), 0).reshape(64,64), cmap='Greys_r',  interpolation='nearest')\n",
        "    plt.axis('off')\n",
        "    plt.title('reconstructions')\n",
        "\n",
        "        \n",
        "see_specific_image()\n",
        "\n",
        "# compare_to_density(torch.from_numpy(originals[0]),recons[0])"
      ],
      "execution_count": 35,
      "outputs": [
        {
          "output_type": "display_data",
          "data": {
            "image/png": "[encoded data removed]",
            "text/plain": [
              "<Figure size 432x288 with 1 Axes>"
            ]
          },
          "metadata": {
            "needs_background": "light"
          }
        }
      ]
    },
    {
      "cell_type": "code",
      "metadata": {
        "id": "Ecg9vUfC9I5T"
      },
      "source": [
        "# import torch\n",
        "# import torch.nn as nn\n",
        "\n",
        "# print(type(originals[0]))\n",
        "\n",
        "# original = torch.from_numpy(originals[1])\n",
        "# recon = recons[1]\n",
        "\n",
        "# mse_loss = nn.MSELoss()\n",
        "# output = mse_loss(original, recon)\n",
        "# # output.backward()\n",
        "\n",
        "# print(output)\n",
        "\n",
        "# err = original - recon\n",
        "# print(err.shape)\n",
        "# plt.imshow(err, cmap='hsv',  interpolation='nearest')\n",
        "# plt.colorbar(cmap='hsv')"
      ],
      "execution_count": null,
      "outputs": []
    },
    {
      "cell_type": "markdown",
      "metadata": {
        "id": "pXx0kq8QaFIV"
      },
      "source": [
        "# SCM"
      ]
    },
    {
      "cell_type": "code",
      "metadata": {
        "id": "hyF9lPGe-JRL",
        "colab": {
          "base_uri": "https://localhost:8080/"
        },
        "outputId": "44a39037-9916-42ff-9f3a-09de9f4f1ade"
      },
      "source": [
        "data_iter = iter(data_loaders[\"test\"])\n",
        "xs, ys = next(data_iter)\n",
        "ys.device"
      ],
      "execution_count": null,
      "outputs": [
        {
          "output_type": "execute_result",
          "data": {
            "text/plain": [
              "device(type='cpu')"
            ]
          },
          "metadata": {},
          "execution_count": 32
        }
      ]
    },
    {
      "cell_type": "code",
      "metadata": {
        "id": "9tdgI1WzaFIV",
        "colab": {
          "base_uri": "https://localhost:8080/"
        },
        "outputId": "fd929acf-03a1-45c0-8e14-d90d98604efb"
      },
      "source": [
        "label_shape = np.array((1, 3, 6, 40, 32, 32))\n",
        "label_dims = vae.label_shape\n",
        "print(label_dims)\n"
      ],
      "execution_count": null,
      "outputs": [
        {
          "output_type": "stream",
          "name": "stdout",
          "text": [
            "[ 1  3  6 40 32 32]\n"
          ]
        }
      ]
    },
    {
      "cell_type": "code",
      "metadata": {
        "id": "6laG5se2aFIV"
      },
      "source": [
        "class SCM():\n",
        "    def __init__(self, vae, mu, sigma) -> None:\n",
        "        self.vae = vae\n",
        "        self.mu = mu\n",
        "        self.sigma = sigma\n",
        "        self.z_dim = vae.z_dim\n",
        "        # print(self.z_dim)\n",
        "        self.label_dims = vae.label_shape\n",
        "        self.image_dim = 64**2\n",
        "\n",
        "        self.init_noise = {\n",
        "        'N_X'   : dist.Normal(torch.zeros(self.image_dim), torch.ones(self.image_dim)),\n",
        "        'N_Z'   : dist.Normal(torch.zeros(self.z_dim), torch.ones(self.z_dim)),\n",
        "        'N_Y_1' : dist.Uniform(torch.zeros(self.label_dims[1]),torch.ones(self.label_dims[1])),\n",
        "        'N_Y_2' : dist.Uniform(torch.zeros(self.label_dims[2]),torch.ones(self.label_dims[2])),\n",
        "        'N_Y_3' : dist.Uniform(torch.zeros(self.label_dims[3]),torch.ones(self.label_dims[3])),\n",
        "        'N_Y_4' : dist.Uniform(torch.zeros(self.label_dims[4]),torch.ones(self.label_dims[4])),\n",
        "        'N_Y_5' : dist.Uniform(torch.zeros(self.label_dims[5]),torch.ones(self.label_dims[5]))            \n",
        "        }\n",
        "\n",
        "    def f_Z(self, N):\n",
        "\n",
        "        \"\"\"\n",
        "        z ~ Normal(mu, sigma)\n",
        "        \"\"\"\n",
        "        # print(\"mu shape from f_Z:\", mu.shape)\n",
        "        # print(\"sigma shape from f_Z:\", sigma.shape)\n",
        "        # print(\"N shape:\", N.shape)\n",
        "        return N * self.sigma + self.mu\n",
        "    \n",
        "    def f_Y(self, N):\n",
        "      # print(\"N shape from f_Y: \", N.shape)\n",
        "      # latent_layers = torch.nn.Sequential(torch.nn.Linear(N.size(0), N.size(0)), \n",
        "      #                                     torch.nn.ReLU())\n",
        "      # latent_encoder = DeepIndepNormal(latent_layers, N.size(0), N.size(0))\n",
        "      # mu, sigma, distribution = latent_encoder.predict(N)\n",
        "      # return mu, sigma, distribution\n",
        "      beta = 12\n",
        "      indices = torch.tensor(np.arange(N.size(0))).to(torch.float32)\n",
        "      smax = nn.functional.softmax(beta*N)\n",
        "      argmax_ind = torch.sum(smax*indices)\n",
        "      return argmax_ind\n",
        "\n",
        "    def f_X(self, Y, Z, N):\n",
        "      zs = Z.cuda()\n",
        "      # print(\"zs shape form f_X:\", zs.shape)\n",
        "      # convert the labels to one hot\n",
        "      ys = [torch.tensor([0])]\n",
        "      ys.append(torch.nn.functional.one_hot(torch.round(Y[0]).to(torch.long), int(self.label_dims[1])))\n",
        "      ys.append(torch.nn.functional.one_hot(torch.round(Y[1]).to(torch.long), int(self.label_dims[2])))\n",
        "      ys.append(torch.nn.functional.one_hot(torch.round(Y[2]).to(torch.long), int(self.label_dims[3])))\n",
        "      ys.append(torch.nn.functional.one_hot(torch.round(Y[3]).to(torch.long), int(self.label_dims[4])))\n",
        "      ys.append(torch.nn.functional.one_hot(torch.round(Y[4]).to(torch.long), int(self.label_dims[5])))\n",
        "      ys = torch.cat(ys).to(torch.float32).reshape(1, -1).cuda()\n",
        "      # print(ys.shape)\n",
        "      hidden = torch.cat([zs, ys], 1)\n",
        "      # print(\"hidden shape:\", hidden.shape)\n",
        "      x = vae.decoder.forward(hidden)\n",
        "      return (N < x.cpu()).type(torch.float)\n",
        "\n",
        "    def model(self, noise):\n",
        "      N_X = pyro.sample( 'N_X', noise['N_X'].to_event(1) ) #, constraint=constraints.positive)\n",
        "      # denoted using the index in the sequence \n",
        "      # that they are stored in as vae.label_names:\n",
        "      # ['shape', 'scale', 'orientation', 'posX', 'posY']\n",
        "      N_Y_1 = pyro.sample( 'N_Y_1', noise['N_Y_1'].to_event(1) ) #, constraint=constraints.positive)\n",
        "      # print(N_Y_1)\n",
        "      N_Y_2 = pyro.sample( 'N_Y_2', noise['N_Y_2'].to_event(1) ) #, constraint=constraints.positive)\n",
        "      N_Y_3 = pyro.sample( 'N_Y_3', noise['N_Y_3'].to_event(1) ) #, constraint=constraints.positive)\n",
        "      N_Y_4 = pyro.sample( 'N_Y_4', noise['N_Y_4'].to_event(1) ) #, constraint=constraints.positive)\n",
        "      N_Y_5 = pyro.sample( 'N_Y_5', noise['N_Y_5'].to_event(1) ) #, constraint=constraints.positive)\n",
        "\n",
        "      N_Z = pyro.sample( 'N_Z', noise['N_Z'].to_event(1))\n",
        "      # print(N_Z)\n",
        "      Z = pyro.sample('Z', dist.Normal( self.f_Z(N_Z), 1e-1).to_event(1))\n",
        "      # print(\"Z shape from model:\", Z.shape)\n",
        "\n",
        "      # _, _, dist_1 = self.f_Y(N_Y_1)\n",
        "      # # print(dist_1)\n",
        "      # Y_1 = pyro.sample('Y_1', dist_1.to_event(1))\n",
        "      # print(\"Y_1 sample :\", Y_1)\n",
        "      # _, _, dist_2 = self.f_Y(N_Y_2)\n",
        "      # Y_2 = pyro.sample('Y_2', dist_2.to_event(1))\n",
        "      # _, _, dist_3 = self.f_Y(N_Y_3)\n",
        "      # Y_3 = pyro.sample('Y_3', dist_3.to_event(1))\n",
        "      # _, _, dist_4 = self.f_Y(N_Y_4)\n",
        "      # Y_4 = pyro.sample('Y_4', dist_4.to_event(1))\n",
        "      # _, _, dist_5 = self.f_Y(N_Y_5)\n",
        "      # Y_5 = pyro.sample('Y_5', dist_5.to_event(1))\n",
        "\n",
        "      Y_1 = pyro.sample('Y_1', dist.Normal( self.f_Y(N_Y_1), 1e-1) )\n",
        "      Y_2 = pyro.sample('Y_2', dist.Normal( self.f_Y(N_Y_2), 1e-1) )\n",
        "      Y_3 = pyro.sample('Y_3', dist.Normal( self.f_Y(N_Y_3), 1e-1) )\n",
        "      Y_4 = pyro.sample('Y_4', dist.Normal( self.f_Y(N_Y_4), 1e-1) )\n",
        "      Y_5 = pyro.sample('Y_5', dist.Normal( self.f_Y(N_Y_5), 1e-1) )\n",
        "\n",
        "      X = pyro.sample('X', dist.Normal(self.f_X( (Y_1, Y_2, Y_3, Y_4, Y_5), Z, N_X), 1e-2).to_event(1))\n",
        "\n",
        "      # return noise and variables\n",
        "      noise_samples = N_X, (N_Y_1, N_Y_2, N_Y_3, N_Y_4, N_Y_5), N_Z\n",
        "      variable_samples = X, (Y_1, Y_2, Y_3, Y_4, Y_5), Z\n",
        "      return variable_samples, noise_samples\n",
        "\n",
        "    def guide(self, noise):\n",
        "      \"\"\"\n",
        "      The guide serves as an approximation to the posterior p(z|x). \n",
        "      The guide provides a valid joint probability density over all the \n",
        "      latent random variables in the model.\n",
        "      \n",
        "      https://pyro.ai/examples/svi_part_i.html\n",
        "      \"\"\"\n",
        "      # create params with constraints\n",
        "      mu = {\n",
        "          'N_X': pyro.param('N_X_mu', 0.5*torch.ones(self.image_dim), constraint = constraints.interval(0., 1.)),\n",
        "          'N_Z': pyro.param('N_Z_mu', torch.zeros(self.z_dim), constraint = constraints.interval(-3., 3.)),\n",
        "          'N_Y_1': pyro.param('N_Y_1_mu', 0.5*torch.ones(self.label_dims[1]), constraint = constraints.interval(0., 1.)),\n",
        "          'N_Y_2': pyro.param('N_Y_2_mu', 0.5*torch.ones(self.label_dims[2]), constraint = constraints.interval(0., 1.)),\n",
        "          'N_Y_3': pyro.param('N_Y_3_mu', 0.5*torch.ones(self.label_dims[3]), constraint = constraints.interval(0., 1.)),\n",
        "          'N_Y_4': pyro.param('N_Y_4_mu', 0.5*torch.ones(self.label_dims[4]), constraint = constraints.interval(0., 1.)),\n",
        "          'N_Y_5': pyro.param('N_Y_5_mu', 0.5*torch.ones(self.label_dims[5]), constraint = constraints.interval(0., 1.))\n",
        "          }\n",
        "      sigma = {\n",
        "          'N_X': pyro.param('N_X_sigma', 0.1*torch.ones(self.image_dim), constraint = constraints.interval(0.0001, 0.5)),\n",
        "          'N_Z': pyro.param('N_Z_sigma', torch.ones(self.z_dim), constraint = constraints.interval(0.0001, 3.)),\n",
        "          'N_Y_1': pyro.param('N_Y_1_sigma', 0.1*torch.ones(self.label_dims[1]), constraint = constraints.interval(0.0001, 0.5)),\n",
        "          'N_Y_2': pyro.param('N_Y_2_sigma', 0.1*torch.ones(self.label_dims[2]), constraint = constraints.interval(0.0001, 0.5)),\n",
        "          'N_Y_3': pyro.param('N_Y_3_sigma', 0.1*torch.ones(self.label_dims[3]), constraint = constraints.interval(0.0001, 0.5)),\n",
        "          'N_Y_4': pyro.param('N_Y_4_sigma', 0.1*torch.ones(self.label_dims[4]), constraint = constraints.interval(0.0001, 0.5)),\n",
        "          'N_Y_5': pyro.param('N_Y_5_sigma', 0.1*torch.ones(self.label_dims[5]), constraint = constraints.interval(0.0001, 0.5))\n",
        "          }\n",
        "      for noise_term in noise.keys():\n",
        "          pyro.sample(noise_term, dist.Normal(mu[noise_term], sigma[noise_term]).to_event(1))\n",
        "\n",
        "    def update_noise_svi(self, obs_data, intervened_model=None):\n",
        "         # Condition the model\n",
        "        if intervened_model is not None:\n",
        "          obs_model = pyro.condition(intervened_model, obs_data)\n",
        "        else:\n",
        "          obs_model = pyro.condition(self.model, obs_data)\n",
        "          \n",
        "        pyro.clear_param_store()\n",
        "\n",
        "        svi = SVI(\n",
        "            model = obs_model,\n",
        "            guide = self.guide,\n",
        "            optim = SGD({\"lr\": 1e-5, \"momentum\": 0.1}),\n",
        "            loss = Trace_ELBO(retain_graph=True)\n",
        "        )\n",
        "\n",
        "        num_steps = 1500\n",
        "        samples = defaultdict(list)\n",
        "        for t in range(num_steps):\n",
        "            loss = svi.step(self.init_noise)\n",
        "#             if t % 100 == 0:\n",
        "#                 print(\"step %d: loss of %.2f\" % (t, loss))\n",
        "            for noise in self.init_noise.keys():\n",
        "                mu = '{}_mu'.format(noise)\n",
        "                sigma = '{}_sigma'.format(noise)\n",
        "                samples[mu].append(pyro.param(mu).detach().numpy())\n",
        "                samples[sigma].append(pyro.param(sigma).detach().numpy())\n",
        "        means = {k: torch.tensor(np.array(v).mean(axis=0)) for k, v in samples.items()}\n",
        "        \n",
        "        # update the inferred noise\n",
        "        updated_noise = {\n",
        "            'N_X'  : dist.Normal(means['N_X_mu'], means['N_X_sigma']),\n",
        "            'N_Z'  : dist.Normal(means['N_Z_mu'], means['N_Z_sigma']),\n",
        "            'N_Y_1': dist.Normal(means['N_Y_1_mu'], means['N_Y_1_sigma']),\n",
        "            'N_Y_2': dist.Normal(means['N_Y_2_mu'], means['N_Y_2_sigma']),\n",
        "            'N_Y_3': dist.Normal(means['N_Y_3_mu'], means['N_Y_3_sigma']),\n",
        "            'N_Y_4': dist.Normal(means['N_Y_4_mu'], means['N_Y_4_sigma']),\n",
        "            'N_Y_5': dist.Normal(means['N_Y_5_mu'], means['N_Y_5_sigma']),\n",
        "        }\n",
        "        return updated_noise\n"
      ],
      "execution_count": null,
      "outputs": []
    },
    {
      "cell_type": "code",
      "metadata": {
        "id": "ZTaKJsSV0500",
        "colab": {
          "base_uri": "https://localhost:8080/"
        },
        "outputId": "ce1f852c-f303-4d5d-b5e9-4395bcb67869"
      },
      "source": [
        "# Generate an instance of dSprites image \n",
        "ox, y = get_specific_data(cuda=True)\n",
        "# plot_image(ox)\n",
        "# print(ox.shape)\n",
        "# print(y.shape)\n",
        "ox = ox.reshape(-1, 1, 64, 64)\n",
        "print(ox.dtype)\n",
        "vae.eval()\n",
        "mu, sigma, z = vae.guide(ox, y)\n",
        "print(mu.shape)\n",
        "print(sigma.shape)\n",
        "print(z.shape)\n",
        "scm = SCM(vae, mu.cpu(), sigma.cpu())"
      ],
      "execution_count": null,
      "outputs": [
        {
          "output_type": "stream",
          "name": "stdout",
          "text": [
            "torch.float32\n",
            "torch.Size([1, 4096])\n",
            "torch.Size([1, 4096])\n",
            "torch.Size([1, 4096])\n"
          ]
        }
      ]
    },
    {
      "cell_type": "code",
      "metadata": {
        "id": "8cUMr3UeaFIW",
        "colab": {
          "base_uri": "https://localhost:8080/"
        },
        "outputId": "84bf80cc-9812-46f3-d6f9-cf32a3f659e6"
      },
      "source": [
        "cond_data = {}\n",
        "for i in range(1, 6):\n",
        "    cond_data[\"Y_{}\".format(i)] = torch.tensor(y[0,i].cpu()).to(torch.float32)\n",
        "print(cond_data)"
      ],
      "execution_count": null,
      "outputs": [
        {
          "output_type": "stream",
          "name": "stdout",
          "text": [
            "{'Y_1': tensor(2.), 'Y_2': tensor(0.), 'Y_3': tensor(4.), 'Y_4': tensor(25.), 'Y_5': tensor(31.)}\n"
          ]
        }
      ]
    },
    {
      "cell_type": "code",
      "metadata": {
        "id": "oHmhlSu1Vwhr"
      },
      "source": [
        "# trace = pyro.poutine.trace(scm).get_trace()\n",
        "\n",
        "# trace.compute_log_prob() # optional, but allows printing of log_prob shapes\n",
        "# print(trace.format_shapes())"
      ],
      "execution_count": null,
      "outputs": []
    },
    {
      "cell_type": "code",
      "metadata": {
        "id": "VPrVNSpMvdrQ",
        "colab": {
          "base_uri": "https://localhost:8080/",
          "height": 1000
        },
        "outputId": "e55a7441-19f7-4fe0-9c8f-6adb0bc4381d"
      },
      "source": [
        "conditioned_model = pyro.condition(scm.model, data=cond_data)\n",
        "# trace = pyro.poutine.trace(conditioned_model)\n",
        "cond_noise = scm.update_noise_svi(cond_data)\n",
        "print(cond_noise['N_Y_1'])"
      ],
      "execution_count": null,
      "outputs": [
        {
          "output_type": "error",
          "ename": "ValueError",
          "evalue": "ignored",
          "traceback": [
            "\u001b[0;31m---------------------------------------------------------------------------\u001b[0m",
            "\u001b[0;31mValueError\u001b[0m                                Traceback (most recent call last)",
            "\u001b[0;32m/usr/local/lib/python3.7/dist-packages/pyro/poutine/trace_struct.py\u001b[0m in \u001b[0;36mcompute_log_prob\u001b[0;34m(self, site_filter)\u001b[0m\n\u001b[1;32m    230\u001b[0m                         log_p = site[\"fn\"].log_prob(\n\u001b[0;32m--> 231\u001b[0;31m                             \u001b[0msite\u001b[0m\u001b[0;34m[\u001b[0m\u001b[0;34m\"value\"\u001b[0m\u001b[0;34m]\u001b[0m\u001b[0;34m,\u001b[0m \u001b[0;34m*\u001b[0m\u001b[0msite\u001b[0m\u001b[0;34m[\u001b[0m\u001b[0;34m\"args\"\u001b[0m\u001b[0;34m]\u001b[0m\u001b[0;34m,\u001b[0m \u001b[0;34m**\u001b[0m\u001b[0msite\u001b[0m\u001b[0;34m[\u001b[0m\u001b[0;34m\"kwargs\"\u001b[0m\u001b[0;34m]\u001b[0m\u001b[0;34m\u001b[0m\u001b[0;34m\u001b[0m\u001b[0m\n\u001b[0m\u001b[1;32m    232\u001b[0m                         )\n",
            "\u001b[0;32m/usr/local/lib/python3.7/dist-packages/torch/distributions/independent.py\u001b[0m in \u001b[0;36mlog_prob\u001b[0;34m(self, value)\u001b[0m\n\u001b[1;32m     90\u001b[0m     \u001b[0;32mdef\u001b[0m \u001b[0mlog_prob\u001b[0m\u001b[0;34m(\u001b[0m\u001b[0mself\u001b[0m\u001b[0;34m,\u001b[0m \u001b[0mvalue\u001b[0m\u001b[0;34m)\u001b[0m\u001b[0;34m:\u001b[0m\u001b[0;34m\u001b[0m\u001b[0;34m\u001b[0m\u001b[0m\n\u001b[0;32m---> 91\u001b[0;31m         \u001b[0mlog_prob\u001b[0m \u001b[0;34m=\u001b[0m \u001b[0mself\u001b[0m\u001b[0;34m.\u001b[0m\u001b[0mbase_dist\u001b[0m\u001b[0;34m.\u001b[0m\u001b[0mlog_prob\u001b[0m\u001b[0;34m(\u001b[0m\u001b[0mvalue\u001b[0m\u001b[0;34m)\u001b[0m\u001b[0;34m\u001b[0m\u001b[0;34m\u001b[0m\u001b[0m\n\u001b[0m\u001b[1;32m     92\u001b[0m         \u001b[0;32mreturn\u001b[0m \u001b[0m_sum_rightmost\u001b[0m\u001b[0;34m(\u001b[0m\u001b[0mlog_prob\u001b[0m\u001b[0;34m,\u001b[0m \u001b[0mself\u001b[0m\u001b[0;34m.\u001b[0m\u001b[0mreinterpreted_batch_ndims\u001b[0m\u001b[0;34m)\u001b[0m\u001b[0;34m\u001b[0m\u001b[0;34m\u001b[0m\u001b[0m\n",
            "\u001b[0;32m/usr/local/lib/python3.7/dist-packages/torch/distributions/uniform.py\u001b[0m in \u001b[0;36mlog_prob\u001b[0;34m(self, value)\u001b[0m\n\u001b[1;32m     72\u001b[0m         \u001b[0;32mif\u001b[0m \u001b[0mself\u001b[0m\u001b[0;34m.\u001b[0m\u001b[0m_validate_args\u001b[0m\u001b[0;34m:\u001b[0m\u001b[0;34m\u001b[0m\u001b[0;34m\u001b[0m\u001b[0m\n\u001b[0;32m---> 73\u001b[0;31m             \u001b[0mself\u001b[0m\u001b[0;34m.\u001b[0m\u001b[0m_validate_sample\u001b[0m\u001b[0;34m(\u001b[0m\u001b[0mvalue\u001b[0m\u001b[0;34m)\u001b[0m\u001b[0;34m\u001b[0m\u001b[0;34m\u001b[0m\u001b[0m\n\u001b[0m\u001b[1;32m     74\u001b[0m         \u001b[0mlb\u001b[0m \u001b[0;34m=\u001b[0m \u001b[0mself\u001b[0m\u001b[0;34m.\u001b[0m\u001b[0mlow\u001b[0m\u001b[0;34m.\u001b[0m\u001b[0mle\u001b[0m\u001b[0;34m(\u001b[0m\u001b[0mvalue\u001b[0m\u001b[0;34m)\u001b[0m\u001b[0;34m.\u001b[0m\u001b[0mtype_as\u001b[0m\u001b[0;34m(\u001b[0m\u001b[0mself\u001b[0m\u001b[0;34m.\u001b[0m\u001b[0mlow\u001b[0m\u001b[0;34m)\u001b[0m\u001b[0;34m\u001b[0m\u001b[0;34m\u001b[0m\u001b[0m\n",
            "\u001b[0;32m/usr/local/lib/python3.7/dist-packages/torch/distributions/distribution.py\u001b[0m in \u001b[0;36m_validate_sample\u001b[0;34m(self, value)\u001b[0m\n\u001b[1;32m    288\u001b[0m             raise ValueError(\n\u001b[0;32m--> 289\u001b[0;31m                 \u001b[0;34m\"Expected value argument \"\u001b[0m\u001b[0;34m\u001b[0m\u001b[0;34m\u001b[0m\u001b[0m\n\u001b[0m\u001b[1;32m    290\u001b[0m                 \u001b[0;34mf\"({type(value).__name__} of shape {tuple(value.shape)}) \"\u001b[0m\u001b[0;34m\u001b[0m\u001b[0;34m\u001b[0m\u001b[0m\n",
            "\u001b[0;31mValueError\u001b[0m: Expected value argument (Tensor of shape (40,)) to be within the support (Interval(lower_bound=tensor([0., 0., 0., 0., 0., 0., 0., 0., 0., 0., 0., 0., 0., 0., 0., 0., 0., 0., 0., 0., 0., 0., 0., 0.,\n        0., 0., 0., 0., 0., 0., 0., 0., 0., 0., 0., 0., 0., 0., 0., 0.]), upper_bound=tensor([1., 1., 1., 1., 1., 1., 1., 1., 1., 1., 1., 1., 1., 1., 1., 1., 1., 1.,\n        1., 1., 1., 1., 1., 1., 1., 1., 1., 1., 1., 1., 1., 1., 1., 1., 1., 1.,\n        1., 1., 1., 1.]))) of the distribution Uniform(low: torch.Size([40]), high: torch.Size([40])), but found invalid values:\ntensor([0.7229, 0.6448, 0.8705, 1.0418, 0.5611, 0.6524, 0.5618, 0.5301, 0.6350,\n        0.4970, 0.3898, 0.5449, 0.5971, 0.5896, 0.5817, 0.3498, 0.5162, 0.5418,\n        0.4663, 0.4653, 0.4369, 0.3513, 0.4980, 0.4686, 0.5387, 0.4509, 0.5553,\n        0.4128, 0.3699, 0.3475, 0.2274, 0.4562, 0.3499, 0.4710, 0.3361, 0.5102,\n        0.3498, 0.4115, 0.4575, 0.4278], grad_fn=<AddBackward0>)",
            "\nThe above exception was the direct cause of the following exception:\n",
            "\u001b[0;31mValueError\u001b[0m                                Traceback (most recent call last)",
            "\u001b[0;32m<ipython-input-178-87cbd3988571>\u001b[0m in \u001b[0;36m<module>\u001b[0;34m()\u001b[0m\n\u001b[1;32m      1\u001b[0m \u001b[0mconditioned_model\u001b[0m \u001b[0;34m=\u001b[0m \u001b[0mpyro\u001b[0m\u001b[0;34m.\u001b[0m\u001b[0mcondition\u001b[0m\u001b[0;34m(\u001b[0m\u001b[0mscm\u001b[0m\u001b[0;34m.\u001b[0m\u001b[0mmodel\u001b[0m\u001b[0;34m,\u001b[0m \u001b[0mdata\u001b[0m\u001b[0;34m=\u001b[0m\u001b[0mcond_data\u001b[0m\u001b[0;34m)\u001b[0m\u001b[0;34m\u001b[0m\u001b[0;34m\u001b[0m\u001b[0m\n\u001b[1;32m      2\u001b[0m \u001b[0;31m# trace = pyro.poutine.trace(conditioned_model)\u001b[0m\u001b[0;34m\u001b[0m\u001b[0;34m\u001b[0m\u001b[0;34m\u001b[0m\u001b[0m\n\u001b[0;32m----> 3\u001b[0;31m \u001b[0mcond_noise\u001b[0m \u001b[0;34m=\u001b[0m \u001b[0mscm\u001b[0m\u001b[0;34m.\u001b[0m\u001b[0mupdate_noise_svi\u001b[0m\u001b[0;34m(\u001b[0m\u001b[0mcond_data\u001b[0m\u001b[0;34m)\u001b[0m\u001b[0;34m\u001b[0m\u001b[0;34m\u001b[0m\u001b[0m\n\u001b[0m\u001b[1;32m      4\u001b[0m \u001b[0mprint\u001b[0m\u001b[0;34m(\u001b[0m\u001b[0mcond_noise\u001b[0m\u001b[0;34m[\u001b[0m\u001b[0;34m'N_Y_1'\u001b[0m\u001b[0;34m]\u001b[0m\u001b[0;34m)\u001b[0m\u001b[0;34m\u001b[0m\u001b[0;34m\u001b[0m\u001b[0m\n",
            "\u001b[0;32m<ipython-input-174-202baa53ff83>\u001b[0m in \u001b[0;36mupdate_noise_svi\u001b[0;34m(self, obs_data, intervened_model)\u001b[0m\n\u001b[1;32m    151\u001b[0m         \u001b[0msamples\u001b[0m \u001b[0;34m=\u001b[0m \u001b[0mdefaultdict\u001b[0m\u001b[0;34m(\u001b[0m\u001b[0mlist\u001b[0m\u001b[0;34m)\u001b[0m\u001b[0;34m\u001b[0m\u001b[0;34m\u001b[0m\u001b[0m\n\u001b[1;32m    152\u001b[0m         \u001b[0;32mfor\u001b[0m \u001b[0mt\u001b[0m \u001b[0;32min\u001b[0m \u001b[0mrange\u001b[0m\u001b[0;34m(\u001b[0m\u001b[0mnum_steps\u001b[0m\u001b[0;34m)\u001b[0m\u001b[0;34m:\u001b[0m\u001b[0;34m\u001b[0m\u001b[0;34m\u001b[0m\u001b[0m\n\u001b[0;32m--> 153\u001b[0;31m             \u001b[0mloss\u001b[0m \u001b[0;34m=\u001b[0m \u001b[0msvi\u001b[0m\u001b[0;34m.\u001b[0m\u001b[0mstep\u001b[0m\u001b[0;34m(\u001b[0m\u001b[0mself\u001b[0m\u001b[0;34m.\u001b[0m\u001b[0minit_noise\u001b[0m\u001b[0;34m)\u001b[0m\u001b[0;34m\u001b[0m\u001b[0;34m\u001b[0m\u001b[0m\n\u001b[0m\u001b[1;32m    154\u001b[0m \u001b[0;31m#             if t % 100 == 0:\u001b[0m\u001b[0;34m\u001b[0m\u001b[0;34m\u001b[0m\u001b[0;34m\u001b[0m\u001b[0m\n\u001b[1;32m    155\u001b[0m \u001b[0;31m#                 print(\"step %d: loss of %.2f\" % (t, loss))\u001b[0m\u001b[0;34m\u001b[0m\u001b[0;34m\u001b[0m\u001b[0;34m\u001b[0m\u001b[0m\n",
            "\u001b[0;32m/usr/local/lib/python3.7/dist-packages/pyro/infer/svi.py\u001b[0m in \u001b[0;36mstep\u001b[0;34m(self, *args, **kwargs)\u001b[0m\n\u001b[1;32m    143\u001b[0m         \u001b[0;31m# get loss and compute gradients\u001b[0m\u001b[0;34m\u001b[0m\u001b[0;34m\u001b[0m\u001b[0;34m\u001b[0m\u001b[0m\n\u001b[1;32m    144\u001b[0m         \u001b[0;32mwith\u001b[0m \u001b[0mpoutine\u001b[0m\u001b[0;34m.\u001b[0m\u001b[0mtrace\u001b[0m\u001b[0;34m(\u001b[0m\u001b[0mparam_only\u001b[0m\u001b[0;34m=\u001b[0m\u001b[0;32mTrue\u001b[0m\u001b[0;34m)\u001b[0m \u001b[0;32mas\u001b[0m \u001b[0mparam_capture\u001b[0m\u001b[0;34m:\u001b[0m\u001b[0;34m\u001b[0m\u001b[0;34m\u001b[0m\u001b[0m\n\u001b[0;32m--> 145\u001b[0;31m             \u001b[0mloss\u001b[0m \u001b[0;34m=\u001b[0m \u001b[0mself\u001b[0m\u001b[0;34m.\u001b[0m\u001b[0mloss_and_grads\u001b[0m\u001b[0;34m(\u001b[0m\u001b[0mself\u001b[0m\u001b[0;34m.\u001b[0m\u001b[0mmodel\u001b[0m\u001b[0;34m,\u001b[0m \u001b[0mself\u001b[0m\u001b[0;34m.\u001b[0m\u001b[0mguide\u001b[0m\u001b[0;34m,\u001b[0m \u001b[0;34m*\u001b[0m\u001b[0margs\u001b[0m\u001b[0;34m,\u001b[0m \u001b[0;34m**\u001b[0m\u001b[0mkwargs\u001b[0m\u001b[0;34m)\u001b[0m\u001b[0;34m\u001b[0m\u001b[0;34m\u001b[0m\u001b[0m\n\u001b[0m\u001b[1;32m    146\u001b[0m \u001b[0;34m\u001b[0m\u001b[0m\n\u001b[1;32m    147\u001b[0m         params = set(\n",
            "\u001b[0;32m/usr/local/lib/python3.7/dist-packages/pyro/infer/trace_elbo.py\u001b[0m in \u001b[0;36mloss_and_grads\u001b[0;34m(self, model, guide, *args, **kwargs)\u001b[0m\n\u001b[1;32m    138\u001b[0m         \u001b[0mloss\u001b[0m \u001b[0;34m=\u001b[0m \u001b[0;36m0.0\u001b[0m\u001b[0;34m\u001b[0m\u001b[0;34m\u001b[0m\u001b[0m\n\u001b[1;32m    139\u001b[0m         \u001b[0;31m# grab a trace from the generator\u001b[0m\u001b[0;34m\u001b[0m\u001b[0;34m\u001b[0m\u001b[0;34m\u001b[0m\u001b[0m\n\u001b[0;32m--> 140\u001b[0;31m         \u001b[0;32mfor\u001b[0m \u001b[0mmodel_trace\u001b[0m\u001b[0;34m,\u001b[0m \u001b[0mguide_trace\u001b[0m \u001b[0;32min\u001b[0m \u001b[0mself\u001b[0m\u001b[0;34m.\u001b[0m\u001b[0m_get_traces\u001b[0m\u001b[0;34m(\u001b[0m\u001b[0mmodel\u001b[0m\u001b[0;34m,\u001b[0m \u001b[0mguide\u001b[0m\u001b[0;34m,\u001b[0m \u001b[0margs\u001b[0m\u001b[0;34m,\u001b[0m \u001b[0mkwargs\u001b[0m\u001b[0;34m)\u001b[0m\u001b[0;34m:\u001b[0m\u001b[0;34m\u001b[0m\u001b[0;34m\u001b[0m\u001b[0m\n\u001b[0m\u001b[1;32m    141\u001b[0m             loss_particle, surrogate_loss_particle = self._differentiable_loss_particle(\n\u001b[1;32m    142\u001b[0m                 \u001b[0mmodel_trace\u001b[0m\u001b[0;34m,\u001b[0m \u001b[0mguide_trace\u001b[0m\u001b[0;34m\u001b[0m\u001b[0;34m\u001b[0m\u001b[0m\n",
            "\u001b[0;32m/usr/local/lib/python3.7/dist-packages/pyro/infer/elbo.py\u001b[0m in \u001b[0;36m_get_traces\u001b[0;34m(self, model, guide, args, kwargs)\u001b[0m\n\u001b[1;32m    184\u001b[0m         \u001b[0;32melse\u001b[0m\u001b[0;34m:\u001b[0m\u001b[0;34m\u001b[0m\u001b[0;34m\u001b[0m\u001b[0m\n\u001b[1;32m    185\u001b[0m             \u001b[0;32mfor\u001b[0m \u001b[0mi\u001b[0m \u001b[0;32min\u001b[0m \u001b[0mrange\u001b[0m\u001b[0;34m(\u001b[0m\u001b[0mself\u001b[0m\u001b[0;34m.\u001b[0m\u001b[0mnum_particles\u001b[0m\u001b[0;34m)\u001b[0m\u001b[0;34m:\u001b[0m\u001b[0;34m\u001b[0m\u001b[0;34m\u001b[0m\u001b[0m\n\u001b[0;32m--> 186\u001b[0;31m                 \u001b[0;32myield\u001b[0m \u001b[0mself\u001b[0m\u001b[0;34m.\u001b[0m\u001b[0m_get_trace\u001b[0m\u001b[0;34m(\u001b[0m\u001b[0mmodel\u001b[0m\u001b[0;34m,\u001b[0m \u001b[0mguide\u001b[0m\u001b[0;34m,\u001b[0m \u001b[0margs\u001b[0m\u001b[0;34m,\u001b[0m \u001b[0mkwargs\u001b[0m\u001b[0;34m)\u001b[0m\u001b[0;34m\u001b[0m\u001b[0;34m\u001b[0m\u001b[0m\n\u001b[0m",
            "\u001b[0;32m/usr/local/lib/python3.7/dist-packages/pyro/infer/trace_elbo.py\u001b[0m in \u001b[0;36m_get_trace\u001b[0;34m(self, model, guide, args, kwargs)\u001b[0m\n\u001b[1;32m     56\u001b[0m         \"\"\"\n\u001b[1;32m     57\u001b[0m         model_trace, guide_trace = get_importance_trace(\n\u001b[0;32m---> 58\u001b[0;31m             \u001b[0;34m\"flat\"\u001b[0m\u001b[0;34m,\u001b[0m \u001b[0mself\u001b[0m\u001b[0;34m.\u001b[0m\u001b[0mmax_plate_nesting\u001b[0m\u001b[0;34m,\u001b[0m \u001b[0mmodel\u001b[0m\u001b[0;34m,\u001b[0m \u001b[0mguide\u001b[0m\u001b[0;34m,\u001b[0m \u001b[0margs\u001b[0m\u001b[0;34m,\u001b[0m \u001b[0mkwargs\u001b[0m\u001b[0;34m\u001b[0m\u001b[0;34m\u001b[0m\u001b[0m\n\u001b[0m\u001b[1;32m     59\u001b[0m         )\n\u001b[1;32m     60\u001b[0m         \u001b[0;32mif\u001b[0m \u001b[0mis_validation_enabled\u001b[0m\u001b[0;34m(\u001b[0m\u001b[0;34m)\u001b[0m\u001b[0;34m:\u001b[0m\u001b[0;34m\u001b[0m\u001b[0;34m\u001b[0m\u001b[0m\n",
            "\u001b[0;32m/usr/local/lib/python3.7/dist-packages/pyro/infer/enum.py\u001b[0m in \u001b[0;36mget_importance_trace\u001b[0;34m(graph_type, max_plate_nesting, model, guide, args, kwargs, detach)\u001b[0m\n\u001b[1;32m     62\u001b[0m     \u001b[0mmodel_trace\u001b[0m \u001b[0;34m=\u001b[0m \u001b[0mprune_subsample_sites\u001b[0m\u001b[0;34m(\u001b[0m\u001b[0mmodel_trace\u001b[0m\u001b[0;34m)\u001b[0m\u001b[0;34m\u001b[0m\u001b[0;34m\u001b[0m\u001b[0m\n\u001b[1;32m     63\u001b[0m \u001b[0;34m\u001b[0m\u001b[0m\n\u001b[0;32m---> 64\u001b[0;31m     \u001b[0mmodel_trace\u001b[0m\u001b[0;34m.\u001b[0m\u001b[0mcompute_log_prob\u001b[0m\u001b[0;34m(\u001b[0m\u001b[0;34m)\u001b[0m\u001b[0;34m\u001b[0m\u001b[0;34m\u001b[0m\u001b[0m\n\u001b[0m\u001b[1;32m     65\u001b[0m     \u001b[0mguide_trace\u001b[0m\u001b[0;34m.\u001b[0m\u001b[0mcompute_score_parts\u001b[0m\u001b[0;34m(\u001b[0m\u001b[0;34m)\u001b[0m\u001b[0;34m\u001b[0m\u001b[0;34m\u001b[0m\u001b[0m\n\u001b[1;32m     66\u001b[0m     \u001b[0;32mif\u001b[0m \u001b[0mis_validation_enabled\u001b[0m\u001b[0;34m(\u001b[0m\u001b[0;34m)\u001b[0m\u001b[0;34m:\u001b[0m\u001b[0;34m\u001b[0m\u001b[0;34m\u001b[0m\u001b[0m\n",
            "\u001b[0;32m/usr/local/lib/python3.7/dist-packages/pyro/poutine/trace_struct.py\u001b[0m in \u001b[0;36mcompute_log_prob\u001b[0;34m(self, site_filter)\u001b[0m\n\u001b[1;32m    238\u001b[0m                                 \u001b[0mname\u001b[0m\u001b[0;34m,\u001b[0m \u001b[0mexc_value\u001b[0m\u001b[0;34m,\u001b[0m \u001b[0mshapes\u001b[0m\u001b[0;34m\u001b[0m\u001b[0;34m\u001b[0m\u001b[0m\n\u001b[1;32m    239\u001b[0m                             )\n\u001b[0;32m--> 240\u001b[0;31m                         ).with_traceback(traceback) from e\n\u001b[0m\u001b[1;32m    241\u001b[0m                     \u001b[0msite\u001b[0m\u001b[0;34m[\u001b[0m\u001b[0;34m\"unscaled_log_prob\"\u001b[0m\u001b[0;34m]\u001b[0m \u001b[0;34m=\u001b[0m \u001b[0mlog_p\u001b[0m\u001b[0;34m\u001b[0m\u001b[0;34m\u001b[0m\u001b[0m\n\u001b[1;32m    242\u001b[0m                     \u001b[0mlog_p\u001b[0m \u001b[0;34m=\u001b[0m \u001b[0mscale_and_mask\u001b[0m\u001b[0;34m(\u001b[0m\u001b[0mlog_p\u001b[0m\u001b[0;34m,\u001b[0m \u001b[0msite\u001b[0m\u001b[0;34m[\u001b[0m\u001b[0;34m\"scale\"\u001b[0m\u001b[0;34m]\u001b[0m\u001b[0;34m,\u001b[0m \u001b[0msite\u001b[0m\u001b[0;34m[\u001b[0m\u001b[0;34m\"mask\"\u001b[0m\u001b[0;34m]\u001b[0m\u001b[0;34m)\u001b[0m\u001b[0;34m\u001b[0m\u001b[0;34m\u001b[0m\u001b[0m\n",
            "\u001b[0;32m/usr/local/lib/python3.7/dist-packages/pyro/poutine/trace_struct.py\u001b[0m in \u001b[0;36mcompute_log_prob\u001b[0;34m(self, site_filter)\u001b[0m\n\u001b[1;32m    229\u001b[0m                     \u001b[0;32mtry\u001b[0m\u001b[0;34m:\u001b[0m\u001b[0;34m\u001b[0m\u001b[0;34m\u001b[0m\u001b[0m\n\u001b[1;32m    230\u001b[0m                         log_p = site[\"fn\"].log_prob(\n\u001b[0;32m--> 231\u001b[0;31m                             \u001b[0msite\u001b[0m\u001b[0;34m[\u001b[0m\u001b[0;34m\"value\"\u001b[0m\u001b[0;34m]\u001b[0m\u001b[0;34m,\u001b[0m \u001b[0;34m*\u001b[0m\u001b[0msite\u001b[0m\u001b[0;34m[\u001b[0m\u001b[0;34m\"args\"\u001b[0m\u001b[0;34m]\u001b[0m\u001b[0;34m,\u001b[0m \u001b[0;34m**\u001b[0m\u001b[0msite\u001b[0m\u001b[0;34m[\u001b[0m\u001b[0;34m\"kwargs\"\u001b[0m\u001b[0;34m]\u001b[0m\u001b[0;34m\u001b[0m\u001b[0;34m\u001b[0m\u001b[0m\n\u001b[0m\u001b[1;32m    232\u001b[0m                         )\n\u001b[1;32m    233\u001b[0m                     \u001b[0;32mexcept\u001b[0m \u001b[0mValueError\u001b[0m \u001b[0;32mas\u001b[0m \u001b[0me\u001b[0m\u001b[0;34m:\u001b[0m\u001b[0;34m\u001b[0m\u001b[0;34m\u001b[0m\u001b[0m\n",
            "\u001b[0;32m/usr/local/lib/python3.7/dist-packages/torch/distributions/independent.py\u001b[0m in \u001b[0;36mlog_prob\u001b[0;34m(self, value)\u001b[0m\n\u001b[1;32m     89\u001b[0m \u001b[0;34m\u001b[0m\u001b[0m\n\u001b[1;32m     90\u001b[0m     \u001b[0;32mdef\u001b[0m \u001b[0mlog_prob\u001b[0m\u001b[0;34m(\u001b[0m\u001b[0mself\u001b[0m\u001b[0;34m,\u001b[0m \u001b[0mvalue\u001b[0m\u001b[0;34m)\u001b[0m\u001b[0;34m:\u001b[0m\u001b[0;34m\u001b[0m\u001b[0;34m\u001b[0m\u001b[0m\n\u001b[0;32m---> 91\u001b[0;31m         \u001b[0mlog_prob\u001b[0m \u001b[0;34m=\u001b[0m \u001b[0mself\u001b[0m\u001b[0;34m.\u001b[0m\u001b[0mbase_dist\u001b[0m\u001b[0;34m.\u001b[0m\u001b[0mlog_prob\u001b[0m\u001b[0;34m(\u001b[0m\u001b[0mvalue\u001b[0m\u001b[0;34m)\u001b[0m\u001b[0;34m\u001b[0m\u001b[0;34m\u001b[0m\u001b[0m\n\u001b[0m\u001b[1;32m     92\u001b[0m         \u001b[0;32mreturn\u001b[0m \u001b[0m_sum_rightmost\u001b[0m\u001b[0;34m(\u001b[0m\u001b[0mlog_prob\u001b[0m\u001b[0;34m,\u001b[0m \u001b[0mself\u001b[0m\u001b[0;34m.\u001b[0m\u001b[0mreinterpreted_batch_ndims\u001b[0m\u001b[0;34m)\u001b[0m\u001b[0;34m\u001b[0m\u001b[0;34m\u001b[0m\u001b[0m\n\u001b[1;32m     93\u001b[0m \u001b[0;34m\u001b[0m\u001b[0m\n",
            "\u001b[0;32m/usr/local/lib/python3.7/dist-packages/torch/distributions/uniform.py\u001b[0m in \u001b[0;36mlog_prob\u001b[0;34m(self, value)\u001b[0m\n\u001b[1;32m     71\u001b[0m     \u001b[0;32mdef\u001b[0m \u001b[0mlog_prob\u001b[0m\u001b[0;34m(\u001b[0m\u001b[0mself\u001b[0m\u001b[0;34m,\u001b[0m \u001b[0mvalue\u001b[0m\u001b[0;34m)\u001b[0m\u001b[0;34m:\u001b[0m\u001b[0;34m\u001b[0m\u001b[0;34m\u001b[0m\u001b[0m\n\u001b[1;32m     72\u001b[0m         \u001b[0;32mif\u001b[0m \u001b[0mself\u001b[0m\u001b[0;34m.\u001b[0m\u001b[0m_validate_args\u001b[0m\u001b[0;34m:\u001b[0m\u001b[0;34m\u001b[0m\u001b[0;34m\u001b[0m\u001b[0m\n\u001b[0;32m---> 73\u001b[0;31m             \u001b[0mself\u001b[0m\u001b[0;34m.\u001b[0m\u001b[0m_validate_sample\u001b[0m\u001b[0;34m(\u001b[0m\u001b[0mvalue\u001b[0m\u001b[0;34m)\u001b[0m\u001b[0;34m\u001b[0m\u001b[0;34m\u001b[0m\u001b[0m\n\u001b[0m\u001b[1;32m     74\u001b[0m         \u001b[0mlb\u001b[0m \u001b[0;34m=\u001b[0m \u001b[0mself\u001b[0m\u001b[0;34m.\u001b[0m\u001b[0mlow\u001b[0m\u001b[0;34m.\u001b[0m\u001b[0mle\u001b[0m\u001b[0;34m(\u001b[0m\u001b[0mvalue\u001b[0m\u001b[0;34m)\u001b[0m\u001b[0;34m.\u001b[0m\u001b[0mtype_as\u001b[0m\u001b[0;34m(\u001b[0m\u001b[0mself\u001b[0m\u001b[0;34m.\u001b[0m\u001b[0mlow\u001b[0m\u001b[0;34m)\u001b[0m\u001b[0;34m\u001b[0m\u001b[0;34m\u001b[0m\u001b[0m\n\u001b[1;32m     75\u001b[0m         \u001b[0mub\u001b[0m \u001b[0;34m=\u001b[0m \u001b[0mself\u001b[0m\u001b[0;34m.\u001b[0m\u001b[0mhigh\u001b[0m\u001b[0;34m.\u001b[0m\u001b[0mgt\u001b[0m\u001b[0;34m(\u001b[0m\u001b[0mvalue\u001b[0m\u001b[0;34m)\u001b[0m\u001b[0;34m.\u001b[0m\u001b[0mtype_as\u001b[0m\u001b[0;34m(\u001b[0m\u001b[0mself\u001b[0m\u001b[0;34m.\u001b[0m\u001b[0mlow\u001b[0m\u001b[0;34m)\u001b[0m\u001b[0;34m\u001b[0m\u001b[0;34m\u001b[0m\u001b[0m\n",
            "\u001b[0;32m/usr/local/lib/python3.7/dist-packages/torch/distributions/distribution.py\u001b[0m in \u001b[0;36m_validate_sample\u001b[0;34m(self, value)\u001b[0m\n\u001b[1;32m    287\u001b[0m         \u001b[0;32mif\u001b[0m \u001b[0;32mnot\u001b[0m \u001b[0mvalid\u001b[0m\u001b[0;34m.\u001b[0m\u001b[0mall\u001b[0m\u001b[0;34m(\u001b[0m\u001b[0;34m)\u001b[0m\u001b[0;34m:\u001b[0m\u001b[0;34m\u001b[0m\u001b[0;34m\u001b[0m\u001b[0m\n\u001b[1;32m    288\u001b[0m             raise ValueError(\n\u001b[0;32m--> 289\u001b[0;31m                 \u001b[0;34m\"Expected value argument \"\u001b[0m\u001b[0;34m\u001b[0m\u001b[0;34m\u001b[0m\u001b[0m\n\u001b[0m\u001b[1;32m    290\u001b[0m                 \u001b[0;34mf\"({type(value).__name__} of shape {tuple(value.shape)}) \"\u001b[0m\u001b[0;34m\u001b[0m\u001b[0;34m\u001b[0m\u001b[0m\n\u001b[1;32m    291\u001b[0m                 \u001b[0;34mf\"to be within the support ({repr(support)}) \"\u001b[0m\u001b[0;34m\u001b[0m\u001b[0;34m\u001b[0m\u001b[0m\n",
            "\u001b[0;31mValueError\u001b[0m: Error while computing log_prob at site 'N_Y_3':\nExpected value argument (Tensor of shape (40,)) to be within the support (Interval(lower_bound=tensor([0., 0., 0., 0., 0., 0., 0., 0., 0., 0., 0., 0., 0., 0., 0., 0., 0., 0., 0., 0., 0., 0., 0., 0.,\n        0., 0., 0., 0., 0., 0., 0., 0., 0., 0., 0., 0., 0., 0., 0., 0.]), upper_bound=tensor([1., 1., 1., 1., 1., 1., 1., 1., 1., 1., 1., 1., 1., 1., 1., 1., 1., 1.,\n        1., 1., 1., 1., 1., 1., 1., 1., 1., 1., 1., 1., 1., 1., 1., 1., 1., 1.,\n        1., 1., 1., 1.]))) of the distribution Uniform(low: torch.Size([40]), high: torch.Size([40])), but found invalid values:\ntensor([0.7229, 0.6448, 0.8705, 1.0418, 0.5611, 0.6524, 0.5618, 0.5301, 0.6350,\n        0.4970, 0.3898, 0.5449, 0.5971, 0.5896, 0.5817, 0.3498, 0.5162, 0.5418,\n        0.4663, 0.4653, 0.4369, 0.3513, 0.4980, 0.4686, 0.5387, 0.4509, 0.5553,\n        0.4128, 0.3699, 0.3475, 0.2274, 0.4562, 0.3499, 0.4710, 0.3361, 0.5102,\n        0.3498, 0.4115, 0.4575, 0.4278], grad_fn=<AddBackward0>)\nTrace Shapes:       \n Param Sites:       \nSample Sites:       \n     N_X dist | 4096\n        value | 4096\n     log_prob |     \n   N_Y_1 dist |    3\n        value |    3\n     log_prob |     \n   N_Y_2 dist |    6\n        value |    6\n     log_prob |     \n   N_Y_3 dist |   40\n        value |   40"
          ]
        }
      ]
    },
    {
      "cell_type": "code",
      "metadata": {
        "colab": {
          "base_uri": "https://localhost:8080/"
        },
        "id": "cmUREkfiqI-N",
        "outputId": "0bcb8d76-a1ae-4bd6-9fd2-94053b6626dd"
      },
      "source": [
        "print(type(cond_noise['N_Y_1']))"
      ],
      "execution_count": null,
      "outputs": [
        {
          "output_type": "stream",
          "name": "stdout",
          "text": [
            "<class 'pyro.distributions.torch.Normal'>\n"
          ]
        }
      ]
    },
    {
      "cell_type": "code",
      "metadata": {
        "id": "liH9mYvGvdrQ",
        "colab": {
          "base_uri": "https://localhost:8080/",
          "height": 522
        },
        "outputId": "056390ec-b926-49f8-c5aa-3daaeabe58f2"
      },
      "source": [
        "rxs = []\n",
        "for i in range(100):\n",
        "    (rx, ry,_), _ = scm.model(cond_noise)\n",
        "    rxs.append(rx)\n",
        "compare_to_density(ox, torch.cat(rxs))\n",
        "_ =plt.suptitle(\"SCM Conditioned on Original\", fontsize=18, fontstyle='italic')"
      ],
      "execution_count": null,
      "outputs": [
        {
          "output_type": "stream",
          "name": "stdout",
          "text": [
            "tensor([0.3576, 0.3411, 0.5172])\n"
          ]
        },
        {
          "output_type": "error",
          "ename": "RuntimeError",
          "evalue": "ignored",
          "traceback": [
            "\u001b[0;31m---------------------------------------------------------------------------\u001b[0m",
            "\u001b[0;31mRuntimeError\u001b[0m                              Traceback (most recent call last)",
            "\u001b[0;32m<ipython-input-150-5d1364f4c868>\u001b[0m in \u001b[0;36m<module>\u001b[0;34m()\u001b[0m\n\u001b[1;32m      1\u001b[0m \u001b[0mrxs\u001b[0m \u001b[0;34m=\u001b[0m \u001b[0;34m[\u001b[0m\u001b[0;34m]\u001b[0m\u001b[0;34m\u001b[0m\u001b[0;34m\u001b[0m\u001b[0m\n\u001b[1;32m      2\u001b[0m \u001b[0;32mfor\u001b[0m \u001b[0mi\u001b[0m \u001b[0;32min\u001b[0m \u001b[0mrange\u001b[0m\u001b[0;34m(\u001b[0m\u001b[0;36m100\u001b[0m\u001b[0;34m)\u001b[0m\u001b[0;34m:\u001b[0m\u001b[0;34m\u001b[0m\u001b[0;34m\u001b[0m\u001b[0m\n\u001b[0;32m----> 3\u001b[0;31m     \u001b[0;34m(\u001b[0m\u001b[0mrx\u001b[0m\u001b[0;34m,\u001b[0m \u001b[0mry\u001b[0m\u001b[0;34m,\u001b[0m\u001b[0m_\u001b[0m\u001b[0;34m)\u001b[0m\u001b[0;34m,\u001b[0m \u001b[0m_\u001b[0m \u001b[0;34m=\u001b[0m \u001b[0mscm\u001b[0m\u001b[0;34m.\u001b[0m\u001b[0mmodel\u001b[0m\u001b[0;34m(\u001b[0m\u001b[0mcond_noise\u001b[0m\u001b[0;34m)\u001b[0m\u001b[0;34m\u001b[0m\u001b[0;34m\u001b[0m\u001b[0m\n\u001b[0m\u001b[1;32m      4\u001b[0m     \u001b[0mrxs\u001b[0m\u001b[0;34m.\u001b[0m\u001b[0mappend\u001b[0m\u001b[0;34m(\u001b[0m\u001b[0mrx\u001b[0m\u001b[0;34m)\u001b[0m\u001b[0;34m\u001b[0m\u001b[0;34m\u001b[0m\u001b[0m\n\u001b[1;32m      5\u001b[0m \u001b[0mcompare_to_density\u001b[0m\u001b[0;34m(\u001b[0m\u001b[0mox\u001b[0m\u001b[0;34m,\u001b[0m \u001b[0mtorch\u001b[0m\u001b[0;34m.\u001b[0m\u001b[0mcat\u001b[0m\u001b[0;34m(\u001b[0m\u001b[0mrxs\u001b[0m\u001b[0;34m)\u001b[0m\u001b[0;34m)\u001b[0m\u001b[0;34m\u001b[0m\u001b[0;34m\u001b[0m\u001b[0m\n",
            "\u001b[0;32m<ipython-input-145-d3f818dc440e>\u001b[0m in \u001b[0;36mmodel\u001b[0;34m(self, noise)\u001b[0m\n\u001b[1;32m     84\u001b[0m       \u001b[0mY_5\u001b[0m \u001b[0;34m=\u001b[0m \u001b[0mpyro\u001b[0m\u001b[0;34m.\u001b[0m\u001b[0msample\u001b[0m\u001b[0;34m(\u001b[0m\u001b[0;34m'Y_5'\u001b[0m\u001b[0;34m,\u001b[0m \u001b[0mdist_5\u001b[0m\u001b[0;34m.\u001b[0m\u001b[0mto_event\u001b[0m\u001b[0;34m(\u001b[0m\u001b[0;36m1\u001b[0m\u001b[0;34m)\u001b[0m\u001b[0;34m)\u001b[0m\u001b[0;34m\u001b[0m\u001b[0;34m\u001b[0m\u001b[0m\n\u001b[1;32m     85\u001b[0m \u001b[0;34m\u001b[0m\u001b[0m\n\u001b[0;32m---> 86\u001b[0;31m       \u001b[0mX\u001b[0m \u001b[0;34m=\u001b[0m \u001b[0mpyro\u001b[0m\u001b[0;34m.\u001b[0m\u001b[0msample\u001b[0m\u001b[0;34m(\u001b[0m\u001b[0;34m'X'\u001b[0m\u001b[0;34m,\u001b[0m \u001b[0mdist\u001b[0m\u001b[0;34m.\u001b[0m\u001b[0mNormal\u001b[0m\u001b[0;34m(\u001b[0m\u001b[0mself\u001b[0m\u001b[0;34m.\u001b[0m\u001b[0mf_X\u001b[0m\u001b[0;34m(\u001b[0m \u001b[0;34m(\u001b[0m\u001b[0mY_1\u001b[0m\u001b[0;34m,\u001b[0m \u001b[0mY_2\u001b[0m\u001b[0;34m,\u001b[0m \u001b[0mY_3\u001b[0m\u001b[0;34m,\u001b[0m \u001b[0mY_4\u001b[0m\u001b[0;34m,\u001b[0m \u001b[0mY_5\u001b[0m\u001b[0;34m)\u001b[0m\u001b[0;34m,\u001b[0m \u001b[0mZ\u001b[0m\u001b[0;34m,\u001b[0m \u001b[0mN_X\u001b[0m\u001b[0;34m)\u001b[0m\u001b[0;34m,\u001b[0m \u001b[0;36m1e-2\u001b[0m\u001b[0;34m)\u001b[0m\u001b[0;34m.\u001b[0m\u001b[0mto_event\u001b[0m\u001b[0;34m(\u001b[0m\u001b[0;36m1\u001b[0m\u001b[0;34m)\u001b[0m\u001b[0;34m)\u001b[0m\u001b[0;34m\u001b[0m\u001b[0;34m\u001b[0m\u001b[0m\n\u001b[0m\u001b[1;32m     87\u001b[0m \u001b[0;34m\u001b[0m\u001b[0m\n\u001b[1;32m     88\u001b[0m       \u001b[0;31m# return noise and variables\u001b[0m\u001b[0;34m\u001b[0m\u001b[0;34m\u001b[0m\u001b[0;34m\u001b[0m\u001b[0m\n",
            "\u001b[0;32m<ipython-input-145-d3f818dc440e>\u001b[0m in \u001b[0;36mf_X\u001b[0;34m(self, Y, Z, N)\u001b[0m\n\u001b[1;32m     42\u001b[0m       \u001b[0;31m# convert the labels to one hot\u001b[0m\u001b[0;34m\u001b[0m\u001b[0;34m\u001b[0m\u001b[0;34m\u001b[0m\u001b[0m\n\u001b[1;32m     43\u001b[0m       \u001b[0mys\u001b[0m \u001b[0;34m=\u001b[0m \u001b[0;34m[\u001b[0m\u001b[0mtorch\u001b[0m\u001b[0;34m.\u001b[0m\u001b[0mtensor\u001b[0m\u001b[0;34m(\u001b[0m\u001b[0;34m[\u001b[0m\u001b[0;36m0\u001b[0m\u001b[0;34m]\u001b[0m\u001b[0;34m)\u001b[0m\u001b[0;34m]\u001b[0m\u001b[0;34m\u001b[0m\u001b[0;34m\u001b[0m\u001b[0m\n\u001b[0;32m---> 44\u001b[0;31m       \u001b[0mys\u001b[0m\u001b[0;34m.\u001b[0m\u001b[0mappend\u001b[0m\u001b[0;34m(\u001b[0m\u001b[0mtorch\u001b[0m\u001b[0;34m.\u001b[0m\u001b[0mnn\u001b[0m\u001b[0;34m.\u001b[0m\u001b[0mfunctional\u001b[0m\u001b[0;34m.\u001b[0m\u001b[0mone_hot\u001b[0m\u001b[0;34m(\u001b[0m\u001b[0mtorch\u001b[0m\u001b[0;34m.\u001b[0m\u001b[0mround\u001b[0m\u001b[0;34m(\u001b[0m\u001b[0mY\u001b[0m\u001b[0;34m[\u001b[0m\u001b[0;36m0\u001b[0m\u001b[0;34m]\u001b[0m\u001b[0;34m)\u001b[0m\u001b[0;34m.\u001b[0m\u001b[0mto\u001b[0m\u001b[0;34m(\u001b[0m\u001b[0mtorch\u001b[0m\u001b[0;34m.\u001b[0m\u001b[0mlong\u001b[0m\u001b[0;34m)\u001b[0m\u001b[0;34m,\u001b[0m \u001b[0mint\u001b[0m\u001b[0;34m(\u001b[0m\u001b[0mself\u001b[0m\u001b[0;34m.\u001b[0m\u001b[0mlabel_dims\u001b[0m\u001b[0;34m[\u001b[0m\u001b[0;36m1\u001b[0m\u001b[0;34m]\u001b[0m\u001b[0;34m)\u001b[0m\u001b[0;34m)\u001b[0m\u001b[0;34m)\u001b[0m\u001b[0;34m\u001b[0m\u001b[0;34m\u001b[0m\u001b[0m\n\u001b[0m\u001b[1;32m     45\u001b[0m       \u001b[0mys\u001b[0m\u001b[0;34m.\u001b[0m\u001b[0mappend\u001b[0m\u001b[0;34m(\u001b[0m\u001b[0mtorch\u001b[0m\u001b[0;34m.\u001b[0m\u001b[0mnn\u001b[0m\u001b[0;34m.\u001b[0m\u001b[0mfunctional\u001b[0m\u001b[0;34m.\u001b[0m\u001b[0mone_hot\u001b[0m\u001b[0;34m(\u001b[0m\u001b[0mtorch\u001b[0m\u001b[0;34m.\u001b[0m\u001b[0mround\u001b[0m\u001b[0;34m(\u001b[0m\u001b[0mY\u001b[0m\u001b[0;34m[\u001b[0m\u001b[0;36m1\u001b[0m\u001b[0;34m]\u001b[0m\u001b[0;34m)\u001b[0m\u001b[0;34m.\u001b[0m\u001b[0mto\u001b[0m\u001b[0;34m(\u001b[0m\u001b[0mtorch\u001b[0m\u001b[0;34m.\u001b[0m\u001b[0mlong\u001b[0m\u001b[0;34m)\u001b[0m\u001b[0;34m,\u001b[0m \u001b[0mint\u001b[0m\u001b[0;34m(\u001b[0m\u001b[0mself\u001b[0m\u001b[0;34m.\u001b[0m\u001b[0mlabel_dims\u001b[0m\u001b[0;34m[\u001b[0m\u001b[0;36m2\u001b[0m\u001b[0;34m]\u001b[0m\u001b[0;34m)\u001b[0m\u001b[0;34m)\u001b[0m\u001b[0;34m)\u001b[0m\u001b[0;34m\u001b[0m\u001b[0;34m\u001b[0m\u001b[0m\n\u001b[1;32m     46\u001b[0m       \u001b[0mys\u001b[0m\u001b[0;34m.\u001b[0m\u001b[0mappend\u001b[0m\u001b[0;34m(\u001b[0m\u001b[0mtorch\u001b[0m\u001b[0;34m.\u001b[0m\u001b[0mnn\u001b[0m\u001b[0;34m.\u001b[0m\u001b[0mfunctional\u001b[0m\u001b[0;34m.\u001b[0m\u001b[0mone_hot\u001b[0m\u001b[0;34m(\u001b[0m\u001b[0mtorch\u001b[0m\u001b[0;34m.\u001b[0m\u001b[0mround\u001b[0m\u001b[0;34m(\u001b[0m\u001b[0mY\u001b[0m\u001b[0;34m[\u001b[0m\u001b[0;36m2\u001b[0m\u001b[0;34m]\u001b[0m\u001b[0;34m)\u001b[0m\u001b[0;34m.\u001b[0m\u001b[0mto\u001b[0m\u001b[0;34m(\u001b[0m\u001b[0mtorch\u001b[0m\u001b[0;34m.\u001b[0m\u001b[0mlong\u001b[0m\u001b[0;34m)\u001b[0m\u001b[0;34m,\u001b[0m \u001b[0mint\u001b[0m\u001b[0;34m(\u001b[0m\u001b[0mself\u001b[0m\u001b[0;34m.\u001b[0m\u001b[0mlabel_dims\u001b[0m\u001b[0;34m[\u001b[0m\u001b[0;36m3\u001b[0m\u001b[0;34m]\u001b[0m\u001b[0;34m)\u001b[0m\u001b[0;34m)\u001b[0m\u001b[0;34m)\u001b[0m\u001b[0;34m\u001b[0m\u001b[0;34m\u001b[0m\u001b[0m\n",
            "\u001b[0;31mRuntimeError\u001b[0m: Class values must be non-negative."
          ]
        }
      ]
    },
    {
      "cell_type": "code",
      "metadata": {
        "id": "W1ypazpniVJk"
      },
      "source": [
        "\n",
        "# intervening on Shape, posX and PosY \n",
        "intervened_model = pyro.do(scm.model, data={\n",
        "    \"Y_1\": torch.tensor(0.),\n",
        "#     \"Y_4\": torch.tensor(5.),\n",
        "#     \"Y_5\": torch.tensor(25.),\n",
        "})\n",
        "noise_data = {}\n",
        "for term, d in cond_noise.items():\n",
        "    noise_data[term] = d.loc\n",
        "# intervened_noise = scm.update_noise_svi(noise_data, intervened_model)"
      ],
      "execution_count": null,
      "outputs": []
    },
    {
      "cell_type": "code",
      "metadata": {
        "colab": {
          "base_uri": "https://localhost:8080/",
          "height": 505
        },
        "id": "9jEQ08HOqZSo",
        "outputId": "1c8158c4-a10e-4da7-9849-aec57c4ea3d7"
      },
      "source": [
        "(rx1,ry,_), _ = intervened_model(scm.init_noise)\n",
        "compare_to_density(ox, rx1)\n",
        "print(ry)"
      ],
      "execution_count": null,
      "outputs": [
        {
          "output_type": "error",
          "ename": "RuntimeError",
          "evalue": "ignored",
          "traceback": [
            "\u001b[0;31m---------------------------------------------------------------------------\u001b[0m",
            "\u001b[0;31mRuntimeError\u001b[0m                              Traceback (most recent call last)",
            "\u001b[0;32m<ipython-input-139-4156b6dd02fa>\u001b[0m in \u001b[0;36m<module>\u001b[0;34m()\u001b[0m\n\u001b[0;32m----> 1\u001b[0;31m \u001b[0;34m(\u001b[0m\u001b[0mrx1\u001b[0m\u001b[0;34m,\u001b[0m\u001b[0mry\u001b[0m\u001b[0;34m,\u001b[0m\u001b[0m_\u001b[0m\u001b[0;34m)\u001b[0m\u001b[0;34m,\u001b[0m \u001b[0m_\u001b[0m \u001b[0;34m=\u001b[0m \u001b[0mintervened_model\u001b[0m\u001b[0;34m(\u001b[0m\u001b[0mscm\u001b[0m\u001b[0;34m.\u001b[0m\u001b[0minit_noise\u001b[0m\u001b[0;34m)\u001b[0m\u001b[0;34m\u001b[0m\u001b[0;34m\u001b[0m\u001b[0m\n\u001b[0m\u001b[1;32m      2\u001b[0m \u001b[0mcompare_to_density\u001b[0m\u001b[0;34m(\u001b[0m\u001b[0mox\u001b[0m\u001b[0;34m,\u001b[0m \u001b[0mrx1\u001b[0m\u001b[0;34m)\u001b[0m\u001b[0;34m\u001b[0m\u001b[0;34m\u001b[0m\u001b[0m\n\u001b[1;32m      3\u001b[0m \u001b[0mprint\u001b[0m\u001b[0;34m(\u001b[0m\u001b[0mry\u001b[0m\u001b[0;34m)\u001b[0m\u001b[0;34m\u001b[0m\u001b[0;34m\u001b[0m\u001b[0m\n",
            "\u001b[0;32m/usr/local/lib/python3.7/dist-packages/pyro/poutine/messenger.py\u001b[0m in \u001b[0;36m_context_wrap\u001b[0;34m(context, fn, *args, **kwargs)\u001b[0m\n\u001b[1;32m     10\u001b[0m \u001b[0;32mdef\u001b[0m \u001b[0m_context_wrap\u001b[0m\u001b[0;34m(\u001b[0m\u001b[0mcontext\u001b[0m\u001b[0;34m,\u001b[0m \u001b[0mfn\u001b[0m\u001b[0;34m,\u001b[0m \u001b[0;34m*\u001b[0m\u001b[0margs\u001b[0m\u001b[0;34m,\u001b[0m \u001b[0;34m**\u001b[0m\u001b[0mkwargs\u001b[0m\u001b[0;34m)\u001b[0m\u001b[0;34m:\u001b[0m\u001b[0;34m\u001b[0m\u001b[0;34m\u001b[0m\u001b[0m\n\u001b[1;32m     11\u001b[0m     \u001b[0;32mwith\u001b[0m \u001b[0mcontext\u001b[0m\u001b[0;34m:\u001b[0m\u001b[0;34m\u001b[0m\u001b[0;34m\u001b[0m\u001b[0m\n\u001b[0;32m---> 12\u001b[0;31m         \u001b[0;32mreturn\u001b[0m \u001b[0mfn\u001b[0m\u001b[0;34m(\u001b[0m\u001b[0;34m*\u001b[0m\u001b[0margs\u001b[0m\u001b[0;34m,\u001b[0m \u001b[0;34m**\u001b[0m\u001b[0mkwargs\u001b[0m\u001b[0;34m)\u001b[0m\u001b[0;34m\u001b[0m\u001b[0;34m\u001b[0m\u001b[0m\n\u001b[0m\u001b[1;32m     13\u001b[0m \u001b[0;34m\u001b[0m\u001b[0m\n\u001b[1;32m     14\u001b[0m \u001b[0;34m\u001b[0m\u001b[0m\n",
            "\u001b[0;32m<ipython-input-132-3fa85e8908e8>\u001b[0m in \u001b[0;36mmodel\u001b[0;34m(self, noise)\u001b[0m\n\u001b[1;32m     83\u001b[0m       \u001b[0mY_5\u001b[0m \u001b[0;34m=\u001b[0m \u001b[0mpyro\u001b[0m\u001b[0;34m.\u001b[0m\u001b[0msample\u001b[0m\u001b[0;34m(\u001b[0m\u001b[0;34m'Y_5'\u001b[0m\u001b[0;34m,\u001b[0m \u001b[0mdist_5\u001b[0m\u001b[0;34m.\u001b[0m\u001b[0mto_event\u001b[0m\u001b[0;34m(\u001b[0m\u001b[0;36m1\u001b[0m\u001b[0;34m)\u001b[0m\u001b[0;34m)\u001b[0m\u001b[0;34m\u001b[0m\u001b[0;34m\u001b[0m\u001b[0m\n\u001b[1;32m     84\u001b[0m \u001b[0;34m\u001b[0m\u001b[0m\n\u001b[0;32m---> 85\u001b[0;31m       \u001b[0mX\u001b[0m \u001b[0;34m=\u001b[0m \u001b[0mpyro\u001b[0m\u001b[0;34m.\u001b[0m\u001b[0msample\u001b[0m\u001b[0;34m(\u001b[0m\u001b[0;34m'X'\u001b[0m\u001b[0;34m,\u001b[0m \u001b[0mdist\u001b[0m\u001b[0;34m.\u001b[0m\u001b[0mNormal\u001b[0m\u001b[0;34m(\u001b[0m\u001b[0mself\u001b[0m\u001b[0;34m.\u001b[0m\u001b[0mf_X\u001b[0m\u001b[0;34m(\u001b[0m \u001b[0;34m(\u001b[0m\u001b[0mY_1\u001b[0m\u001b[0;34m,\u001b[0m \u001b[0mY_2\u001b[0m\u001b[0;34m,\u001b[0m \u001b[0mY_3\u001b[0m\u001b[0;34m,\u001b[0m \u001b[0mY_4\u001b[0m\u001b[0;34m,\u001b[0m \u001b[0mY_5\u001b[0m\u001b[0;34m)\u001b[0m\u001b[0;34m,\u001b[0m \u001b[0mZ\u001b[0m\u001b[0;34m,\u001b[0m \u001b[0mN_X\u001b[0m\u001b[0;34m)\u001b[0m\u001b[0;34m,\u001b[0m \u001b[0;36m1e-2\u001b[0m\u001b[0;34m)\u001b[0m\u001b[0;34m.\u001b[0m\u001b[0mto_event\u001b[0m\u001b[0;34m(\u001b[0m\u001b[0;36m1\u001b[0m\u001b[0;34m)\u001b[0m\u001b[0;34m)\u001b[0m\u001b[0;34m\u001b[0m\u001b[0;34m\u001b[0m\u001b[0m\n\u001b[0m\u001b[1;32m     86\u001b[0m \u001b[0;34m\u001b[0m\u001b[0m\n\u001b[1;32m     87\u001b[0m       \u001b[0;31m# return noise and variables\u001b[0m\u001b[0;34m\u001b[0m\u001b[0;34m\u001b[0m\u001b[0;34m\u001b[0m\u001b[0m\n",
            "\u001b[0;32m<ipython-input-132-3fa85e8908e8>\u001b[0m in \u001b[0;36mf_X\u001b[0;34m(self, Y, Z, N)\u001b[0m\n\u001b[1;32m     43\u001b[0m       \u001b[0mys\u001b[0m \u001b[0;34m=\u001b[0m \u001b[0;34m[\u001b[0m\u001b[0mtorch\u001b[0m\u001b[0;34m.\u001b[0m\u001b[0mtensor\u001b[0m\u001b[0;34m(\u001b[0m\u001b[0;34m[\u001b[0m\u001b[0;36m0\u001b[0m\u001b[0;34m]\u001b[0m\u001b[0;34m)\u001b[0m\u001b[0;34m]\u001b[0m\u001b[0;34m\u001b[0m\u001b[0;34m\u001b[0m\u001b[0m\n\u001b[1;32m     44\u001b[0m       \u001b[0mys\u001b[0m\u001b[0;34m.\u001b[0m\u001b[0mappend\u001b[0m\u001b[0;34m(\u001b[0m\u001b[0mtorch\u001b[0m\u001b[0;34m.\u001b[0m\u001b[0mnn\u001b[0m\u001b[0;34m.\u001b[0m\u001b[0mfunctional\u001b[0m\u001b[0;34m.\u001b[0m\u001b[0mone_hot\u001b[0m\u001b[0;34m(\u001b[0m\u001b[0mtorch\u001b[0m\u001b[0;34m.\u001b[0m\u001b[0mround\u001b[0m\u001b[0;34m(\u001b[0m\u001b[0mY\u001b[0m\u001b[0;34m[\u001b[0m\u001b[0;36m0\u001b[0m\u001b[0;34m]\u001b[0m\u001b[0;34m)\u001b[0m\u001b[0;34m.\u001b[0m\u001b[0mto\u001b[0m\u001b[0;34m(\u001b[0m\u001b[0mtorch\u001b[0m\u001b[0;34m.\u001b[0m\u001b[0mlong\u001b[0m\u001b[0;34m)\u001b[0m\u001b[0;34m,\u001b[0m \u001b[0mint\u001b[0m\u001b[0;34m(\u001b[0m\u001b[0mself\u001b[0m\u001b[0;34m.\u001b[0m\u001b[0mlabel_dims\u001b[0m\u001b[0;34m[\u001b[0m\u001b[0;36m1\u001b[0m\u001b[0;34m]\u001b[0m\u001b[0;34m)\u001b[0m\u001b[0;34m)\u001b[0m\u001b[0;34m)\u001b[0m\u001b[0;34m\u001b[0m\u001b[0;34m\u001b[0m\u001b[0m\n\u001b[0;32m---> 45\u001b[0;31m       \u001b[0mys\u001b[0m\u001b[0;34m.\u001b[0m\u001b[0mappend\u001b[0m\u001b[0;34m(\u001b[0m\u001b[0mtorch\u001b[0m\u001b[0;34m.\u001b[0m\u001b[0mnn\u001b[0m\u001b[0;34m.\u001b[0m\u001b[0mfunctional\u001b[0m\u001b[0;34m.\u001b[0m\u001b[0mone_hot\u001b[0m\u001b[0;34m(\u001b[0m\u001b[0mtorch\u001b[0m\u001b[0;34m.\u001b[0m\u001b[0mround\u001b[0m\u001b[0;34m(\u001b[0m\u001b[0mY\u001b[0m\u001b[0;34m[\u001b[0m\u001b[0;36m1\u001b[0m\u001b[0;34m]\u001b[0m\u001b[0;34m)\u001b[0m\u001b[0;34m.\u001b[0m\u001b[0mto\u001b[0m\u001b[0;34m(\u001b[0m\u001b[0mtorch\u001b[0m\u001b[0;34m.\u001b[0m\u001b[0mlong\u001b[0m\u001b[0;34m)\u001b[0m\u001b[0;34m,\u001b[0m \u001b[0mint\u001b[0m\u001b[0;34m(\u001b[0m\u001b[0mself\u001b[0m\u001b[0;34m.\u001b[0m\u001b[0mlabel_dims\u001b[0m\u001b[0;34m[\u001b[0m\u001b[0;36m2\u001b[0m\u001b[0;34m]\u001b[0m\u001b[0;34m)\u001b[0m\u001b[0;34m)\u001b[0m\u001b[0;34m)\u001b[0m\u001b[0;34m\u001b[0m\u001b[0;34m\u001b[0m\u001b[0m\n\u001b[0m\u001b[1;32m     46\u001b[0m       \u001b[0mys\u001b[0m\u001b[0;34m.\u001b[0m\u001b[0mappend\u001b[0m\u001b[0;34m(\u001b[0m\u001b[0mtorch\u001b[0m\u001b[0;34m.\u001b[0m\u001b[0mnn\u001b[0m\u001b[0;34m.\u001b[0m\u001b[0mfunctional\u001b[0m\u001b[0;34m.\u001b[0m\u001b[0mone_hot\u001b[0m\u001b[0;34m(\u001b[0m\u001b[0mtorch\u001b[0m\u001b[0;34m.\u001b[0m\u001b[0mround\u001b[0m\u001b[0;34m(\u001b[0m\u001b[0mY\u001b[0m\u001b[0;34m[\u001b[0m\u001b[0;36m2\u001b[0m\u001b[0;34m]\u001b[0m\u001b[0;34m)\u001b[0m\u001b[0;34m.\u001b[0m\u001b[0mto\u001b[0m\u001b[0;34m(\u001b[0m\u001b[0mtorch\u001b[0m\u001b[0;34m.\u001b[0m\u001b[0mlong\u001b[0m\u001b[0;34m)\u001b[0m\u001b[0;34m,\u001b[0m \u001b[0mint\u001b[0m\u001b[0;34m(\u001b[0m\u001b[0mself\u001b[0m\u001b[0;34m.\u001b[0m\u001b[0mlabel_dims\u001b[0m\u001b[0;34m[\u001b[0m\u001b[0;36m3\u001b[0m\u001b[0;34m]\u001b[0m\u001b[0;34m)\u001b[0m\u001b[0;34m)\u001b[0m\u001b[0;34m)\u001b[0m\u001b[0;34m\u001b[0m\u001b[0;34m\u001b[0m\u001b[0m\n\u001b[1;32m     47\u001b[0m       \u001b[0mys\u001b[0m\u001b[0;34m.\u001b[0m\u001b[0mappend\u001b[0m\u001b[0;34m(\u001b[0m\u001b[0mtorch\u001b[0m\u001b[0;34m.\u001b[0m\u001b[0mnn\u001b[0m\u001b[0;34m.\u001b[0m\u001b[0mfunctional\u001b[0m\u001b[0;34m.\u001b[0m\u001b[0mone_hot\u001b[0m\u001b[0;34m(\u001b[0m\u001b[0mtorch\u001b[0m\u001b[0;34m.\u001b[0m\u001b[0mround\u001b[0m\u001b[0;34m(\u001b[0m\u001b[0mY\u001b[0m\u001b[0;34m[\u001b[0m\u001b[0;36m3\u001b[0m\u001b[0;34m]\u001b[0m\u001b[0;34m)\u001b[0m\u001b[0;34m.\u001b[0m\u001b[0mto\u001b[0m\u001b[0;34m(\u001b[0m\u001b[0mtorch\u001b[0m\u001b[0;34m.\u001b[0m\u001b[0mlong\u001b[0m\u001b[0;34m)\u001b[0m\u001b[0;34m,\u001b[0m \u001b[0mint\u001b[0m\u001b[0;34m(\u001b[0m\u001b[0mself\u001b[0m\u001b[0;34m.\u001b[0m\u001b[0mlabel_dims\u001b[0m\u001b[0;34m[\u001b[0m\u001b[0;36m4\u001b[0m\u001b[0;34m]\u001b[0m\u001b[0;34m)\u001b[0m\u001b[0;34m)\u001b[0m\u001b[0;34m)\u001b[0m\u001b[0;34m\u001b[0m\u001b[0;34m\u001b[0m\u001b[0m\n",
            "\u001b[0;31mRuntimeError\u001b[0m: Class values must be non-negative."
          ]
        }
      ]
    },
    {
      "cell_type": "code",
      "metadata": {
        "id": "Thtd-BhlqbkU"
      },
      "source": [
        ""
      ],
      "execution_count": null,
      "outputs": []
    }
  ]
}