{
  "nbformat": 4,
  "nbformat_minor": 0,
  "metadata": {
    "accelerator": "GPU",
    "colab": {
      "name": "notebook.ipynb",
      "provenance": [],
      "machine_shape": "hm",
      "include_colab_link": true
    },
    "interpreter": {
      "hash": "ec84d4245cc65d52d46f5d2982686ed4e9854a85d8d00cc2d5ea06e45078992b"
    },
    "kernelspec": {
      "display_name": "Python 3.8.8 64-bit ('.venv': venv)",
      "name": "python3"
    },
    "language_info": {
      "codemirror_mode": {
        "name": "ipython",
        "version": 3
      },
      "file_extension": ".py",
      "mimetype": "text/x-python",
      "name": "python",
      "nbconvert_exporter": "python",
      "pygments_lexer": "ipython3",
      "version": "3.8.8"
    },
    "orig_nbformat": 4,
    "widgets": {
      "application/vnd.jupyter.widget-state+json": {
        "c87cf0cda12b49829836945a5aa37ffa": {
          "model_module": "@jupyter-widgets/controls",
          "model_name": "VBoxModel",
          "model_module_version": "1.5.0",
          "state": {
            "_view_name": "VBoxView",
            "_dom_classes": [
              "widget-interact"
            ],
            "_model_name": "VBoxModel",
            "_view_module": "@jupyter-widgets/controls",
            "_model_module_version": "1.5.0",
            "_view_count": null,
            "_view_module_version": "1.5.0",
            "box_style": "",
            "layout": "IPY_MODEL_20c7b0f38d1742a79ef367ba1319d241",
            "_model_module": "@jupyter-widgets/controls",
            "children": [
              "IPY_MODEL_3a8f8a9dc6b84dbfa614836ce81e7254",
              "IPY_MODEL_895bb0c82df6496189eb39934a75e093"
            ]
          }
        },
        "20c7b0f38d1742a79ef367ba1319d241": {
          "model_module": "@jupyter-widgets/base",
          "model_name": "LayoutModel",
          "model_module_version": "1.2.0",
          "state": {
            "_view_name": "LayoutView",
            "grid_template_rows": null,
            "right": null,
            "justify_content": null,
            "_view_module": "@jupyter-widgets/base",
            "overflow": null,
            "_model_module_version": "1.2.0",
            "_view_count": null,
            "flex_flow": null,
            "width": null,
            "min_width": null,
            "border": null,
            "align_items": null,
            "bottom": null,
            "_model_module": "@jupyter-widgets/base",
            "top": null,
            "grid_column": null,
            "overflow_y": null,
            "overflow_x": null,
            "grid_auto_flow": null,
            "grid_area": null,
            "grid_template_columns": null,
            "flex": null,
            "_model_name": "LayoutModel",
            "justify_items": null,
            "grid_row": null,
            "max_height": null,
            "align_content": null,
            "visibility": null,
            "align_self": null,
            "height": null,
            "min_height": null,
            "padding": null,
            "grid_auto_rows": null,
            "grid_gap": null,
            "max_width": null,
            "order": null,
            "_view_module_version": "1.2.0",
            "grid_template_areas": null,
            "object_position": null,
            "object_fit": null,
            "grid_auto_columns": null,
            "margin": null,
            "display": null,
            "left": null
          }
        },
        "3a8f8a9dc6b84dbfa614836ce81e7254": {
          "model_module": "@jupyter-widgets/controls",
          "model_name": "IntSliderModel",
          "model_module_version": "1.5.0",
          "state": {
            "_view_name": "IntSliderView",
            "style": "IPY_MODEL_5ad5f8fc3a794e4380fe92a244b609b1",
            "_dom_classes": [],
            "description": "x",
            "step": 1,
            "_model_name": "IntSliderModel",
            "orientation": "horizontal",
            "max": 128,
            "_view_module": "@jupyter-widgets/controls",
            "_model_module_version": "1.5.0",
            "value": 32,
            "_view_count": null,
            "disabled": false,
            "_view_module_version": "1.5.0",
            "min": 0,
            "continuous_update": true,
            "readout_format": "d",
            "description_tooltip": null,
            "readout": true,
            "_model_module": "@jupyter-widgets/controls",
            "layout": "IPY_MODEL_a1666f5602774cb6901263e77ab7ccb2"
          }
        },
        "895bb0c82df6496189eb39934a75e093": {
          "model_module": "@jupyter-widgets/output",
          "model_name": "OutputModel",
          "model_module_version": "1.0.0",
          "state": {
            "_view_name": "OutputView",
            "msg_id": "",
            "_dom_classes": [],
            "_model_name": "OutputModel",
            "outputs": [
              {
                "output_type": "display_data",
                "data": {
                  "image/png": "iVBORw0KGgoAAAANSUhEUgAAAV0AAACmCAYAAAB5qlzZAAAABHNCSVQICAgIfAhkiAAAAAlwSFlzAAALEgAACxIB0t1+/AAAADh0RVh0U29mdHdhcmUAbWF0cGxvdGxpYiB2ZXJzaW9uMy4yLjIsIGh0dHA6Ly9tYXRwbG90bGliLm9yZy+WH4yJAAAC30lEQVR4nO3dzU7CQABGUcfw/q88rjBEKT+23IKcszJqYheT61cQHHPODwAan3tfAMA7EV2AkOgChEQXICS6ACHRBQgdLn1xjOHvyXioOefY4+c62zza0tm2dAFCogsQEl2AkOgChEQXICS6ACHRBQiJLkBIdAFCogsQEl2AkOgChEQXICS6ACHRBQiJLkBIdAFCogsQEl2AkOgChEQXICS6ACHRBQiJLkBIdAFCogsQEl2AkOgChEQXIHTY+wKA5zfn/P54jLHjlbw+SxcgZOlu4HQFXGIh8GrOne1zn3O2b2fpAoREFyDk4YXQ8bbMrRjP7taHzH5+v7N9naULELJ0V7h3DQBYugAh0QUIie4O5pwemoA3JboAIdEFNuMu7jrRBQiJLkBIdAFCogsQEl2AkOgChEQXICS6ACHRBQh5a0fgl+Obkf/11WX+e/AySxcgZOmusHYNwH9l3S6zdAFCogssGmNYrRsTXYCQ6AKEPJG2gXufUHO7xqs5PbOXzrmzfZ2lCxCydDfktzzvwDlfx9IFCIkuQEh0AUKiCxASXYCQ6AKERBcgJLoAIdEFCIkuQEh0AUKiCxASXYCQ6AKERBcgJLoAIdEFCIkuQEh0AUKiCxASXYCQ6AKERBcgJLoAIdEFCIkuQEh0AUKiCxASXYCQ6AKERBcgJLoAIdEFCIkuQEh0AUKiCxASXYCQ6AKERBcgJLoAIdEFCIkuQEh0AUKiCxASXYCQ6AKERBcgJLoAIdEFCIkuQEh0AUKiCxASXYCQ6AKERBcgJLoAIdEFCIkuQEh0AUKiCxASXYCQ6AKERBcgJLoAIdEFCIkuQEh0AUKiCxASXYCQ6AKERBcgJLoAIdEFCIkuQEh0AUKiCxASXYCQ6AKERBcgJLoAIdEFCIkuQEh0AUKiCxASXYCQ6AKERBcgJLoAIdEFCIkuQGjMOfe+BoC3YekChEQXICS6ACHRBQiJLkBIdAFCX1XWQlfbiZowAAAAAElFTkSuQmCC\n",
                  "text/plain": "<Figure size 432x288 with 2 Axes>"
                },
                "metadata": {
                  "needs_background": "light"
                }
              }
            ],
            "_view_module": "@jupyter-widgets/output",
            "_model_module_version": "1.0.0",
            "_view_count": null,
            "_view_module_version": "1.0.0",
            "layout": "IPY_MODEL_c5ff86ee9d5c4fefb7db94187e4b4d1b",
            "_model_module": "@jupyter-widgets/output"
          }
        },
        "5ad5f8fc3a794e4380fe92a244b609b1": {
          "model_module": "@jupyter-widgets/controls",
          "model_name": "SliderStyleModel",
          "model_module_version": "1.5.0",
          "state": {
            "_view_name": "StyleView",
            "handle_color": null,
            "_model_name": "SliderStyleModel",
            "description_width": "",
            "_view_module": "@jupyter-widgets/base",
            "_model_module_version": "1.5.0",
            "_view_count": null,
            "_view_module_version": "1.2.0",
            "_model_module": "@jupyter-widgets/controls"
          }
        },
        "a1666f5602774cb6901263e77ab7ccb2": {
          "model_module": "@jupyter-widgets/base",
          "model_name": "LayoutModel",
          "model_module_version": "1.2.0",
          "state": {
            "_view_name": "LayoutView",
            "grid_template_rows": null,
            "right": null,
            "justify_content": null,
            "_view_module": "@jupyter-widgets/base",
            "overflow": null,
            "_model_module_version": "1.2.0",
            "_view_count": null,
            "flex_flow": null,
            "width": null,
            "min_width": null,
            "border": null,
            "align_items": null,
            "bottom": null,
            "_model_module": "@jupyter-widgets/base",
            "top": null,
            "grid_column": null,
            "overflow_y": null,
            "overflow_x": null,
            "grid_auto_flow": null,
            "grid_area": null,
            "grid_template_columns": null,
            "flex": null,
            "_model_name": "LayoutModel",
            "justify_items": null,
            "grid_row": null,
            "max_height": null,
            "align_content": null,
            "visibility": null,
            "align_self": null,
            "height": null,
            "min_height": null,
            "padding": null,
            "grid_auto_rows": null,
            "grid_gap": null,
            "max_width": null,
            "order": null,
            "_view_module_version": "1.2.0",
            "grid_template_areas": null,
            "object_position": null,
            "object_fit": null,
            "grid_auto_columns": null,
            "margin": null,
            "display": null,
            "left": null
          }
        },
        "c5ff86ee9d5c4fefb7db94187e4b4d1b": {
          "model_module": "@jupyter-widgets/base",
          "model_name": "LayoutModel",
          "model_module_version": "1.2.0",
          "state": {
            "_view_name": "LayoutView",
            "grid_template_rows": null,
            "right": null,
            "justify_content": null,
            "_view_module": "@jupyter-widgets/base",
            "overflow": null,
            "_model_module_version": "1.2.0",
            "_view_count": null,
            "flex_flow": null,
            "width": null,
            "min_width": null,
            "border": null,
            "align_items": null,
            "bottom": null,
            "_model_module": "@jupyter-widgets/base",
            "top": null,
            "grid_column": null,
            "overflow_y": null,
            "overflow_x": null,
            "grid_auto_flow": null,
            "grid_area": null,
            "grid_template_columns": null,
            "flex": null,
            "_model_name": "LayoutModel",
            "justify_items": null,
            "grid_row": null,
            "max_height": null,
            "align_content": null,
            "visibility": null,
            "align_self": null,
            "height": null,
            "min_height": null,
            "padding": null,
            "grid_auto_rows": null,
            "grid_gap": null,
            "max_width": null,
            "order": null,
            "_view_module_version": "1.2.0",
            "grid_template_areas": null,
            "object_position": null,
            "object_fit": null,
            "grid_auto_columns": null,
            "margin": null,
            "display": null,
            "left": null
          }
        },
        "0ada82a384954f9b83280a6bde5c5332": {
          "model_module": "@jupyter-widgets/controls",
          "model_name": "VBoxModel",
          "model_module_version": "1.5.0",
          "state": {
            "_view_name": "VBoxView",
            "_dom_classes": [
              "widget-interact"
            ],
            "_model_name": "VBoxModel",
            "_view_module": "@jupyter-widgets/controls",
            "_model_module_version": "1.5.0",
            "_view_count": null,
            "_view_module_version": "1.5.0",
            "box_style": "",
            "layout": "IPY_MODEL_04bb11edeab54c6a919c03eddda1a8dd",
            "_model_module": "@jupyter-widgets/controls",
            "children": [
              "IPY_MODEL_3530d13f813d4aa68aa1da2a520fb720",
              "IPY_MODEL_39b434eae3974355966354b5c39d4fda",
              "IPY_MODEL_4e7fea8b605a4974a37c65182394ce5e",
              "IPY_MODEL_4edda90bfde24a77ae06f368d7077bf8",
              "IPY_MODEL_f6a34df23ed649fd90b21b5f4df18f56",
              "IPY_MODEL_9d52575fa5e94036a432eee3b9b583ae"
            ]
          }
        },
        "04bb11edeab54c6a919c03eddda1a8dd": {
          "model_module": "@jupyter-widgets/base",
          "model_name": "LayoutModel",
          "model_module_version": "1.2.0",
          "state": {
            "_view_name": "LayoutView",
            "grid_template_rows": null,
            "right": null,
            "justify_content": null,
            "_view_module": "@jupyter-widgets/base",
            "overflow": null,
            "_model_module_version": "1.2.0",
            "_view_count": null,
            "flex_flow": null,
            "width": null,
            "min_width": null,
            "border": null,
            "align_items": null,
            "bottom": null,
            "_model_module": "@jupyter-widgets/base",
            "top": null,
            "grid_column": null,
            "overflow_y": null,
            "overflow_x": null,
            "grid_auto_flow": null,
            "grid_area": null,
            "grid_template_columns": null,
            "flex": null,
            "_model_name": "LayoutModel",
            "justify_items": null,
            "grid_row": null,
            "max_height": null,
            "align_content": null,
            "visibility": null,
            "align_self": null,
            "height": null,
            "min_height": null,
            "padding": null,
            "grid_auto_rows": null,
            "grid_gap": null,
            "max_width": null,
            "order": null,
            "_view_module_version": "1.2.0",
            "grid_template_areas": null,
            "object_position": null,
            "object_fit": null,
            "grid_auto_columns": null,
            "margin": null,
            "display": null,
            "left": null
          }
        },
        "3530d13f813d4aa68aa1da2a520fb720": {
          "model_module": "@jupyter-widgets/controls",
          "model_name": "IntSliderModel",
          "model_module_version": "1.5.0",
          "state": {
            "_view_name": "IntSliderView",
            "style": "IPY_MODEL_9d1d3041c96b478d977d88d35c651b64",
            "_dom_classes": [],
            "description": "shape",
            "step": 1,
            "_model_name": "IntSliderModel",
            "orientation": "horizontal",
            "max": 2,
            "_view_module": "@jupyter-widgets/controls",
            "_model_module_version": "1.5.0",
            "value": 2,
            "_view_count": null,
            "disabled": false,
            "_view_module_version": "1.5.0",
            "min": 0,
            "continuous_update": true,
            "readout_format": "d",
            "description_tooltip": null,
            "readout": true,
            "_model_module": "@jupyter-widgets/controls",
            "layout": "IPY_MODEL_85f9f9fee70b44d89bad98114f11823a"
          }
        },
        "39b434eae3974355966354b5c39d4fda": {
          "model_module": "@jupyter-widgets/controls",
          "model_name": "IntSliderModel",
          "model_module_version": "1.5.0",
          "state": {
            "_view_name": "IntSliderView",
            "style": "IPY_MODEL_8af314b073f3424ea68d136154417d2e",
            "_dom_classes": [],
            "description": "scale",
            "step": 1,
            "_model_name": "IntSliderModel",
            "orientation": "horizontal",
            "max": 5,
            "_view_module": "@jupyter-widgets/controls",
            "_model_module_version": "1.5.0",
            "value": 1,
            "_view_count": null,
            "disabled": false,
            "_view_module_version": "1.5.0",
            "min": 0,
            "continuous_update": true,
            "readout_format": "d",
            "description_tooltip": null,
            "readout": true,
            "_model_module": "@jupyter-widgets/controls",
            "layout": "IPY_MODEL_98d0fa02347f402b85f077e0c4e42d38"
          }
        },
        "4e7fea8b605a4974a37c65182394ce5e": {
          "model_module": "@jupyter-widgets/controls",
          "model_name": "IntSliderModel",
          "model_module_version": "1.5.0",
          "state": {
            "_view_name": "IntSliderView",
            "style": "IPY_MODEL_15e0120f68d940e298c1f7aac4890d0c",
            "_dom_classes": [],
            "description": "orient",
            "step": 1,
            "_model_name": "IntSliderModel",
            "orientation": "horizontal",
            "max": 39,
            "_view_module": "@jupyter-widgets/controls",
            "_model_module_version": "1.5.0",
            "value": 9,
            "_view_count": null,
            "disabled": false,
            "_view_module_version": "1.5.0",
            "min": 0,
            "continuous_update": true,
            "readout_format": "d",
            "description_tooltip": null,
            "readout": true,
            "_model_module": "@jupyter-widgets/controls",
            "layout": "IPY_MODEL_71d387650b46420ca91a299a015cd369"
          }
        },
        "4edda90bfde24a77ae06f368d7077bf8": {
          "model_module": "@jupyter-widgets/controls",
          "model_name": "IntSliderModel",
          "model_module_version": "1.5.0",
          "state": {
            "_view_name": "IntSliderView",
            "style": "IPY_MODEL_2023ff7852ee4b7a8dbfa2832681c1e6",
            "_dom_classes": [],
            "description": "posX",
            "step": 1,
            "_model_name": "IntSliderModel",
            "orientation": "horizontal",
            "max": 31,
            "_view_module": "@jupyter-widgets/controls",
            "_model_module_version": "1.5.0",
            "value": 11,
            "_view_count": null,
            "disabled": false,
            "_view_module_version": "1.5.0",
            "min": 0,
            "continuous_update": true,
            "readout_format": "d",
            "description_tooltip": null,
            "readout": true,
            "_model_module": "@jupyter-widgets/controls",
            "layout": "IPY_MODEL_c80a69ce130b4e23b5100596c556fcac"
          }
        },
        "f6a34df23ed649fd90b21b5f4df18f56": {
          "model_module": "@jupyter-widgets/controls",
          "model_name": "IntSliderModel",
          "model_module_version": "1.5.0",
          "state": {
            "_view_name": "IntSliderView",
            "style": "IPY_MODEL_87e8f85398f642559acdbb1df6a68ea8",
            "_dom_classes": [],
            "description": "posY",
            "step": 1,
            "_model_name": "IntSliderModel",
            "orientation": "horizontal",
            "max": 31,
            "_view_module": "@jupyter-widgets/controls",
            "_model_module_version": "1.5.0",
            "value": 14,
            "_view_count": null,
            "disabled": false,
            "_view_module_version": "1.5.0",
            "min": 0,
            "continuous_update": true,
            "readout_format": "d",
            "description_tooltip": null,
            "readout": true,
            "_model_module": "@jupyter-widgets/controls",
            "layout": "IPY_MODEL_6b268dcb99b14bf9956fff74fc7068c6"
          }
        },
        "9d52575fa5e94036a432eee3b9b583ae": {
          "model_module": "@jupyter-widgets/output",
          "model_name": "OutputModel",
          "model_module_version": "1.0.0",
          "state": {
            "_view_name": "OutputView",
            "msg_id": "",
            "_dom_classes": [],
            "_model_name": "OutputModel",
            "outputs": [
              {
                "output_type": "display_data",
                "data": {
                  "image/png": "iVBORw0KGgoAAAANSUhEUgAAAOcAAADnCAYAAADl9EEgAAAABHNCSVQICAgIfAhkiAAAAAlwSFlzAAALEgAACxIB0t1+/AAAADh0RVh0U29mdHdhcmUAbWF0cGxvdGxpYiB2ZXJzaW9uMy4yLjIsIGh0dHA6Ly9tYXRwbG90bGliLm9yZy+WH4yJAAADMElEQVR4nO3awW7CMBQAwbri/3/ZvaIqoBYSsuCZI1Qol9V7rjPmnF9Az/fZDwBsEydEiROixAlR4oSoy70vxxj+lQsHm3OOrc9NTogSJ0SJE6LECVHihChxQpQ4IUqcECVOiBInRIkTosQJUeKEKHFClDghSpwQJU6IEidEiROixAlR4oQocUKUOCFKnBAlTogSJ0SJE6LECVHihChxQpQ4IUqcECVOiBInRIkTosQJUeKEKHFClDghSpwQJU6IEidEiROixAlR4oQocUKUOCFKnBAlTogSJ0SJE6LECVHihChxQpQ4IUqcECVOiBInRIkTosQJUeKEKHFClDghSpwQJU6IEidEiROixAlR4oQocUKUOCFKnBAlTogSJ0SJE6LECVHihChxQpQ4IUqcECVOiLqc/QArmHPe/G6M8cIn4Z2YnBAlToiy1h7g3hr717+17mJyQpQ4IUqcEOXMuZP/nDMf+T1n0PWYnBAlToiy1r6J6zXXirsGkxOixAlR4oQocUKUOCFKnBDlKmUn19cbe78t9Ju3h9ZgckKUOCHKWvsBvD30mUxOiBInRIkTopw5d3L09QnrMTkhSpwQZa19wlmrrOuSNZicECVOiLLWPuGVL7tbZddjckKUOCFKnBDlzBnljInJCVHihChr7U4evVaxvnKLyQlR4oQocUKUM+cBnCPZg8kJUeKEKHFClDghSpwQJU6IEidEiROixAlR4oQocUKUOCFKnBAlTogSJ0SJE6LECVHihChxQpQ4IUqcECVOiBInRIkTosQJUeKEKHFClDghSpwQJU6IEidEiROixAlR4oQocUKUOCFKnBAlTogSJ0SJE6LECVHihChxQpQ4IUqcECVOiBInRIkTosQJUeKEKHFClDghSpwQJU6IEidEiROixAlR4oQocUKUOCFKnBAlTogSJ0SJE6LECVHihChxQpQ4IUqcECVOiBInRIkTosQJUeKEKHFClDghSpwQJU6IEidEiROixAlR4oQocUKUOCFKnBAlTogSJ0SJE6LECVHihChxQpQ4IUqcECVOiBpzzrOfAdhgckKUOCFKnBAlTogSJ0SJE6J+AHV1MuR7eaB2AAAAAElFTkSuQmCC\n",
                  "text/plain": "<Figure size 432x288 with 1 Axes>"
                },
                "metadata": {
                  "needs_background": "light"
                }
              }
            ],
            "_view_module": "@jupyter-widgets/output",
            "_model_module_version": "1.0.0",
            "_view_count": null,
            "_view_module_version": "1.0.0",
            "layout": "IPY_MODEL_c346861ea55646aeb3036fb9a415732d",
            "_model_module": "@jupyter-widgets/output"
          }
        },
        "9d1d3041c96b478d977d88d35c651b64": {
          "model_module": "@jupyter-widgets/controls",
          "model_name": "SliderStyleModel",
          "model_module_version": "1.5.0",
          "state": {
            "_view_name": "StyleView",
            "handle_color": null,
            "_model_name": "SliderStyleModel",
            "description_width": "",
            "_view_module": "@jupyter-widgets/base",
            "_model_module_version": "1.5.0",
            "_view_count": null,
            "_view_module_version": "1.2.0",
            "_model_module": "@jupyter-widgets/controls"
          }
        },
        "85f9f9fee70b44d89bad98114f11823a": {
          "model_module": "@jupyter-widgets/base",
          "model_name": "LayoutModel",
          "model_module_version": "1.2.0",
          "state": {
            "_view_name": "LayoutView",
            "grid_template_rows": null,
            "right": null,
            "justify_content": null,
            "_view_module": "@jupyter-widgets/base",
            "overflow": null,
            "_model_module_version": "1.2.0",
            "_view_count": null,
            "flex_flow": null,
            "width": null,
            "min_width": null,
            "border": null,
            "align_items": null,
            "bottom": null,
            "_model_module": "@jupyter-widgets/base",
            "top": null,
            "grid_column": null,
            "overflow_y": null,
            "overflow_x": null,
            "grid_auto_flow": null,
            "grid_area": null,
            "grid_template_columns": null,
            "flex": null,
            "_model_name": "LayoutModel",
            "justify_items": null,
            "grid_row": null,
            "max_height": null,
            "align_content": null,
            "visibility": null,
            "align_self": null,
            "height": null,
            "min_height": null,
            "padding": null,
            "grid_auto_rows": null,
            "grid_gap": null,
            "max_width": null,
            "order": null,
            "_view_module_version": "1.2.0",
            "grid_template_areas": null,
            "object_position": null,
            "object_fit": null,
            "grid_auto_columns": null,
            "margin": null,
            "display": null,
            "left": null
          }
        },
        "8af314b073f3424ea68d136154417d2e": {
          "model_module": "@jupyter-widgets/controls",
          "model_name": "SliderStyleModel",
          "model_module_version": "1.5.0",
          "state": {
            "_view_name": "StyleView",
            "handle_color": null,
            "_model_name": "SliderStyleModel",
            "description_width": "",
            "_view_module": "@jupyter-widgets/base",
            "_model_module_version": "1.5.0",
            "_view_count": null,
            "_view_module_version": "1.2.0",
            "_model_module": "@jupyter-widgets/controls"
          }
        },
        "98d0fa02347f402b85f077e0c4e42d38": {
          "model_module": "@jupyter-widgets/base",
          "model_name": "LayoutModel",
          "model_module_version": "1.2.0",
          "state": {
            "_view_name": "LayoutView",
            "grid_template_rows": null,
            "right": null,
            "justify_content": null,
            "_view_module": "@jupyter-widgets/base",
            "overflow": null,
            "_model_module_version": "1.2.0",
            "_view_count": null,
            "flex_flow": null,
            "width": null,
            "min_width": null,
            "border": null,
            "align_items": null,
            "bottom": null,
            "_model_module": "@jupyter-widgets/base",
            "top": null,
            "grid_column": null,
            "overflow_y": null,
            "overflow_x": null,
            "grid_auto_flow": null,
            "grid_area": null,
            "grid_template_columns": null,
            "flex": null,
            "_model_name": "LayoutModel",
            "justify_items": null,
            "grid_row": null,
            "max_height": null,
            "align_content": null,
            "visibility": null,
            "align_self": null,
            "height": null,
            "min_height": null,
            "padding": null,
            "grid_auto_rows": null,
            "grid_gap": null,
            "max_width": null,
            "order": null,
            "_view_module_version": "1.2.0",
            "grid_template_areas": null,
            "object_position": null,
            "object_fit": null,
            "grid_auto_columns": null,
            "margin": null,
            "display": null,
            "left": null
          }
        },
        "15e0120f68d940e298c1f7aac4890d0c": {
          "model_module": "@jupyter-widgets/controls",
          "model_name": "SliderStyleModel",
          "model_module_version": "1.5.0",
          "state": {
            "_view_name": "StyleView",
            "handle_color": null,
            "_model_name": "SliderStyleModel",
            "description_width": "",
            "_view_module": "@jupyter-widgets/base",
            "_model_module_version": "1.5.0",
            "_view_count": null,
            "_view_module_version": "1.2.0",
            "_model_module": "@jupyter-widgets/controls"
          }
        },
        "71d387650b46420ca91a299a015cd369": {
          "model_module": "@jupyter-widgets/base",
          "model_name": "LayoutModel",
          "model_module_version": "1.2.0",
          "state": {
            "_view_name": "LayoutView",
            "grid_template_rows": null,
            "right": null,
            "justify_content": null,
            "_view_module": "@jupyter-widgets/base",
            "overflow": null,
            "_model_module_version": "1.2.0",
            "_view_count": null,
            "flex_flow": null,
            "width": null,
            "min_width": null,
            "border": null,
            "align_items": null,
            "bottom": null,
            "_model_module": "@jupyter-widgets/base",
            "top": null,
            "grid_column": null,
            "overflow_y": null,
            "overflow_x": null,
            "grid_auto_flow": null,
            "grid_area": null,
            "grid_template_columns": null,
            "flex": null,
            "_model_name": "LayoutModel",
            "justify_items": null,
            "grid_row": null,
            "max_height": null,
            "align_content": null,
            "visibility": null,
            "align_self": null,
            "height": null,
            "min_height": null,
            "padding": null,
            "grid_auto_rows": null,
            "grid_gap": null,
            "max_width": null,
            "order": null,
            "_view_module_version": "1.2.0",
            "grid_template_areas": null,
            "object_position": null,
            "object_fit": null,
            "grid_auto_columns": null,
            "margin": null,
            "display": null,
            "left": null
          }
        },
        "2023ff7852ee4b7a8dbfa2832681c1e6": {
          "model_module": "@jupyter-widgets/controls",
          "model_name": "SliderStyleModel",
          "model_module_version": "1.5.0",
          "state": {
            "_view_name": "StyleView",
            "handle_color": null,
            "_model_name": "SliderStyleModel",
            "description_width": "",
            "_view_module": "@jupyter-widgets/base",
            "_model_module_version": "1.5.0",
            "_view_count": null,
            "_view_module_version": "1.2.0",
            "_model_module": "@jupyter-widgets/controls"
          }
        },
        "c80a69ce130b4e23b5100596c556fcac": {
          "model_module": "@jupyter-widgets/base",
          "model_name": "LayoutModel",
          "model_module_version": "1.2.0",
          "state": {
            "_view_name": "LayoutView",
            "grid_template_rows": null,
            "right": null,
            "justify_content": null,
            "_view_module": "@jupyter-widgets/base",
            "overflow": null,
            "_model_module_version": "1.2.0",
            "_view_count": null,
            "flex_flow": null,
            "width": null,
            "min_width": null,
            "border": null,
            "align_items": null,
            "bottom": null,
            "_model_module": "@jupyter-widgets/base",
            "top": null,
            "grid_column": null,
            "overflow_y": null,
            "overflow_x": null,
            "grid_auto_flow": null,
            "grid_area": null,
            "grid_template_columns": null,
            "flex": null,
            "_model_name": "LayoutModel",
            "justify_items": null,
            "grid_row": null,
            "max_height": null,
            "align_content": null,
            "visibility": null,
            "align_self": null,
            "height": null,
            "min_height": null,
            "padding": null,
            "grid_auto_rows": null,
            "grid_gap": null,
            "max_width": null,
            "order": null,
            "_view_module_version": "1.2.0",
            "grid_template_areas": null,
            "object_position": null,
            "object_fit": null,
            "grid_auto_columns": null,
            "margin": null,
            "display": null,
            "left": null
          }
        },
        "87e8f85398f642559acdbb1df6a68ea8": {
          "model_module": "@jupyter-widgets/controls",
          "model_name": "SliderStyleModel",
          "model_module_version": "1.5.0",
          "state": {
            "_view_name": "StyleView",
            "handle_color": null,
            "_model_name": "SliderStyleModel",
            "description_width": "",
            "_view_module": "@jupyter-widgets/base",
            "_model_module_version": "1.5.0",
            "_view_count": null,
            "_view_module_version": "1.2.0",
            "_model_module": "@jupyter-widgets/controls"
          }
        },
        "6b268dcb99b14bf9956fff74fc7068c6": {
          "model_module": "@jupyter-widgets/base",
          "model_name": "LayoutModel",
          "model_module_version": "1.2.0",
          "state": {
            "_view_name": "LayoutView",
            "grid_template_rows": null,
            "right": null,
            "justify_content": null,
            "_view_module": "@jupyter-widgets/base",
            "overflow": null,
            "_model_module_version": "1.2.0",
            "_view_count": null,
            "flex_flow": null,
            "width": null,
            "min_width": null,
            "border": null,
            "align_items": null,
            "bottom": null,
            "_model_module": "@jupyter-widgets/base",
            "top": null,
            "grid_column": null,
            "overflow_y": null,
            "overflow_x": null,
            "grid_auto_flow": null,
            "grid_area": null,
            "grid_template_columns": null,
            "flex": null,
            "_model_name": "LayoutModel",
            "justify_items": null,
            "grid_row": null,
            "max_height": null,
            "align_content": null,
            "visibility": null,
            "align_self": null,
            "height": null,
            "min_height": null,
            "padding": null,
            "grid_auto_rows": null,
            "grid_gap": null,
            "max_width": null,
            "order": null,
            "_view_module_version": "1.2.0",
            "grid_template_areas": null,
            "object_position": null,
            "object_fit": null,
            "grid_auto_columns": null,
            "margin": null,
            "display": null,
            "left": null
          }
        },
        "c346861ea55646aeb3036fb9a415732d": {
          "model_module": "@jupyter-widgets/base",
          "model_name": "LayoutModel",
          "model_module_version": "1.2.0",
          "state": {
            "_view_name": "LayoutView",
            "grid_template_rows": null,
            "right": null,
            "justify_content": null,
            "_view_module": "@jupyter-widgets/base",
            "overflow": null,
            "_model_module_version": "1.2.0",
            "_view_count": null,
            "flex_flow": null,
            "width": null,
            "min_width": null,
            "border": null,
            "align_items": null,
            "bottom": null,
            "_model_module": "@jupyter-widgets/base",
            "top": null,
            "grid_column": null,
            "overflow_y": null,
            "overflow_x": null,
            "grid_auto_flow": null,
            "grid_area": null,
            "grid_template_columns": null,
            "flex": null,
            "_model_name": "LayoutModel",
            "justify_items": null,
            "grid_row": null,
            "max_height": null,
            "align_content": null,
            "visibility": null,
            "align_self": null,
            "height": null,
            "min_height": null,
            "padding": null,
            "grid_auto_rows": null,
            "grid_gap": null,
            "max_width": null,
            "order": null,
            "_view_module_version": "1.2.0",
            "grid_template_areas": null,
            "object_position": null,
            "object_fit": null,
            "grid_auto_columns": null,
            "margin": null,
            "display": null,
            "left": null
          }
        }
      }
    }
  },
  "cells": [
    {
      "cell_type": "markdown",
      "metadata": {
        "id": "view-in-github",
        "colab_type": "text"
      },
      "source": [
        "<a href=\"https://colab.research.google.com/github/sayem-eee-kuet/CausalModeling/blob/main/notebook.ipynb\" target=\"_parent\"><img src=\"https://colab.research.google.com/assets/colab-badge.svg\" alt=\"Open In Colab\"/></a>"
      ]
    },
    {
      "cell_type": "code",
      "metadata": {
        "id": "w74YRZgkdFRs",
        "colab": {
          "base_uri": "https://localhost:8080/"
        },
        "outputId": "94edb81a-4c08-4dd4-cdd3-7b743161b5d4"
      },
      "source": [
        "from google.colab import drive\n",
        "drive.mount('/content/drive')\n"
      ],
      "execution_count": 1,
      "outputs": [
        {
          "output_type": "stream",
          "name": "stdout",
          "text": [
            "Drive already mounted at /content/drive; to attempt to forcibly remount, call drive.mount(\"/content/drive\", force_remount=True).\n"
          ]
        }
      ]
    },
    {
      "cell_type": "code",
      "metadata": {
        "id": "xLJReHOHd-je",
        "colab": {
          "base_uri": "https://localhost:8080/"
        },
        "outputId": "63438107-d8af-49f3-a3a2-6ceb9d929bff"
      },
      "source": [
        "!!pip3 install pyro-ppl"
      ],
      "execution_count": 2,
      "outputs": [
        {
          "output_type": "execute_result",
          "data": {
            "text/plain": [
              "['Requirement already satisfied: pyro-ppl in /usr/local/lib/python3.7/dist-packages (1.7.0)',\n",
              " 'Requirement already satisfied: tqdm>=4.36 in /usr/local/lib/python3.7/dist-packages (from pyro-ppl) (4.62.3)',\n",
              " 'Requirement already satisfied: torch>=1.9.0 in /usr/local/lib/python3.7/dist-packages (from pyro-ppl) (1.9.0+cu111)',\n",
              " 'Requirement already satisfied: pyro-api>=0.1.1 in /usr/local/lib/python3.7/dist-packages (from pyro-ppl) (0.1.2)',\n",
              " 'Requirement already satisfied: opt-einsum>=2.3.2 in /usr/local/lib/python3.7/dist-packages (from pyro-ppl) (3.3.0)',\n",
              " 'Requirement already satisfied: numpy>=1.7 in /usr/local/lib/python3.7/dist-packages (from pyro-ppl) (1.19.5)',\n",
              " 'Requirement already satisfied: typing-extensions in /usr/local/lib/python3.7/dist-packages (from torch>=1.9.0->pyro-ppl) (3.10.0.2)']"
            ]
          },
          "metadata": {},
          "execution_count": 2
        }
      ]
    },
    {
      "cell_type": "code",
      "metadata": {
        "colab": {
          "base_uri": "https://localhost:8080/"
        },
        "id": "JOMILfYxcw4e",
        "outputId": "cc3f4cf5-7ac5-4413-9fc2-a3b0f0543c52"
      },
      "source": [
        "import torch\n",
        "print(torch.__version__)\n",
        "import torch.nn as nn\n",
        "import torchvision\n",
        "import torchvision.datasets as datasets\n",
        "from torchvision import datasets, transforms\n",
        "import pyro\n",
        "from pyro.nn import pyro_method\n",
        "import pyro.distributions as dist\n",
        "import pyro.distributions.transforms as T\n",
        "import numpy as np\n",
        "import matplotlib.pyplot as plt\n",
        "import seaborn as sns\n",
        "import os\n",
        "smoke_test = ('CI' in os.environ)\n",
        "\n",
        "\n",
        "import pyro.distributions as dist\n",
        "from pyro.infer import SVI, Trace_ELBO, TraceEnum_ELBO, config_enumerate, EmpiricalMarginal\n",
        "from pyro.optim import Adam, SGD\n",
        "import torch.distributions.constraints as constraints"
      ],
      "execution_count": 3,
      "outputs": [
        {
          "output_type": "stream",
          "name": "stdout",
          "text": [
            "1.9.0+cu111\n"
          ]
        }
      ]
    },
    {
      "cell_type": "code",
      "metadata": {
        "id": "vxy4tVB1Ibwn"
      },
      "source": [
        "from pyro.distributions import (\n",
        "    Bernoulli, Beta, Gamma, Independent, MultivariateNormal,\n",
        "    Normal, TorchDistribution, LowRankMultivariateNormal\n",
        ")"
      ],
      "execution_count": 4,
      "outputs": []
    },
    {
      "cell_type": "code",
      "metadata": {
        "id": "eCe835jTcw4i"
      },
      "source": [
        "# import tensorflow as tf\n",
        "# tf.test.gpu_device_name()\n",
        "\n",
        "# !ln -sf /opt/bin/nvidia-smi /usr/bin/nvidia-smi\n",
        "# !pip install gputil\n",
        "# !pip install psutil\n",
        "# !pip install humanize"
      ],
      "execution_count": 5,
      "outputs": []
    },
    {
      "cell_type": "code",
      "metadata": {
        "id": "NitS2m0-cw4j"
      },
      "source": [
        "# import psutil\n",
        "# import humanize\n",
        "# import os\n",
        "# import GPUtil as GPU\n",
        "# GPUs = GPU.getGPUs()\n",
        "# print(list(GPUs))\n",
        "# # XXX: only one GPU on Colab and isn’t guaranteed\n",
        "# gpu = GPUs[:]\n",
        "# def printm():\n",
        "#  process = psutil.Process(os.getpid())\n",
        "#  print(\"Gen RAM Free: \" + humanize.naturalsize( psutil.virtual_memory().available ), \" | Proc size: \" + humanize.naturalsize( process.memory_info().rss))\n",
        "#  print(\"GPU RAM Free: {0:.0f}MB | Used: {1:.0f}MB | Util {2:3.0f}% | Total {3:.0f}MB\".format(gpu.memoryFree, gpu.memoryUsed, gpu.memoryUtil*100, gpu.memoryTotal))\n",
        "# printm()"
      ],
      "execution_count": 6,
      "outputs": []
    },
    {
      "cell_type": "code",
      "metadata": {
        "id": "fT1DZZa3cw4k"
      },
      "source": [
        "from ipywidgets import interact, interactive, fixed, interact_manual\n",
        "import ipywidgets as widgets\n",
        "from tqdm import tqdm"
      ],
      "execution_count": 7,
      "outputs": []
    },
    {
      "cell_type": "code",
      "metadata": {
        "id": "0rqzJJI2cw4k"
      },
      "source": [
        "USE_CUDA = True"
      ],
      "execution_count": 8,
      "outputs": []
    },
    {
      "cell_type": "markdown",
      "metadata": {
        "id": "ovqtSelycw4l"
      },
      "source": [
        "## Data Loading"
      ]
    },
    {
      "cell_type": "code",
      "metadata": {
        "colab": {
          "base_uri": "https://localhost:8080/"
        },
        "id": "ln4BDuqKcw4m",
        "outputId": "48b171f7-390a-438e-c3e1-417b65a18391"
      },
      "source": [
        "datapath = '/content/drive/MyDrive/Colab Notebooks/CausalVAE/datasets/dsprites_ndarray_co1sh3sc6or40x32y32_64x64.npz'\n",
        "# datapath = '/media/sayem/Drive_2/Code/datasets/dsprites_ndarray_co1sh3sc6or40x32y32_64x64.npz'\n",
        "dataset_zip = np.load(datapath,\n",
        "                      encoding = 'bytes', \n",
        "                      allow_pickle=True\n",
        "                      )\n",
        "                      \n",
        "for i, name in enumerate(dataset_zip.keys()):\n",
        "    print(name, type(name))\n",
        "\n",
        "# imgs = dataset_zip['imgs']\n",
        "# print(igms.shape)\n",
        "# labels = dataset_zip['latents_classes']\n",
        "# label_sizes = dataset_zip['metadata'][()][b'latents_sizes']\n",
        "# label_names = dataset_zip['metadata'][()][b'latents_names']"
      ],
      "execution_count": 9,
      "outputs": [
        {
          "output_type": "stream",
          "name": "stdout",
          "text": [
            "metadata <class 'str'>\n",
            "imgs <class 'str'>\n",
            "latents_classes <class 'str'>\n",
            "latents_values <class 'str'>\n"
          ]
        }
      ]
    },
    {
      "cell_type": "code",
      "metadata": {
        "colab": {
          "base_uri": "https://localhost:8080/"
        },
        "id": "E-1_yx1zcw4n",
        "outputId": "3b50202f-cfce-4fd1-9b35-0fcb16f531ca"
      },
      "source": [
        "imgs = dataset_zip['imgs']\n",
        "print(imgs.shape)\n",
        "labels = dataset_zip['latents_classes']\n",
        "label_sizes = dataset_zip['metadata'][()][b'latents_sizes']\n",
        "label_names = dataset_zip['metadata'][()][b'latents_names']"
      ],
      "execution_count": 10,
      "outputs": [
        {
          "output_type": "stream",
          "name": "stdout",
          "text": [
            "(737280, 64, 64)\n"
          ]
        }
      ]
    },
    {
      "cell_type": "code",
      "metadata": {
        "colab": {
          "base_uri": "https://localhost:8080/"
        },
        "id": "qYb6dyLmcw4o",
        "outputId": "2ec7eeec-e228-4ac4-a131-b7d4cb1b46f1"
      },
      "source": [
        "indices_sampled = np.arange(imgs.shape[0])\n",
        "print(indices_sampled)\n",
        "np.random.shuffle(indices_sampled)\n",
        "imgs_sampled = imgs[indices_sampled]\n",
        "print(imgs_sampled.shape)\n",
        "labels_sampled = labels[indices_sampled]"
      ],
      "execution_count": 11,
      "outputs": [
        {
          "output_type": "stream",
          "name": "stdout",
          "text": [
            "[     0      1      2 ... 737277 737278 737279]\n",
            "(737280, 64, 64)\n"
          ]
        }
      ]
    },
    {
      "cell_type": "code",
      "metadata": {
        "id": "zz2Q0NcZcw4o"
      },
      "source": [
        "def setup_data_loaders(train_x, test_x, train_y, test_y, batch_size, use_cuda=USE_CUDA):\n",
        "\ttrain_dset = torch.utils.data.TensorDataset(\n",
        "\t  torch.from_numpy(train_x.astype(np.float32)).reshape(-1, 1, 64, 64),\n",
        "\t  torch.from_numpy(train_y.astype(np.float32))\n",
        "\t)\n",
        "\ttest_dset = torch.utils.data.TensorDataset(\n",
        "\t  torch.from_numpy(test_x.astype(np.float32)).reshape(-1, 1, 64, 64),\n",
        "\t  torch.from_numpy(test_y.astype(np.float32))\n",
        "\t)    \n",
        "\tkwargs = {'num_workers': 1, 'pin_memory': use_cuda}\n",
        "\t\n",
        "\ttrain_loader = torch.utils.data.DataLoader(\n",
        "\t  dataset=train_dset, batch_size=batch_size, shuffle=False, **kwargs\n",
        "\t)\n",
        "\n",
        "\ttest_loader = torch.utils.data.DataLoader(\n",
        "\t  dataset=test_dset, batch_size=batch_size, shuffle=False, **kwargs\n",
        "\t)\n",
        "\treturn {\"train\":train_loader, \"test\":test_loader}"
      ],
      "execution_count": 12,
      "outputs": []
    },
    {
      "cell_type": "code",
      "metadata": {
        "id": "JkjG7a_Ocw4p"
      },
      "source": [
        "# indices_sampled = np.arange(imgs.shape[0])\n",
        "# print(indices_sampled)\n",
        "# np.random.shuffle(indices_sampled)\n",
        "# imgs_sampled = imgs[indices_sampled]\n",
        "# print(imgs_sampled.shape)\n",
        "# labels_sampled = labels[indices_sampled]"
      ],
      "execution_count": 13,
      "outputs": []
    },
    {
      "cell_type": "code",
      "metadata": {
        "id": "psJAm7zacw4p"
      },
      "source": [
        "data_loaders = setup_data_loaders(\n",
        "    imgs_sampled[1000:],\n",
        "    imgs_sampled[:1000],\n",
        "    labels_sampled[1000:],\n",
        "    labels_sampled[:1000],\n",
        "    batch_size=128,\n",
        "    use_cuda=USE_CUDA\n",
        ")"
      ],
      "execution_count": 28,
      "outputs": []
    },
    {
      "cell_type": "code",
      "metadata": {
        "id": "4UXmKLjrcw4q"
      },
      "source": [
        "# # Traning Image\n",
        "# data_itr = iter(data_loaders['train'])\n",
        "# imgs, lbls = next(data_itr)\n",
        "# print(imgs.shape)\n",
        "# print(lbls.shape)"
      ],
      "execution_count": 15,
      "outputs": []
    },
    {
      "cell_type": "code",
      "metadata": {
        "id": "3wmVKifocw4q"
      },
      "source": [
        "# y_names = ['shape', 'scale', 'orientation', 'posX', 'posY']\n",
        "# y_shapes = np.array((3, 6, 40, 32, 32))\n",
        "# img_dict = {}\n",
        "\n",
        "# for i, img in enumerate(imgs_sampled):\n",
        "#      img_dict[tuple(labels_sampled[i])] = img\n",
        "     \n",
        "# zeros = np.array((3, 6, 40, 32, 32))\n",
        "# img_dict[tuple(0, 0, 0, 0, 0, 0)] = np.zeros(64*64).reshape(64, 64)\n",
        "\n",
        "# print(img_dict.keys())\n",
        "\n",
        "# def find_in_dataset(shape, scale, orient, posX, posY):\n",
        "#   fig = plt.figure()\n",
        "#   img = img_dict[(0, shape, scale, orient, posX, posY)]\n",
        "#   plt.imshow(img.reshape(64, 64), cmap='Greys_r', interpolation='nearest')\n",
        "#   plt.axis('off')\n",
        "\n",
        "# interact(find_in_dataset, \n",
        "#          shape=widgets.IntSlider(min=0, max=2, step=1, value=0),\n",
        "#          scale=widgets.IntSlider(min=0, max=5, step=1, value=0),\n",
        "#          orient=widgets.IntSlider(min=0, max=39, step=1, value=0),\n",
        "#          posX=widgets.IntSlider(min=0, max=31, step=1, value=0),\n",
        "#          posY=widgets.IntSlider(min=0, max=31, step=1, value=0))"
      ],
      "execution_count": 16,
      "outputs": []
    },
    {
      "cell_type": "code",
      "metadata": {
        "id": "MCEmiOTycw4r"
      },
      "source": [
        "# img = img_dict[(0, 1, 2, 25, 11, 23)]\n",
        "# print(img.shape)\n",
        "# plt.imshow(img, cmap='gray')"
      ],
      "execution_count": 17,
      "outputs": []
    },
    {
      "cell_type": "code",
      "metadata": {
        "id": "GXSP7RE2cw4r"
      },
      "source": [
        "# class Encoder(nn.Module):\n",
        "#     def __init__(self, hidden_dim: int):\n",
        "#         super().__init__()\n",
        "#         self.hidden_dim = hidden_dim\n",
        "#         # self.h1_nchan = 64\n",
        "#         # self.conv1 = nn.Sequential(\n",
        "#         #     nn.Conv2d(in_channels=1, out_channels=64, kernel_size=4, stride=2, padding=1),\n",
        "#         #     nn.LeakyReLU(.1, inplace=True)\n",
        "#         # )\n",
        "#         # self.h2_nchan = 128\n",
        "#         # self.conv2 = nn.Sequential(\n",
        "#         #     nn.Conv2d(self.h1_nchan, self.h2_nchan, kernel_size=4, stride=2, padding=1),\n",
        "#         #     nn.BatchNorm2d(self.h2_nchan),\n",
        "#         #     nn.LeakyReLU(.1, inplace=True)\n",
        "#         # )\n",
        "#         # # print(*self.conv2)\n",
        "        \n",
        "#         # self.h3_nchan = 256\n",
        "#         # self.conv3 = nn.Sequential(\n",
        "#         #     nn.Conv2d(self.h2_nchan, self.h3_nchan, kernel_size=4, stride=2, padding=1),\n",
        "#         #     nn.BatchNorm2d(self.h3_nchan),\n",
        "#         #     nn.LeakyReLU(.1, inplace=True)\n",
        "#         # )\n",
        "\n",
        "#         # self.h4_dim = hidden_dim\n",
        "#         self.fc1 = nn.Sequential(\n",
        "#             nn.Linear(self.hidden_dim, 1000),\n",
        "#             nn.BatchNorm1d(1000),\n",
        "#             nn.LeakyReLU(0.1, inplace=True)\n",
        "#         )\n",
        "\n",
        "#         self.fc2 = nn.Sequential(\n",
        "#             nn.Linear(1000, 1000),\n",
        "#             nn.BatchNorm1d(1000),\n",
        "#             nn.LeakyReLU(0.1, inplace=True)\n",
        "#         )\n",
        "#         self.fc_mu = nn.Sequential(\n",
        "#             nn.Linear(1000, self.hidden_dim),\n",
        "#             nn.BatchNorm1d(self.hidden_dim),\n",
        "#             nn.LeakyReLU(0.1, inplace=True)\n",
        "#         )\n",
        "\n",
        "#         self.fc_sigma = nn.Sequential(\n",
        "#             nn.Linear(1000, self.hidden_dim),\n",
        "#             nn.BatchNorm1d(self.hidden_dim),\n",
        "#             nn.LeakyReLU(0.1, inplace=True)\n",
        "#         )\n",
        "\n",
        "#     def forward(self, x):\n",
        "#         # print(\"x shape\", x.shape)\n",
        "#         # x = self.conv1(x)\n",
        "#         # # print(x.shape)\n",
        "#         # x = self.conv2(x)\n",
        "#         # # print(x.shape)\n",
        "#         # x = self.conv3(x)\n",
        "#         # # print(x.shape)\n",
        "#         # x = x.view(-1, 8 * 8 * self.h3_nchan)\n",
        "#         # print(x.shape)\n",
        "#         x = self.fc1(x)\n",
        "#         x = self.fc2(x)\n",
        "#         z_mu = self.fc_mu(x)\n",
        "#         z_sigma = torch.exp(self.fc_sigma(x))\n",
        "#         return z_mu, z_sigma\n",
        "\n",
        "\n",
        "class Encoder(nn.Module):\n",
        "    def __init__(self, hidden_dim: int):\n",
        "        super().__init__()\n",
        "        self.h1_nchan = 64\n",
        "        self.conv1 = nn.Sequential(\n",
        "            nn.Conv2d(in_channels=1, out_channels=64, kernel_size=4, stride=2, padding=1),\n",
        "            nn.LeakyReLU(.1, inplace=True)\n",
        "        )\n",
        "        self.h2_nchan = 128\n",
        "        self.conv2 = nn.Sequential(\n",
        "            nn.Conv2d(self.h1_nchan, self.h2_nchan, kernel_size=4, stride=2, padding=1),\n",
        "            nn.BatchNorm2d(self.h2_nchan),\n",
        "            nn.LeakyReLU(.1, inplace=True)\n",
        "        )\n",
        "        # print(*self.conv2)\n",
        "        \n",
        "        self.h3_nchan = 256\n",
        "        self.conv3 = nn.Sequential(\n",
        "            nn.Conv2d(self.h2_nchan, self.h3_nchan, kernel_size=4, stride=2, padding=1),\n",
        "            nn.BatchNorm2d(self.h3_nchan),\n",
        "            nn.LeakyReLU(.1, inplace=True)\n",
        "        )\n",
        "\n",
        "        self.h4_dim = hidden_dim\n",
        "\n",
        "        self.fc = nn.Sequential(\n",
        "            nn.Linear(8 * 8 * self.h3_nchan, self.h4_dim),\n",
        "            nn.BatchNorm1d(self.h4_dim),\n",
        "            nn.LeakyReLU(.1, inplace=True)\n",
        "        )\n",
        "\n",
        "        # self.fc_sigma = nn.Sequential(\n",
        "        # nn.Linear(8 * 8 * self.h3_nchan, self.h4_dim),\n",
        "        # nn.BatchNorm1d(self.h4_dim),\n",
        "        # nn.LeakyReLU(.1, inplace=True)\n",
        "        # )\n",
        "\n",
        "    def forward(self, x):\n",
        "        # print(\"x shape\", x.shape)\n",
        "        x = self.conv1(x)\n",
        "        # print(x.shape)\n",
        "        x = self.conv2(x)\n",
        "        # print(x.shape)\n",
        "        x = self.conv3(x)\n",
        "        # print(x.shape)\n",
        "        x = x.view(-1, 8 * 8 * self.h3_nchan)\n",
        "        # print(x.shape)\n",
        "        # z_mu = self.fc_mu(x)\n",
        "        # z_sigma = torch.exp(self.fc_sigma(x))\n",
        "        x = self.fc(x)\n",
        "        return x\n",
        "\n",
        "\n",
        "\n",
        "class Decoder(nn.Module):\n",
        "    def __init__(self, latent_dim: int, upconv = False):\n",
        "        super().__init__()\n",
        "        self.laten_dim = latent_dim\n",
        "        self.h1_dim = 256\n",
        "        self.fc1 = nn.Sequential(\n",
        "            nn.Linear(self.laten_dim, self.h1_dim),\n",
        "            nn.BatchNorm1d(self.h1_dim),\n",
        "            nn.ReLU(inplace=True)\n",
        "        )\n",
        "        self.h2_nchan = 128\n",
        "        h2_dim = 8 * 8 * self.h2_nchan\n",
        "        self.fc2 = nn.Sequential(\n",
        "            nn.Linear(self.h1_dim, h2_dim),\n",
        "            nn.BatchNorm1d(h2_dim),\n",
        "            nn.ReLU(inplace=True)\n",
        "        )\n",
        "        self.h3_nchan = 64\n",
        "        self.h4_nchan = 32\n",
        "        if upconv:\n",
        "            conv1_ops = [\n",
        "                nn.Upsample(scale_factor=2, mode='nearest'),\n",
        "                nn.Conv2d(self.h2_nchan, self.h3_nchan, kernel_size=5, stride=1, padding=2)\n",
        "            ]\n",
        "            conv2_ops = [\n",
        "                nn.Upsample(scale_factor=2, mode='nearest'),\n",
        "                nn.Conv2d(self.h3_nchan, 1, kernel_size=5, stride=1, padding=2)\n",
        "            ]\n",
        "        else:\n",
        "            conv1_ops = [nn.ConvTranspose2d(self.h2_nchan, self.h3_nchan,\n",
        "                                            kernel_size=4, stride=2, padding=1)]\n",
        "\n",
        "            conv2_ops = [nn.ConvTranspose2d(self.h3_nchan, self.h4_nchan, kernel_size=4, \n",
        "                                            stride=2, padding=1)]\n",
        "\n",
        "            conv3_ops = [nn.ConvTranspose2d(self.h4_nchan, 1, kernel_size=4, \n",
        "                                            stride=2, padding=1)]\n",
        "\n",
        "        self.conv1 = nn.Sequential(\n",
        "            *conv1_ops,\n",
        "            nn.BatchNorm2d(self.h3_nchan),\n",
        "            nn.ReLU(inplace=True)\n",
        "        )\n",
        "        self.conv2 = nn.Sequential(*conv2_ops)\n",
        "\n",
        "        self.conv3 = nn.Sequential(*conv3_ops)\n",
        "\n",
        "        self.sigmoid = nn.Sigmoid()\n",
        "\n",
        "\n",
        "    def forward(self, x):\n",
        "        x = self.fc1(x)\n",
        "        # print(\"fc1: \", x.shape)\n",
        "        x = self.fc2(x).view(-1, self.h2_nchan, 8, 8)\n",
        "        # print(\"fc2: \", x.shape)\n",
        "        x = self.conv1(x)\n",
        "        # print(\"conv1: \", x.shape)\n",
        "        x = self.conv2(x)\n",
        "        # print(\"conv2: \", x.shape)\n",
        "        x = self.conv3(x)\n",
        "        # print(\"conv3: \", x.shape)\n",
        "        x = self.sigmoid(x.flatten())\n",
        "        # print(\"x shape form decoder\", x.shape)\n",
        "        return x"
      ],
      "execution_count": 18,
      "outputs": []
    },
    {
      "cell_type": "code",
      "metadata": {
        "id": "qsdi0GOOIbws"
      },
      "source": [
        "\n",
        "# class Decoder(nn.Module):\n",
        "#     def __init__(self, latent_dim: int, upconv = False):\n",
        "#         super().__init__()\n",
        "#         self.laten_dim = latent_dimz_mu, z_sigma\n",
        "#         self.h1_dim = 256\n",
        "#         self.fc1 = nn.Sequential(\n",
        "#             nn.Linear(self.laten_dim, self.h1_dim),\n",
        "#             nn.BatchNorm1d(self.h1_dim),\n",
        "#             nn.ReLU(inplace=True)\n",
        "#         )\n",
        "#         self.h2_nchan = 128\n",
        "#         h2_dim = 8 * 8 * self.h2_nchan\n",
        "#         self.fc2 = nn.Sequential(\n",
        "#             nn.Linear(self.h1_dim, h2_dim),\n",
        "#             nn.BatchNorm1d(h2_dim),\n",
        "#             nn.ReLU(inplace=True)\n",
        "#         )\n",
        "#         self.h3_nchan = 64\n",
        "#         self.h4_nchan = 32\n",
        "#         if upconv:\n",
        "#             conv1_ops = [\n",
        "#                 nn.Upsample(scale_factor=2, mode='nearest'),\n",
        "#                 nn.Conv2d(self.h2_nchan, self.h3_nchan, kernel_size=5, stride=1, padding=2)\n",
        "#             ]\n",
        "#             conv2_ops = [\n",
        "#                 nn.Upsample(scale_factor=2, mode='nearest'),\n",
        "#                 nn.Conv2d(self.h3_nchan, 1, kernel_size=5, stride=1, padding=2)\n",
        "#             ]\n",
        "#         else:\n",
        "#             conv1_ops = [nn.ConvTranspose2d(self.h2_nchan, self.h3_nchan,\n",
        "#                                             kernel_size=4, stride=2, padding=1)]\n",
        "\n",
        "#             conv2_ops = [nn.ConvTranspose2d(self.h3_nchan, self.h4_nchan, kernel_size=4, \n",
        "#                                             stride=2, padding=1)]\n",
        "\n",
        "#             conv3_ops = [nn.ConvTranspose2d(self.h4_nchan, 1, kernel_size=4, \n",
        "#                                             stride=2, padding=1)]\n",
        "\n",
        "#         self.conv1 = nn.Sequential(\n",
        "#             *conv1_ops,\n",
        "#             nn.BatchNorm2d(self.h3_nchan),\n",
        "#             nn.ReLU(inplace=True)\n",
        "#         )\n",
        "#         self.conv2 = nn.Sequential(*conv2_ops)\n",
        "\n",
        "#         self.conv3 = nn.Sequential(*conv3_ops)\n",
        "\n",
        "#         self.sigmoid = nn.Sigmoid()\n",
        "\n",
        "\n",
        "#     def forward(self, x):\n",
        "#         x = self.fc1(x)\n",
        "#         print(\"fc1: \", x.shape)\n",
        "#         x = self.fc2(x).view(-1, self.h2_nchan, 8, 8)\n",
        "#         print(\"fc2: \", x.shape)\n",
        "#         x = self.conv1(x)\n",
        "#         print(\"conv1: \", x.shape)\n",
        "#         x = self.conv2(x)\n",
        "#         print(\"conv2: \", x.shape)\n",
        "#         x = self.conv3(x)\n",
        "#         print(\"conv3: \", x.shape)\n",
        "#         x = self.sigmoid(x.flatten())\n",
        "#         print(\"x shape form decoder\", x.shape)\n",
        "#         return x"
      ],
      "execution_count": 19,
      "outputs": []
    },
    {
      "cell_type": "code",
      "metadata": {
        "id": "yKwlf8JuIbwt"
      },
      "source": [
        "class DeepConditional(nn.Module):\n",
        "    def predict(self, x: torch.Tensor) -> TorchDistribution:\n",
        "        raise NotImplementedError\n",
        "\n",
        "\n",
        "class _DeepIndepNormal(DeepConditional):\n",
        "    def __init__(self, backbone: nn.Module, mean_head: nn.Module, logvar_head: nn.Module):\n",
        "        super().__init__()\n",
        "        self.backbone = backbone\n",
        "        self.mean_head = mean_head\n",
        "        self.logvar_head = logvar_head\n",
        "\n",
        "    def forward(self, x):\n",
        "        h = self.backbone(x)\n",
        "        mean = self.mean_head(h)\n",
        "        logvar = self.logvar_head(h)\n",
        "        return mean, logvar\n",
        "\n",
        "    def predict(self, x) -> Independent:\n",
        "        mean, logvar = self(x)\n",
        "        std = (.5 * logvar).exp()\n",
        "        event_ndim = len(mean.shape[1:])  # keep only batch dimension\n",
        "        return Normal(mean, std).to_event(event_ndim)\n",
        "\n",
        "\n",
        "class DeepIndepNormal(_DeepIndepNormal):\n",
        "    def __init__(self, backbone: nn.Module, hidden_dim: int, out_dim: int):\n",
        "        super().__init__(\n",
        "            backbone=backbone,\n",
        "            mean_head=nn.Linear(hidden_dim, out_dim),\n",
        "            logvar_head=nn.Linear(hidden_dim, out_dim)\n",
        "        )\n"
      ],
      "execution_count": 20,
      "outputs": []
    },
    {
      "cell_type": "code",
      "metadata": {
        "id": "UbLVdKAIIbwt"
      },
      "source": [
        "class CVAE(nn.Module):\n",
        "    def __init__(self, hidden_dim: int, config_enum=None, use_cuda=False, aux_loss_multiplier=None) -> None:\n",
        "        super(CVAE, self).__init__()\n",
        "        self.hidden_dim = hidden_dim\n",
        "        self.label_shape = np.array((1, 3, 6, 40, 32, 32))\n",
        "        self.label_names = np.array(('color', 'shape', 'scale', 'orientation', 'posX', 'posY'))\n",
        "        self.label_dim = np.sum(self.label_shape)  # one-hot encoded vectors of the labels\n",
        "\n",
        "        # self.register_buffer('z_loc', torch.zeros([hidden_dim, ], requires_grad=False))\n",
        "        # self.register_buffer('z_scale', torch.ones([hidden_dim, ], requires_grad=False))\n",
        "        self.z_dim = self.hidden_dim + self.label_dim\n",
        "        self.allow_broadcast = config_enum == 'parallel'\n",
        "        self.use_cuda = use_cuda\n",
        "        self.aux_loss_multiplier = aux_loss_multiplier\n",
        "\n",
        "        self.setup_network()\n",
        "\n",
        "        # if use_cuda:\n",
        "        #   self.cuda()\n",
        "\n",
        "        # self.use_cuda = use_cuda\n",
        "    \n",
        "    def setup_network(self):\n",
        "        self.encoder = Encoder(self.hidden_dim)\n",
        "        # self.encoder_hidden = Encoder_hidden(self.hidden_dim)\n",
        "\n",
        "        latent_layers = torch.nn.Sequential(torch.nn.Linear(self.hidden_dim + self.label_dim, \n",
        "                                            self.hidden_dim + self.label_dim), \n",
        "                                            torch.nn.ReLU())\n",
        "        self.latent_encoder = DeepIndepNormal(latent_layers, self.hidden_dim + self.label_dim, \n",
        "                                             self.hidden_dim + self.label_dim)\n",
        "\n",
        "        self.decoder = Decoder(self.hidden_dim + self.label_dim)\n",
        "\n",
        "        if self.use_cuda:\n",
        "          self.cuda()\n",
        "\n",
        "    def pgm(self, ys):\n",
        "        new_ys = []\n",
        "        options = dict(dtype=ys.dtype, device=ys.device)\n",
        "        for i, label_length in enumerate(self.label_shape):\n",
        "            prior = torch.ones(ys.size(0), label_length, **options) / (1.0 * label_length)\n",
        "            new_ys.append(pyro.sample(\"y_%s\" % self.label_names[i], dist.OneHotCategorical(prior), \n",
        "                                    obs=torch.nn.functional.one_hot(ys[:,i].to(torch.int64), int(label_length))))\n",
        "            # print(new_ys)\n",
        "            # break\n",
        "        new_ys = torch.cat(new_ys, -1)\n",
        "        new_ys = new_ys.to(torch.float32)\n",
        "        # print(new_ys.shape)\n",
        "        return new_ys\n",
        "\n",
        "\n",
        "    def model(self, xs, ys):\n",
        "        pyro.module(\"cvae\", self)\n",
        "        batch_size = xs.size(0)\n",
        "        # print(batch_size)\n",
        "        # print(self.z_dim)\n",
        "        options = dict(dtype=xs.dtype, device=xs.device)\n",
        "        # print(options)\n",
        "        with pyro.plate(\"data\", batch_size):\n",
        "            prior_loc = torch.zeros(batch_size, self.z_dim, **options)\n",
        "            prior_scale = torch.ones(batch_size, self.z_dim, **options)\n",
        "            zs = pyro.sample('z', dist.Normal(prior_loc, prior_scale).to_event(1))\n",
        "            # print(\"zs shape: \", zs.shape)\n",
        "            loc = self.decoder.forward(zs)\n",
        "            # print(\"loc shape: \", loc.shape)\n",
        "            # print(\"xs from model: \", xs.shape)\n",
        "            x = pyro.sample('x', dist.Bernoulli(loc).to_event(1), obs=xs.flatten())\n",
        "            # print(x.shape)\n",
        "            # print(\"before return---\")\n",
        "            return loc\n",
        "            \n",
        "    def guide(self, xs, ys):\n",
        "        # print(xs.shape)\n",
        "        # pyro.module(\"cvae\", self)\n",
        "        batch_size = xs.size(0)\n",
        "        with pyro.plate(\"data\", batch_size):\n",
        "            # print(xs.shape)\n",
        "            # hidden = self.encoder_hidden.forward(xs)\n",
        "            hidden = self.encoder.forward(xs)\n",
        "            # print(\"Hidden before: \", hidden.shape)\n",
        "            y_new = self.pgm(ys)\n",
        "            hidden = torch.cat([hidden, y_new], 1)\n",
        "            # print(\"Hidden after:\", hidden)\n",
        "            # distribution q(z|x) = normal(loc(x),scale(x))\n",
        "            # print(\"After: ys + hidden: \", hidden.shape)\n",
        "            latent_dist = self.latent_encoder.predict(hidden)\n",
        "\n",
        "            # loc, scale = self.encoder.forward(hidden)\n",
        "\n",
        "            # print(type(latent_dist))\n",
        "\n",
        "            z = pyro.sample('z', latent_dist)\n",
        "            # z = pyro.sample(\"z\", dist.Normal(loc, scale).to_event(1))\n",
        "            # print(\"z_shape:\", z.shape)\n",
        "        return z \n",
        "    \n",
        "    def reconst_image(self, xs, ys):\n",
        "            hidden = self.encoder.forward(xs)\n",
        "            y_new = self.pgm(ys)\n",
        "            hidden = torch.cat([hidden, y_new], -1)\n",
        "            # distribution q(z|x) = normal(loc(x),scale(x))\n",
        "            # print(hidden.shape)\n",
        "            latent_dist = self.latent_encoder.predict(hidden)\n",
        "            zs = pyro.sample('z',latent_dist)\n",
        "            loc = self.decoder.forward(zs)\n",
        "            return dist.Bernoulli(loc).to_event(1).sample()"
      ],
      "execution_count": 37,
      "outputs": []
    },
    {
      "cell_type": "code",
      "metadata": {
        "id": "5g_YNR7NIbwt"
      },
      "source": [
        "def train(svi, train_loader, use_cuda=False):\n",
        "\t# initialize loss accumulator\n",
        "\tepoch_loss = 0.\n",
        "\t# do a training epoch over each mini-batch x returned\n",
        "\t# by the data loader\n",
        "\tfor xs,ys in train_loader:\n",
        "\t # if on GPU put mini-batch into CUDA memory\n",
        "\t  if use_cuda:\n",
        "\t      xs = xs.cuda()\n",
        "\t      ys = ys.cuda()\n",
        "\t # do ELBO gradient and accumulate loss\n",
        "\t  epoch_loss += svi.step(xs, ys)\n",
        "\t# return epoch loss\n",
        "\tnormalizer_train = len(train_loader.dataset)\n",
        "\ttotal_epoch_loss_train = epoch_loss / normalizer_train\n",
        "\treturn total_epoch_loss_train\n",
        "\n",
        "def evaluate(svi, test_loader, use_cuda=False):\n",
        "\t# initialize loss accumulator\n",
        "\ttest_loss = 0.\n",
        "\t# compute the loss over the entire test set\n",
        "\tfor xs, ys in test_loader:\n",
        "\t  # if on GPU put mini-batch into CUDA memory\n",
        "\t  if use_cuda:\n",
        "\t      xs = xs.cuda()\n",
        "\t      ys = ys.cuda()\n",
        "\t  # compute ELBO estimate and accumulate loss\n",
        "\t  test_loss += svi.evaluate_loss(xs, ys)\n",
        "\tnormalizer_test = len(test_loader.dataset)\n",
        "\ttotal_epoch_loss_test = test_loss / normalizer_test\n",
        "\treturn total_epoch_loss_test"
      ],
      "execution_count": 22,
      "outputs": []
    },
    {
      "cell_type": "code",
      "metadata": {
        "id": "sPthn5BdIbwt"
      },
      "source": [
        "# Run options\n",
        "LEARNING_RATE = 1.0e-3\n",
        "\n",
        "# Run only for a single iteration for testing\n",
        "NUM_EPOCHS = 10\n",
        "TEST_FREQUENCY = 5"
      ],
      "execution_count": 23,
      "outputs": []
    },
    {
      "cell_type": "code",
      "metadata": {
        "id": "QMVjD2lfIbwu",
        "colab": {
          "base_uri": "https://localhost:8080/"
        },
        "outputId": "fa4da24d-8bcf-460e-f17e-cd176fd9d995"
      },
      "source": [
        "\n",
        "import warnings\n",
        "warnings.filterwarnings('ignore')\n",
        "\n",
        "# clear param store\n",
        "pyro.clear_param_store()\n",
        "\n",
        "USE_CUDA = True\n",
        "hidden_dim = 64*64\n",
        "# setup the VAE\n",
        "vae = CVAE(hidden_dim, use_cuda=USE_CUDA)\n",
        "\n",
        "# setup the optimizer\n",
        "adam_args = {\"lr\": LEARNING_RATE}\n",
        "optimizer = Adam(adam_args)\n",
        "\n",
        "# setup the inference algorithm\n",
        "svi = SVI(vae.model, vae.guide, optimizer, loss=Trace_ELBO())\n",
        "\n",
        "train_elbo = []\n",
        "test_elbo = []\n",
        "# training loop\n",
        "\n",
        "VERBOSE = True\n",
        "pbar = tqdm(range(NUM_EPOCHS))\n",
        "for epoch in pbar:\n",
        "    \n",
        "    total_epoch_loss_train = train(svi, data_loaders[\"train\"], use_cuda=USE_CUDA)\n",
        "    train_elbo.append(-total_epoch_loss_train)\n",
        "    if VERBOSE:\n",
        "        print(\"[epoch %03d]  average training loss: %.4f\" % (epoch, total_epoch_loss_train))\n",
        "    if epoch % TEST_FREQUENCY == 0:\n",
        "        # report test diagnostics\n",
        "        total_epoch_loss_test = evaluate(svi, data_loaders[\"test\"], use_cuda=USE_CUDA)\n",
        "        test_elbo.append(-total_epoch_loss_test)\n",
        "        if VERBOSE:\n",
        "            print(\"[epoch %03d] average test loss: %.4f\" % (epoch, total_epoch_loss_test))"
      ],
      "execution_count": 29,
      "outputs": [
        {
          "output_type": "stream",
          "name": "stderr",
          "text": [
            "\r  0%|          | 0/10 [00:00<?, ?it/s]"
          ]
        },
        {
          "output_type": "stream",
          "name": "stdout",
          "text": [
            "[epoch 000]  average training loss: 8210.1162\n"
          ]
        },
        {
          "output_type": "stream",
          "name": "stderr",
          "text": [
            "\r 10%|█         | 1/10 [11:27<1:43:11, 687.99s/it]"
          ]
        },
        {
          "output_type": "stream",
          "name": "stdout",
          "text": [
            "[epoch 000] average test loss: 5567.4574\n"
          ]
        },
        {
          "output_type": "stream",
          "name": "stderr",
          "text": [
            "\r 20%|██        | 2/10 [22:56<1:31:45, 688.13s/it]"
          ]
        },
        {
          "output_type": "stream",
          "name": "stdout",
          "text": [
            "[epoch 001]  average training loss: 4598.7786\n"
          ]
        },
        {
          "output_type": "stream",
          "name": "stderr",
          "text": [
            "\r 30%|███       | 3/10 [34:24<1:20:18, 688.31s/it]"
          ]
        },
        {
          "output_type": "stream",
          "name": "stdout",
          "text": [
            "[epoch 002]  average training loss: 3588.8602\n"
          ]
        },
        {
          "output_type": "stream",
          "name": "stderr",
          "text": [
            "\r 40%|████      | 4/10 [45:52<1:08:49, 688.21s/it]"
          ]
        },
        {
          "output_type": "stream",
          "name": "stdout",
          "text": [
            "[epoch 003]  average training loss: 3033.1538\n"
          ]
        },
        {
          "output_type": "stream",
          "name": "stderr",
          "text": [
            "\r 50%|█████     | 5/10 [57:21<57:21, 688.27s/it]  "
          ]
        },
        {
          "output_type": "stream",
          "name": "stdout",
          "text": [
            "[epoch 004]  average training loss: 2686.4038\n",
            "[epoch 005]  average training loss: 2439.0176\n"
          ]
        },
        {
          "output_type": "stream",
          "name": "stderr",
          "text": [
            "\r 60%|██████    | 6/10 [1:08:50<45:54, 688.58s/it]"
          ]
        },
        {
          "output_type": "stream",
          "name": "stdout",
          "text": [
            "[epoch 005] average test loss: 2431.4917\n"
          ]
        },
        {
          "output_type": "stream",
          "name": "stderr",
          "text": [
            "\r 70%|███████   | 7/10 [1:20:20<34:27, 689.05s/it]"
          ]
        },
        {
          "output_type": "stream",
          "name": "stdout",
          "text": [
            "[epoch 006]  average training loss: 2267.6131\n"
          ]
        },
        {
          "output_type": "stream",
          "name": "stderr",
          "text": [
            "\r 80%|████████  | 8/10 [1:31:48<22:57, 688.72s/it]"
          ]
        },
        {
          "output_type": "stream",
          "name": "stdout",
          "text": [
            "[epoch 007]  average training loss: 2139.2978\n"
          ]
        },
        {
          "output_type": "stream",
          "name": "stderr",
          "text": [
            "\r 90%|█████████ | 9/10 [1:43:16<11:28, 688.43s/it]"
          ]
        },
        {
          "output_type": "stream",
          "name": "stdout",
          "text": [
            "[epoch 008]  average training loss: 2037.1218\n"
          ]
        },
        {
          "output_type": "stream",
          "name": "stderr",
          "text": [
            "100%|██████████| 10/10 [1:54:44<00:00, 688.47s/it]"
          ]
        },
        {
          "output_type": "stream",
          "name": "stdout",
          "text": [
            "[epoch 009]  average training loss: 1954.9803\n"
          ]
        },
        {
          "output_type": "stream",
          "name": "stderr",
          "text": [
            "\n"
          ]
        }
      ]
    },
    {
      "cell_type": "code",
      "metadata": {
        "id": "CNy-6sPXIbwu",
        "colab": {
          "base_uri": "https://localhost:8080/"
        },
        "outputId": "7d91f639-8568-4fb9-f663-db27ec861f23"
      },
      "source": [
        "#################################\n",
        "### FOR SAVING AND LOADING MODEL\n",
        "################################\n",
        "# clear param store\n",
        "\n",
        "pyro.clear_param_store()\n",
        "\n",
        "network_path = '/content/drive/MyDrive/Colab Notebooks/CausalVAE/trained_model.save'\n",
        "# network_path = \"/content/gdrive/My Drive/causalvae/trained_model.save\"\n",
        "\n",
        "#PATH = \"/content/gdrive/My Drive/causalvae/trained_model.save\"\n",
        "\n",
        "# new model\n",
        "# vae = CVAE(use_cuda=USE_CUDA)\n",
        "\n",
        "# save current model\n",
        "\n",
        "\n",
        "# to load params from trained model\n",
        "# vae = CVAE(use_cuda=USE_CUDA)\n",
        "torch.save(vae.state_dict(), network_path)\n",
        "vae.load_state_dict(torch.load(network_path))"
      ],
      "execution_count": 31,
      "outputs": [
        {
          "output_type": "execute_result",
          "data": {
            "text/plain": [
              "<All keys matched successfully>"
            ]
          },
          "metadata": {},
          "execution_count": 31
        }
      ]
    },
    {
      "cell_type": "code",
      "metadata": {
        "id": "RRBjRWFkcw4u"
      },
      "source": [
        "import warnings\n",
        "warnings.filterwarnings(\"ignore\")\n",
        "\n",
        "data_iter = iter(data_loaders[\"test\"])\n",
        "xs, ys = next(data_iter)\n",
        "\n",
        "vae.load_state_dict(torch.load(network_path))\n",
        "# vae = CVAE(hidden_dim, use_cuda=USE_CUDA)\n",
        "\n",
        "if USE_CUDA:\n",
        "    xs = xs.cuda()\n",
        "    ys = ys.cuda()\n",
        "rs = vae.reconst_image(xs, ys)\n",
        "if USE_CUDA:\n",
        "    xs = xs.cpu()\n",
        "    rs = rs.cpu()\n",
        "originals = xs.numpy().reshape(-1, 64,64)\n",
        "recons = rs.reshape(-1,64,64)"
      ],
      "execution_count": 45,
      "outputs": []
    },
    {
      "cell_type": "code",
      "metadata": {
        "colab": {
          "base_uri": "https://localhost:8080/"
        },
        "id": "bgrQFwdu7apA",
        "outputId": "adc023ed-f289-4c39-d598-088b3ca3b3b1"
      },
      "source": [
        "print(recons.shape)"
      ],
      "execution_count": 46,
      "outputs": [
        {
          "output_type": "stream",
          "name": "stdout",
          "text": [
            "torch.Size([128, 64, 64])\n"
          ]
        }
      ]
    },
    {
      "cell_type": "code",
      "metadata": {
        "colab": {
          "base_uri": "https://localhost:8080/",
          "height": 736,
          "referenced_widgets": [
            "c87cf0cda12b49829836945a5aa37ffa",
            "20c7b0f38d1742a79ef367ba1319d241",
            "3a8f8a9dc6b84dbfa614836ce81e7254",
            "895bb0c82df6496189eb39934a75e093",
            "5ad5f8fc3a794e4380fe92a244b609b1",
            "a1666f5602774cb6901263e77ab7ccb2",
            "c5ff86ee9d5c4fefb7db94187e4b4d1b"
          ]
        },
        "id": "7FIa4js38zjr",
        "outputId": "445704df-d540-407d-ece7-06c7a04110a7"
      },
      "source": [
        "\n",
        "# [ 0,  2,  1, 34,  4, 24]\n",
        "def recon_check(original, recon):\n",
        "    fig = plt.figure()\n",
        "    ax0 = fig.add_subplot(121)\n",
        "    plt.imshow(original, cmap='Greys_r',  interpolation='nearest')\n",
        "    plt.axis('off')\n",
        "    ax1 = fig.add_subplot(122)\n",
        "    plt.imshow(recon , cmap='Greys_r', interpolation='nearest')\n",
        "    plt.axis('off')\n",
        "\n",
        "def f(x):\n",
        "    fig = plt.figure()\n",
        "    ax0 = fig.add_subplot(121)\n",
        "    plt.imshow(originals[x], cmap='Greys_r',  interpolation='nearest')\n",
        "    plt.axis('off')\n",
        "    ax1 = fig.add_subplot(122)\n",
        "    plt.imshow(recons[x], cmap='Greys_r',  interpolation='nearest')\n",
        "    plt.axis('off')\n",
        "    \n",
        "interact(f, x=widgets.IntSlider(min=0, max=xs.shape[0], step=1, value=0))"
      ],
      "execution_count": 69,
      "outputs": [
        {
          "output_type": "display_data",
          "data": {
            "application/vnd.jupyter.widget-view+json": {
              "model_id": "c87cf0cda12b49829836945a5aa37ffa",
              "version_minor": 0,
              "version_major": 2
            },
            "text/plain": [
              "interactive(children=(IntSlider(value=0, description='x', max=128), Output()), _dom_classes=('widget-interact'…"
            ]
          },
          "metadata": {}
        },
        {
          "output_type": "execute_result",
          "data": {
            "text/plain": [
              "<function __main__.f>"
            ]
          },
          "metadata": {},
          "execution_count": 69
        },
        {
          "output_type": "display_data",
          "data": {
            "image/png": "[encoded data removed]",
            "text/plain": [
              "<Figure size 432x288 with 1 Axes>"
            ]
          },
          "metadata": {
            "needs_background": "light"
          }
        },
        {
          "output_type": "display_data",
          "data": {
            "image/png": "[encoded data removed]",
            "text/plain": [
              "<Figure size 432x288 with 1 Axes>"
            ]
          },
          "metadata": {
            "needs_background": "light"
          }
        }
      ]
    },
    {
      "cell_type": "code",
      "metadata": {
        "colab": {
          "base_uri": "https://localhost:8080/",
          "height": 425,
          "referenced_widgets": [
            "0ada82a384954f9b83280a6bde5c5332",
            "04bb11edeab54c6a919c03eddda1a8dd",
            "3530d13f813d4aa68aa1da2a520fb720",
            "39b434eae3974355966354b5c39d4fda",
            "4e7fea8b605a4974a37c65182394ce5e",
            "4edda90bfde24a77ae06f368d7077bf8",
            "f6a34df23ed649fd90b21b5f4df18f56",
            "9d52575fa5e94036a432eee3b9b583ae",
            "9d1d3041c96b478d977d88d35c651b64",
            "85f9f9fee70b44d89bad98114f11823a",
            "8af314b073f3424ea68d136154417d2e",
            "98d0fa02347f402b85f077e0c4e42d38",
            "15e0120f68d940e298c1f7aac4890d0c",
            "71d387650b46420ca91a299a015cd369",
            "2023ff7852ee4b7a8dbfa2832681c1e6",
            "c80a69ce130b4e23b5100596c556fcac",
            "87e8f85398f642559acdbb1df6a68ea8",
            "6b268dcb99b14bf9956fff74fc7068c6",
            "c346861ea55646aeb3036fb9a415732d"
          ]
        },
        "id": "IW0gZdYt9CuZ",
        "outputId": "10381514-35cd-4efc-c006-15eca2802363"
      },
      "source": [
        "y_names = ['shape', 'scale', 'orientation', 'posX', 'posY']\n",
        "y_shapes = np.array((3,6,40,32,32))\n",
        "img_dict = {}\n",
        "\n",
        "for i, img in enumerate(imgs_sampled):\n",
        "     img_dict[tuple(labels_sampled[i])] = img\n",
        "\n",
        "def find_in_dataset(shape, scale, orient, posX, posY):\n",
        "    fig = plt.figure()\n",
        "    img = img_dict[(0, shape, scale, orient, posX, posY)]\n",
        "    plt.imshow(img.reshape(64,64), cmap='Greys_r', interpolation='nearest')\n",
        "    plt.axis('off')\n",
        "\n",
        "interact(find_in_dataset, \n",
        "         shape=widgets.IntSlider(min=0, max=2, step=1, value=0),\n",
        "         scale=widgets.IntSlider(min=0, max=5, step=1, value=0),\n",
        "         orient=widgets.IntSlider(min=0, max=39, step=1, value=0),\n",
        "         posX=widgets.IntSlider(min=0, max=31, step=1, value=0),\n",
        "         posY=widgets.IntSlider(min=0, max=31, step=1, value=0))"
      ],
      "execution_count": 71,
      "outputs": [
        {
          "output_type": "display_data",
          "data": {
            "application/vnd.jupyter.widget-view+json": {
              "model_id": "0ada82a384954f9b83280a6bde5c5332",
              "version_minor": 0,
              "version_major": 2
            },
            "text/plain": [
              "interactive(children=(IntSlider(value=0, description='shape', max=2), IntSlider(value=0, description='scale', …"
            ]
          },
          "metadata": {}
        },
        {
          "output_type": "execute_result",
          "data": {
            "text/plain": [
              "<function __main__.find_in_dataset>"
            ]
          },
          "metadata": {},
          "execution_count": 71
        }
      ]
    },
    {
      "cell_type": "code",
      "metadata": {
        "colab": {
          "base_uri": "https://localhost:8080/",
          "height": 279
        },
        "id": "L2WTBykxCq3w",
        "outputId": "bb0a62d7-d72b-4eb3-fd29-28cff8544042"
      },
      "source": [
        "\n",
        "def get_specific_data(args=dict(), cuda=False):\n",
        "    '''\n",
        "    use this function to get examples of data with specific class labels\n",
        "    inputs: \n",
        "        args - dictionary whose keys can include {shape, scale, orientation,\n",
        "                posX, posY} and values can include any integers less than the \n",
        "                corresponding size of that label dimension\n",
        "        cuda - bool to indicate whether the output should be placed on GPU\n",
        "    '''\n",
        "    names_dict = {'shape': 1, 'scale': 2, 'orientation': 3, 'posX': 4, 'posY': 5}\n",
        "    selected_ind = np.ones(imgs.shape[0], dtype=bool)\n",
        "    for k,v in args.items():\n",
        "        col_id = names_dict[k]\n",
        "        selected_ind = np.bitwise_and(selected_ind, labels[:, col_id] == v)\n",
        "    ind = np.random.choice(np.arange(imgs.shape[0])[selected_ind])\n",
        "    x = torch.from_numpy(imgs[ind].reshape(1,64**2).astype(np.float32))\n",
        "    y = torch.from_numpy(labels[ind].reshape(1,6).astype(np.float32))\n",
        "    if not cuda:\n",
        "        return x,y\n",
        "    x = x.cuda()\n",
        "    y = y.cuda()\n",
        "    return x,y\n",
        "\n",
        "def plot_image(x):\n",
        "    \"\"\"\n",
        "    helper to plot dSprites images\n",
        "    \"\"\"\n",
        "    x = x.cpu()\n",
        "    plt.figure()\n",
        "    plt.imshow(x.reshape(64,64), interpolation='nearest', cmap='Greys_r')\n",
        "    plt.axis('off')\n",
        "\n",
        "def see_specific_image(args=dict(), verbose=True):\n",
        "    '''\n",
        "    use this function to get examples of data with specific class labels\n",
        "    inputs: \n",
        "        args - dictionary whose keys can include {shape, scale, orientation,\n",
        "                posX, posY} and values can include any integers less than the \n",
        "                corresponding size of that label dimension\n",
        "        verbose - bool to indicate whether the full class label should be written \n",
        "                    as the title of the plot\n",
        "    '''\n",
        "    x,y = get_specific_data(args, cuda=False)\n",
        "    plot_image(x)\n",
        "    if verbose:\n",
        "        string = ''\n",
        "        for i, s in enumerate(['Shape', 'Scale', 'Orientation', 'PosX', 'PosY']):\n",
        "            string += '%s: %d, ' % (s, int(y[0][i+1]))\n",
        "            if i == 2:\n",
        "                string = string[:-2] + '\\n'\n",
        "        plt.title(string[:-2], fontsize=12)\n",
        "        \n",
        "def compare_reconstruction(original, recon):\n",
        "    \"\"\"\n",
        "    compare two images side by side\n",
        "    inputs:\n",
        "        original - array for original image\n",
        "        recon - array for recon image\n",
        "    \"\"\"\n",
        "    fig = plt.figure()\n",
        "    ax0 = fig.add_subplot(121)\n",
        "    plt.imshow(original.cpu().reshape(64,64), cmap='Greys_r',  interpolation='nearest')\n",
        "    plt.axis('off')\n",
        "    plt.title('original')\n",
        "    ax1 = fig.add_subplot(122)\n",
        "    plt.imshow(recon.cpu().reshape(64,64), cmap='Greys_r',  interpolation='nearest')\n",
        "    plt.axis('off')\n",
        "    plt.title('reconstruction')\n",
        "    \n",
        "def compare_to_density(original, recons):\n",
        "    \"\"\"\n",
        "    compare two images side by side\n",
        "    inputs:\n",
        "        original - array for original image\n",
        "        recon - array of multiple recon images\n",
        "    \"\"\"\n",
        "    fig = plt.figure()\n",
        "    ax0 = fig.add_subplot(121)\n",
        "    plt.imshow(original.cpu().reshape(64,64), cmap='Greys_r',  interpolation='nearest')\n",
        "    plt.axis('off')\n",
        "    plt.title('original')\n",
        "    ax1 = fig.add_subplot(122)\n",
        "    plt.imshow(torch.mean(recons.cpu(), 0).reshape(64,64), cmap='Greys_r',  interpolation='nearest')\n",
        "    plt.axis('off')\n",
        "    plt.title('reconstructions')\n",
        "\n",
        "        \n",
        "see_specific_image()\n",
        "\n",
        "# compare_to_density(torch.from_numpy(originals[0]),recons[0])"
      ],
      "execution_count": 75,
      "outputs": [
        {
          "output_type": "display_data",
          "data": {
            "image/png": "[encoded data removed]",
            "text/plain": [
              "<Figure size 432x288 with 1 Axes>"
            ]
          },
          "metadata": {
            "needs_background": "light"
          }
        }
      ]
    },
    {
      "cell_type": "code",
      "metadata": {
        "colab": {
          "base_uri": "https://localhost:8080/",
          "height": 336
        },
        "id": "Ecg9vUfC9I5T",
        "outputId": "26cb5d2f-0ed0-4b04-d8e4-2ff41571257d"
      },
      "source": [
        "import torch\n",
        "import torch.nn as nn\n",
        "\n",
        "print(type(originals[0]))\n",
        "\n",
        "original = torch.from_numpy(originals[1])\n",
        "recon = recons[1]\n",
        "\n",
        "mse_loss = nn.MSELoss()\n",
        "output = mse_loss(original, recon)\n",
        "# output.backward()\n",
        "\n",
        "print(output)\n",
        "\n",
        "err = original - recon\n",
        "print(err.shape)\n",
        "plt.imshow(err, cmap='hsv',  interpolation='nearest')\n",
        "plt.colorbar(cmap='hsv')"
      ],
      "execution_count": 68,
      "outputs": [
        {
          "output_type": "stream",
          "name": "stdout",
          "text": [
            "<class 'numpy.ndarray'>\n",
            "tensor(0.0010)\n",
            "torch.Size([64, 64])\n"
          ]
        },
        {
          "output_type": "execute_result",
          "data": {
            "text/plain": [
              "<matplotlib.colorbar.Colorbar at 0x7fe4b01c4e10>"
            ]
          },
          "metadata": {},
          "execution_count": 68
        },
        {
          "output_type": "display_data",
          "data": {
            "image/png": "[encoded data removed]",
            "text/plain": [
              "<Figure size 432x288 with 2 Axes>"
            ]
          },
          "metadata": {
            "needs_background": "light"
          }
        }
      ]
    },
    {
      "cell_type": "code",
      "metadata": {
        "id": "hyF9lPGe-JRL"
      },
      "source": [
        ""
      ],
      "execution_count": null,
      "outputs": []
    }
  ]
}